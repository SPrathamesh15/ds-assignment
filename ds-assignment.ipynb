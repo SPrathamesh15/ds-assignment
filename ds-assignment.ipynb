{
 "cells": [
  {
   "cell_type": "markdown",
   "metadata": {},
   "source": [
    "<div align=\"center\"><h1 style=\"color:red\">DS-Assignment EDA and Data featuring</h1></div>\n",
    "\n",
    "---"
   ]
  },
  {
   "cell_type": "code",
   "execution_count": 1,
   "metadata": {},
   "outputs": [],
   "source": [
    "import numpy as np\n",
    "import pandas as pd\n",
    "import seaborn as sns"
   ]
  },
  {
   "cell_type": "code",
   "execution_count": 2,
   "metadata": {},
   "outputs": [],
   "source": [
    "metadata = pd.read_csv(\"metadata.csv\")"
   ]
  },
  {
   "cell_type": "code",
   "execution_count": 3,
   "metadata": {},
   "outputs": [
    {
     "data": {
      "text/html": [
       "<div>\n",
       "<style scoped>\n",
       "    .dataframe tbody tr th:only-of-type {\n",
       "        vertical-align: middle;\n",
       "    }\n",
       "\n",
       "    .dataframe tbody tr th {\n",
       "        vertical-align: top;\n",
       "    }\n",
       "\n",
       "    .dataframe thead th {\n",
       "        text-align: right;\n",
       "    }\n",
       "</style>\n",
       "<table border=\"1\" class=\"dataframe\">\n",
       "  <thead>\n",
       "    <tr style=\"text-align: right;\">\n",
       "      <th></th>\n",
       "      <th>author_id</th>\n",
       "      <th>pratilipi_id</th>\n",
       "      <th>category_name</th>\n",
       "      <th>reading_time</th>\n",
       "      <th>updated_at</th>\n",
       "      <th>published_at</th>\n",
       "    </tr>\n",
       "  </thead>\n",
       "  <tbody>\n",
       "    <tr>\n",
       "      <th>0</th>\n",
       "      <td>-3418949279741297</td>\n",
       "      <td>1025741862639304</td>\n",
       "      <td>translation</td>\n",
       "      <td>0</td>\n",
       "      <td>2020-08-19 15:26:13</td>\n",
       "      <td>2016-09-30 10:37:04</td>\n",
       "    </tr>\n",
       "    <tr>\n",
       "      <th>1</th>\n",
       "      <td>-2270332351871840</td>\n",
       "      <td>1377786215601277</td>\n",
       "      <td>translation</td>\n",
       "      <td>171</td>\n",
       "      <td>2021-01-21 16:27:07</td>\n",
       "      <td>2018-06-11 13:17:48</td>\n",
       "    </tr>\n",
       "    <tr>\n",
       "      <th>2</th>\n",
       "      <td>-2270332352037261</td>\n",
       "      <td>1377786215601962</td>\n",
       "      <td>translation</td>\n",
       "      <td>92</td>\n",
       "      <td>2020-09-29 12:33:57</td>\n",
       "      <td>2018-06-12 04:19:12</td>\n",
       "    </tr>\n",
       "    <tr>\n",
       "      <th>3</th>\n",
       "      <td>-2270332352521845</td>\n",
       "      <td>1377786215640994</td>\n",
       "      <td>translation</td>\n",
       "      <td>0</td>\n",
       "      <td>2019-10-17 09:03:37</td>\n",
       "      <td>2019-09-26 14:58:53</td>\n",
       "    </tr>\n",
       "    <tr>\n",
       "      <th>4</th>\n",
       "      <td>-2270332349665658</td>\n",
       "      <td>1377786215931338</td>\n",
       "      <td>translation</td>\n",
       "      <td>47</td>\n",
       "      <td>2020-05-05 11:33:41</td>\n",
       "      <td>2018-11-25 12:28:23</td>\n",
       "    </tr>\n",
       "  </tbody>\n",
       "</table>\n",
       "</div>"
      ],
      "text/plain": [
       "          author_id      pratilipi_id category_name  reading_time  \\\n",
       "0 -3418949279741297  1025741862639304   translation             0   \n",
       "1 -2270332351871840  1377786215601277   translation           171   \n",
       "2 -2270332352037261  1377786215601962   translation            92   \n",
       "3 -2270332352521845  1377786215640994   translation             0   \n",
       "4 -2270332349665658  1377786215931338   translation            47   \n",
       "\n",
       "            updated_at         published_at  \n",
       "0  2020-08-19 15:26:13  2016-09-30 10:37:04  \n",
       "1  2021-01-21 16:27:07  2018-06-11 13:17:48  \n",
       "2  2020-09-29 12:33:57  2018-06-12 04:19:12  \n",
       "3  2019-10-17 09:03:37  2019-09-26 14:58:53  \n",
       "4  2020-05-05 11:33:41  2018-11-25 12:28:23  "
      ]
     },
     "execution_count": 3,
     "metadata": {},
     "output_type": "execute_result"
    }
   ],
   "source": [
    "metadata.head()"
   ]
  },
  {
   "cell_type": "code",
   "execution_count": 4,
   "metadata": {},
   "outputs": [],
   "source": [
    "userdata = pd.read_csv(\"user-interactions.csv\", nrows=1000000)"
   ]
  },
  {
   "cell_type": "code",
   "execution_count": 5,
   "metadata": {},
   "outputs": [
    {
     "data": {
      "text/html": [
       "<div>\n",
       "<style scoped>\n",
       "    .dataframe tbody tr th:only-of-type {\n",
       "        vertical-align: middle;\n",
       "    }\n",
       "\n",
       "    .dataframe tbody tr th {\n",
       "        vertical-align: top;\n",
       "    }\n",
       "\n",
       "    .dataframe thead th {\n",
       "        text-align: right;\n",
       "    }\n",
       "</style>\n",
       "<table border=\"1\" class=\"dataframe\">\n",
       "  <thead>\n",
       "    <tr style=\"text-align: right;\">\n",
       "      <th></th>\n",
       "      <th>Unnamed: 0</th>\n",
       "      <th>user_id</th>\n",
       "      <th>pratilipi_id</th>\n",
       "      <th>read_percent</th>\n",
       "      <th>updated_at</th>\n",
       "    </tr>\n",
       "  </thead>\n",
       "  <tbody>\n",
       "    <tr>\n",
       "      <th>0</th>\n",
       "      <td>0</td>\n",
       "      <td>5506791963854965</td>\n",
       "      <td>1377786220672965</td>\n",
       "      <td>100.0</td>\n",
       "      <td>2022-03-23 00:08:26.227</td>\n",
       "    </tr>\n",
       "    <tr>\n",
       "      <th>1</th>\n",
       "      <td>1</td>\n",
       "      <td>5506791979071996</td>\n",
       "      <td>1377786219742624</td>\n",
       "      <td>29.0</td>\n",
       "      <td>2022-03-23 00:08:26.220</td>\n",
       "    </tr>\n",
       "    <tr>\n",
       "      <th>2</th>\n",
       "      <td>2</td>\n",
       "      <td>5506791980256358</td>\n",
       "      <td>1377786217096334</td>\n",
       "      <td>22.0</td>\n",
       "      <td>2022-03-23 00:08:26.020</td>\n",
       "    </tr>\n",
       "    <tr>\n",
       "      <th>3</th>\n",
       "      <td>3</td>\n",
       "      <td>5506791988747277</td>\n",
       "      <td>1377786224767880</td>\n",
       "      <td>100.0</td>\n",
       "      <td>2022-03-23 00:08:25.306</td>\n",
       "    </tr>\n",
       "    <tr>\n",
       "      <th>4</th>\n",
       "      <td>4</td>\n",
       "      <td>5506791992372558</td>\n",
       "      <td>1377786218111595</td>\n",
       "      <td>100.0</td>\n",
       "      <td>2022-03-23 00:08:25.250</td>\n",
       "    </tr>\n",
       "  </tbody>\n",
       "</table>\n",
       "</div>"
      ],
      "text/plain": [
       "   Unnamed: 0           user_id      pratilipi_id  read_percent  \\\n",
       "0           0  5506791963854965  1377786220672965         100.0   \n",
       "1           1  5506791979071996  1377786219742624          29.0   \n",
       "2           2  5506791980256358  1377786217096334          22.0   \n",
       "3           3  5506791988747277  1377786224767880         100.0   \n",
       "4           4  5506791992372558  1377786218111595         100.0   \n",
       "\n",
       "                updated_at  \n",
       "0  2022-03-23 00:08:26.227  \n",
       "1  2022-03-23 00:08:26.220  \n",
       "2  2022-03-23 00:08:26.020  \n",
       "3  2022-03-23 00:08:25.306  \n",
       "4  2022-03-23 00:08:25.250  "
      ]
     },
     "execution_count": 5,
     "metadata": {},
     "output_type": "execute_result"
    }
   ],
   "source": [
    "userdata.head()"
   ]
  },
  {
   "cell_type": "code",
   "execution_count": 6,
   "metadata": {},
   "outputs": [
    {
     "data": {
      "text/plain": [
       "((954501, 6), (1000000, 5))"
      ]
     },
     "execution_count": 6,
     "metadata": {},
     "output_type": "execute_result"
    }
   ],
   "source": [
    "metadata.shape, userdata.shape"
   ]
  },
  {
   "cell_type": "code",
   "execution_count": 7,
   "metadata": {},
   "outputs": [
    {
     "data": {
      "text/plain": [
       "array(['translation', 'relegion-and-spiritual', 'crime', 'erotica',\n",
       "       'novels', 'action-and-adventure', 'krishi-jeevan', 'crime-lekhan',\n",
       "       'detective', 'life', 'The-Chat-Story', 'Indiawale', 'drama',\n",
       "       'Parytan', 'family', 'mythology', 'Pratilipi-Awards-Hindi',\n",
       "       'Pratilipi-kalamkar-samman', 'pratilipi-kids', 'pravasi-sahitya',\n",
       "       'romance', 'premkamahina', 'moral-inspiring', 'fantasy',\n",
       "       'children', 'entertainment', 'murder-mystery', 'Rashtriya',\n",
       "       'politics', 'Radio-Fiction', 'shortstories', 'webseries',\n",
       "       'short-story-challenge', 'suspense', 'experiences-and-memories',\n",
       "       'cyber-crime-fiction', 'science-fiction', 'social',\n",
       "       'Serieswriting', 'swahindi2', 'women', 'health-and-wellness',\n",
       "       'comedy', 'horror', 'Horror-Marathon'], dtype=object)"
      ]
     },
     "execution_count": 7,
     "metadata": {},
     "output_type": "execute_result"
    }
   ],
   "source": [
    "metadata['category_name'].unique()"
   ]
  },
  {
   "cell_type": "code",
   "execution_count": 8,
   "metadata": {},
   "outputs": [
    {
     "data": {
      "text/plain": [
       "romance                      193220\n",
       "shortstories                 102097\n",
       "social                        73920\n",
       "suspense                      64041\n",
       "family                        58515\n",
       "novels                        53584\n",
       "life                          51356\n",
       "moral-inspiring               47421\n",
       "women                         37168\n",
       "horror                        28506\n",
       "entertainment                 23362\n",
       "action-and-adventure          21589\n",
       "experiences-and-memories      20276\n",
       "webseries                     16227\n",
       "relegion-and-spiritual        15476\n",
       "comedy                        14893\n",
       "Pratilipi-kalamkar-samman     13237\n",
       "mythology                     12324\n",
       "children                      10196\n",
       "Indiawale                      9674\n",
       "Pratilipi-Awards-Hindi         9342\n",
       "fantasy                        9324\n",
       "swahindi2                      7853\n",
       "drama                          7387\n",
       "crime                          7151\n",
       "politics                       5810\n",
       "translation                    4250\n",
       "short-story-challenge          3534\n",
       "murder-mystery                 3491\n",
       "Serieswriting                  3297\n",
       "Horror-Marathon                2973\n",
       "crime-lekhan                   2966\n",
       "health-and-wellness            2874\n",
       "science-fiction                2813\n",
       "pratilipi-kids                 2676\n",
       "detective                      2229\n",
       "premkamahina                   1971\n",
       "krishi-jeevan                  1751\n",
       "The-Chat-Story                 1635\n",
       "Parytan                        1462\n",
       "pravasi-sahitya                 864\n",
       "cyber-crime-fiction             487\n",
       "Radio-Fiction                   470\n",
       "Rashtriya                       446\n",
       "erotica                         363\n",
       "Name: category_name, dtype: int64"
      ]
     },
     "execution_count": 8,
     "metadata": {},
     "output_type": "execute_result"
    }
   ],
   "source": [
    "metadata['category_name'].value_counts()"
   ]
  },
  {
   "cell_type": "code",
   "execution_count": 9,
   "metadata": {},
   "outputs": [
    {
     "data": {
      "text/plain": [
       "45"
      ]
     },
     "execution_count": 9,
     "metadata": {},
     "output_type": "execute_result"
    }
   ],
   "source": [
    "len(metadata['category_name'].unique())"
   ]
  },
  {
   "cell_type": "code",
   "execution_count": 10,
   "metadata": {},
   "outputs": [],
   "source": [
    "metadata[\"category_name\"] = metadata[\"category_name\"].str.replace('-',' ')"
   ]
  },
  {
   "cell_type": "code",
   "execution_count": 11,
   "metadata": {},
   "outputs": [
    {
     "data": {
      "text/html": [
       "<div>\n",
       "<style scoped>\n",
       "    .dataframe tbody tr th:only-of-type {\n",
       "        vertical-align: middle;\n",
       "    }\n",
       "\n",
       "    .dataframe tbody tr th {\n",
       "        vertical-align: top;\n",
       "    }\n",
       "\n",
       "    .dataframe thead th {\n",
       "        text-align: right;\n",
       "    }\n",
       "</style>\n",
       "<table border=\"1\" class=\"dataframe\">\n",
       "  <thead>\n",
       "    <tr style=\"text-align: right;\">\n",
       "      <th></th>\n",
       "      <th>author_id</th>\n",
       "      <th>pratilipi_id</th>\n",
       "      <th>category_name</th>\n",
       "      <th>reading_time</th>\n",
       "      <th>updated_at</th>\n",
       "      <th>published_at</th>\n",
       "    </tr>\n",
       "  </thead>\n",
       "  <tbody>\n",
       "    <tr>\n",
       "      <th>0</th>\n",
       "      <td>-3418949279741297</td>\n",
       "      <td>1025741862639304</td>\n",
       "      <td>translation</td>\n",
       "      <td>0</td>\n",
       "      <td>2020-08-19 15:26:13</td>\n",
       "      <td>2016-09-30 10:37:04</td>\n",
       "    </tr>\n",
       "    <tr>\n",
       "      <th>1</th>\n",
       "      <td>-2270332351871840</td>\n",
       "      <td>1377786215601277</td>\n",
       "      <td>translation</td>\n",
       "      <td>171</td>\n",
       "      <td>2021-01-21 16:27:07</td>\n",
       "      <td>2018-06-11 13:17:48</td>\n",
       "    </tr>\n",
       "    <tr>\n",
       "      <th>2</th>\n",
       "      <td>-2270332352037261</td>\n",
       "      <td>1377786215601962</td>\n",
       "      <td>translation</td>\n",
       "      <td>92</td>\n",
       "      <td>2020-09-29 12:33:57</td>\n",
       "      <td>2018-06-12 04:19:12</td>\n",
       "    </tr>\n",
       "    <tr>\n",
       "      <th>3</th>\n",
       "      <td>-2270332352521845</td>\n",
       "      <td>1377786215640994</td>\n",
       "      <td>translation</td>\n",
       "      <td>0</td>\n",
       "      <td>2019-10-17 09:03:37</td>\n",
       "      <td>2019-09-26 14:58:53</td>\n",
       "    </tr>\n",
       "    <tr>\n",
       "      <th>4</th>\n",
       "      <td>-2270332349665658</td>\n",
       "      <td>1377786215931338</td>\n",
       "      <td>translation</td>\n",
       "      <td>47</td>\n",
       "      <td>2020-05-05 11:33:41</td>\n",
       "      <td>2018-11-25 12:28:23</td>\n",
       "    </tr>\n",
       "  </tbody>\n",
       "</table>\n",
       "</div>"
      ],
      "text/plain": [
       "          author_id      pratilipi_id category_name  reading_time  \\\n",
       "0 -3418949279741297  1025741862639304   translation             0   \n",
       "1 -2270332351871840  1377786215601277   translation           171   \n",
       "2 -2270332352037261  1377786215601962   translation            92   \n",
       "3 -2270332352521845  1377786215640994   translation             0   \n",
       "4 -2270332349665658  1377786215931338   translation            47   \n",
       "\n",
       "            updated_at         published_at  \n",
       "0  2020-08-19 15:26:13  2016-09-30 10:37:04  \n",
       "1  2021-01-21 16:27:07  2018-06-11 13:17:48  \n",
       "2  2020-09-29 12:33:57  2018-06-12 04:19:12  \n",
       "3  2019-10-17 09:03:37  2019-09-26 14:58:53  \n",
       "4  2020-05-05 11:33:41  2018-11-25 12:28:23  "
      ]
     },
     "execution_count": 11,
     "metadata": {},
     "output_type": "execute_result"
    }
   ],
   "source": [
    "metadata.head()"
   ]
  },
  {
   "cell_type": "code",
   "execution_count": 12,
   "metadata": {},
   "outputs": [
    {
     "data": {
      "text/plain": [
       "array(['translation', 'relegion and spiritual', 'crime', 'erotica',\n",
       "       'novels', 'action and adventure', 'krishi jeevan', 'crime lekhan',\n",
       "       'detective', 'life', 'The Chat Story', 'Indiawale', 'drama',\n",
       "       'Parytan', 'family', 'mythology', 'Pratilipi Awards Hindi',\n",
       "       'Pratilipi kalamkar samman', 'pratilipi kids', 'pravasi sahitya',\n",
       "       'romance', 'premkamahina', 'moral inspiring', 'fantasy',\n",
       "       'children', 'entertainment', 'murder mystery', 'Rashtriya',\n",
       "       'politics', 'Radio Fiction', 'shortstories', 'webseries',\n",
       "       'short story challenge', 'suspense', 'experiences and memories',\n",
       "       'cyber crime fiction', 'science fiction', 'social',\n",
       "       'Serieswriting', 'swahindi2', 'women', 'health and wellness',\n",
       "       'comedy', 'horror', 'Horror Marathon'], dtype=object)"
      ]
     },
     "execution_count": 12,
     "metadata": {},
     "output_type": "execute_result"
    }
   ],
   "source": [
    "metadata['category_name'].unique()"
   ]
  },
  {
   "cell_type": "code",
   "execution_count": 13,
   "metadata": {},
   "outputs": [],
   "source": [
    "# Mentioning plot size\n",
    "import matplotlib.pyplot as plt\n",
    "plt.rcParams[\"figure.figsize\"] = (20,20)"
   ]
  },
  {
   "cell_type": "code",
   "execution_count": 14,
   "metadata": {},
   "outputs": [
    {
     "name": "stdout",
     "output_type": "stream",
     "text": [
      "AxesSubplot(0.125,0.125;0.775x0.755)\n"
     ]
    },
    {
     "data": {
      "image/png": "[encoded data removed]",
      "text/plain": [
       "<Figure size 1440x1440 with 1 Axes>"
      ]
     },
     "metadata": {
      "needs_background": "light"
     },
     "output_type": "display_data"
    }
   ],
   "source": [
    "print(metadata[\"category_name\"].value_counts().plot(kind='barh'))"
   ]
  },
  {
   "cell_type": "markdown",
   "metadata": {},
   "source": [
    "## Checking if one pratilipi can have multiple topics or not ?!"
   ]
  },
  {
   "cell_type": "code",
   "execution_count": 15,
   "metadata": {},
   "outputs": [
    {
     "name": "stdout",
     "output_type": "stream",
     "text": [
      "Duplicate Rows based on a pratilipi ids: 467808\n"
     ]
    }
   ],
   "source": [
    "#To see duplicated rows in pratilipi_id.\n",
    "#Considering only one author is writing one story.\n",
    "dupdata = metadata[metadata.duplicated(['pratilipi_id'])]\n",
    "print(\"Duplicate Rows based on a pratilipi ids:\", len(dupdata))"
   ]
  },
  {
   "cell_type": "markdown",
   "metadata": {},
   "source": [
    "so we know that if we group by pratilipi_id, one story can have multiple category to them."
   ]
  },
  {
   "cell_type": "markdown",
   "metadata": {},
   "source": [
    "## Check if one pratilipi can have multiple authors or not ?"
   ]
  },
  {
   "cell_type": "code",
   "execution_count": 16,
   "metadata": {},
   "outputs": [
    {
     "name": "stdout",
     "output_type": "stream",
     "text": [
      "Duplicate Rows based on a pratilipi ids: 467808\n"
     ]
    }
   ],
   "source": [
    "# Considering only one author is writing one story.\n",
    "dupdata = metadata[metadata.duplicated(['pratilipi_id',\"author_id\"])]\n",
    "print(\"Duplicate Rows based on a pratilipi ids:\", len(dupdata))"
   ]
  },
  {
   "cell_type": "markdown",
   "metadata": {},
   "source": [
    "So we know that if we group by pratilipi_id,author_id still number of duplication is same. Suggesting that one story cannot have multiple author to them."
   ]
  },
  {
   "cell_type": "markdown",
   "metadata": {},
   "source": [
    "## Check distribution of reading time across data"
   ]
  },
  {
   "cell_type": "code",
   "execution_count": 17,
   "metadata": {},
   "outputs": [],
   "source": [
    "lis = [8 * x for x in range(200)]"
   ]
  },
  {
   "cell_type": "code",
   "execution_count": 18,
   "metadata": {},
   "outputs": [
    {
     "data": {
      "image/png": "[encoded data removed]",
      "text/plain": [
       "<Figure size 1440x1440 with 1 Axes>"
      ]
     },
     "metadata": {
      "needs_background": "light"
     },
     "output_type": "display_data"
    }
   ],
   "source": [
    "# distribution of reading time\n",
    "x = metadata[\"reading_time\"]\n",
    "plt.hist(x, bins=lis)\n",
    "plt.gca().set(title='Frequency Histogram', ylabel='Frequency',xlabel=\"Reading Time\");"
   ]
  },
  {
   "cell_type": "code",
   "execution_count": 19,
   "metadata": {},
   "outputs": [
    {
     "data": {
      "image/png": "[encoded data removed]",
      "text/plain": [
       "<Figure size 1440x5760 with 1 Axes>"
      ]
     },
     "metadata": {
      "needs_background": "light"
     },
     "output_type": "display_data"
    }
   ],
   "source": [
    "# understanding IQR range and outliers\n",
    "metadata.boxplot(column=['reading_time'], return_type='axes',figsize=(20,80));"
   ]
  },
  {
   "cell_type": "code",
   "execution_count": 20,
   "metadata": {},
   "outputs": [],
   "source": [
    "def inter_quartile_range(data, col):\n",
    "    Q3 = np.quantile(data[col], 0.75)\n",
    "    Q1 = np.quantile(data[col], 0.25)\n",
    "    IQR = Q3 - Q1\n",
    " \n",
    "    print(\"IQR value for column %s is: %s\" % (col, IQR))\n",
    "     \n",
    "    lower_range = Q1 - 1.5 * IQR\n",
    "    upper_range = Q3 + 1.5 * IQR\n",
    "    if lower_range<0:\n",
    "        lower_range = 0\n",
    "    print(\"IQR range for column is: %s-%s\" % (lower_range, upper_range))"
   ]
  },
  {
   "cell_type": "code",
   "execution_count": 21,
   "metadata": {},
   "outputs": [
    {
     "name": "stdout",
     "output_type": "stream",
     "text": [
      "IQR value for column reading_time is: 350.0\n",
      "IQR range for column is: 0-986.0\n"
     ]
    }
   ],
   "source": [
    "inter_quartile_range(metadata, col=\"reading_time\")"
   ]
  },
  {
   "cell_type": "code",
   "execution_count": 22,
   "metadata": {},
   "outputs": [
    {
     "data": {
      "text/plain": [
       "(0, 78983)"
      ]
     },
     "execution_count": 22,
     "metadata": {},
     "output_type": "execute_result"
    }
   ],
   "source": [
    "metadata[\"reading_time\"].min(),metadata[\"reading_time\"].max()"
   ]
  },
  {
   "cell_type": "code",
   "execution_count": 23,
   "metadata": {},
   "outputs": [
    {
     "data": {
      "text/plain": [
       "44710"
      ]
     },
     "execution_count": 23,
     "metadata": {},
     "output_type": "execute_result"
    }
   ],
   "source": [
    "len(metadata[metadata[\"reading_time\"]>986])"
   ]
  },
  {
   "cell_type": "code",
   "execution_count": 24,
   "metadata": {},
   "outputs": [
    {
     "data": {
      "text/plain": [
       "4055"
      ]
     },
     "execution_count": 24,
     "metadata": {},
     "output_type": "execute_result"
    }
   ],
   "source": [
    "len(metadata[metadata[\"reading_time\"]<=0])\n"
   ]
  },
  {
   "cell_type": "markdown",
   "metadata": {},
   "source": [
    "We can find that there are quite a few (about 44710) outliers in the dataset according to +- 1.5 * IQR range.\n",
    "Apart from this we find about about 4055 instance of 0 reading time"
   ]
  },
  {
   "cell_type": "markdown",
   "metadata": {},
   "source": [
    "## Check distribution of reading percent across data"
   ]
  },
  {
   "cell_type": "code",
   "execution_count": 25,
   "metadata": {},
   "outputs": [
    {
     "data": {
      "text/html": [
       "<div>\n",
       "<style scoped>\n",
       "    .dataframe tbody tr th:only-of-type {\n",
       "        vertical-align: middle;\n",
       "    }\n",
       "\n",
       "    .dataframe tbody tr th {\n",
       "        vertical-align: top;\n",
       "    }\n",
       "\n",
       "    .dataframe thead th {\n",
       "        text-align: right;\n",
       "    }\n",
       "</style>\n",
       "<table border=\"1\" class=\"dataframe\">\n",
       "  <thead>\n",
       "    <tr style=\"text-align: right;\">\n",
       "      <th></th>\n",
       "      <th>Unnamed: 0</th>\n",
       "      <th>user_id</th>\n",
       "      <th>pratilipi_id</th>\n",
       "      <th>read_percent</th>\n",
       "      <th>updated_at</th>\n",
       "    </tr>\n",
       "  </thead>\n",
       "  <tbody>\n",
       "    <tr>\n",
       "      <th>0</th>\n",
       "      <td>0</td>\n",
       "      <td>5506791963854965</td>\n",
       "      <td>1377786220672965</td>\n",
       "      <td>100.0</td>\n",
       "      <td>2022-03-23 00:08:26.227</td>\n",
       "    </tr>\n",
       "    <tr>\n",
       "      <th>1</th>\n",
       "      <td>1</td>\n",
       "      <td>5506791979071996</td>\n",
       "      <td>1377786219742624</td>\n",
       "      <td>29.0</td>\n",
       "      <td>2022-03-23 00:08:26.220</td>\n",
       "    </tr>\n",
       "    <tr>\n",
       "      <th>2</th>\n",
       "      <td>2</td>\n",
       "      <td>5506791980256358</td>\n",
       "      <td>1377786217096334</td>\n",
       "      <td>22.0</td>\n",
       "      <td>2022-03-23 00:08:26.020</td>\n",
       "    </tr>\n",
       "    <tr>\n",
       "      <th>3</th>\n",
       "      <td>3</td>\n",
       "      <td>5506791988747277</td>\n",
       "      <td>1377786224767880</td>\n",
       "      <td>100.0</td>\n",
       "      <td>2022-03-23 00:08:25.306</td>\n",
       "    </tr>\n",
       "    <tr>\n",
       "      <th>4</th>\n",
       "      <td>4</td>\n",
       "      <td>5506791992372558</td>\n",
       "      <td>1377786218111595</td>\n",
       "      <td>100.0</td>\n",
       "      <td>2022-03-23 00:08:25.250</td>\n",
       "    </tr>\n",
       "  </tbody>\n",
       "</table>\n",
       "</div>"
      ],
      "text/plain": [
       "   Unnamed: 0           user_id      pratilipi_id  read_percent  \\\n",
       "0           0  5506791963854965  1377786220672965         100.0   \n",
       "1           1  5506791979071996  1377786219742624          29.0   \n",
       "2           2  5506791980256358  1377786217096334          22.0   \n",
       "3           3  5506791988747277  1377786224767880         100.0   \n",
       "4           4  5506791992372558  1377786218111595         100.0   \n",
       "\n",
       "                updated_at  \n",
       "0  2022-03-23 00:08:26.227  \n",
       "1  2022-03-23 00:08:26.220  \n",
       "2  2022-03-23 00:08:26.020  \n",
       "3  2022-03-23 00:08:25.306  \n",
       "4  2022-03-23 00:08:25.250  "
      ]
     },
     "execution_count": 25,
     "metadata": {},
     "output_type": "execute_result"
    }
   ],
   "source": [
    "userdata.head()"
   ]
  },
  {
   "cell_type": "code",
   "execution_count": 26,
   "metadata": {},
   "outputs": [
    {
     "data": {
      "image/png": "[encoded data removed]",
      "text/plain": [
       "<Figure size 1440x1440 with 1 Axes>"
      ]
     },
     "metadata": {
      "needs_background": "light"
     },
     "output_type": "display_data"
    }
   ],
   "source": [
    "x = userdata[\"read_percent\"]\n",
    "plt.hist(x, bins= [2*x for x in range(50)])\n",
    "plt.gca().set(title='Frequency Histogram', ylabel='Frequency',xlabel=\"Reading Time\");"
   ]
  },
  {
   "cell_type": "code",
   "execution_count": 27,
   "metadata": {},
   "outputs": [
    {
     "data": {
      "text/plain": [
       "14"
      ]
     },
     "execution_count": 27,
     "metadata": {},
     "output_type": "execute_result"
    }
   ],
   "source": [
    "len(userdata[userdata[\"read_percent\"]>100])"
   ]
  },
  {
   "cell_type": "markdown",
   "metadata": {},
   "source": [
    "So we have outliers in interaction dataset read percent with few greater than 100 which is most possibly annomaly!"
   ]
  },
  {
   "cell_type": "code",
   "execution_count": 28,
   "metadata": {},
   "outputs": [
    {
     "data": {
      "text/plain": [
       "3501"
      ]
     },
     "execution_count": 28,
     "metadata": {},
     "output_type": "execute_result"
    }
   ],
   "source": [
    "len(userdata[userdata[\"read_percent\"]==0])"
   ]
  },
  {
   "cell_type": "markdown",
   "metadata": {},
   "source": [
    "Many instances of read percent zero maybe due to technical glitch or closing session before starting the pratilipi"
   ]
  },
  {
   "cell_type": "markdown",
   "metadata": {},
   "source": [
    "## Distribution of date across updated_at in interaction data and published at in metadata"
   ]
  },
  {
   "cell_type": "code",
   "execution_count": 29,
   "metadata": {},
   "outputs": [
    {
     "data": {
      "text/plain": [
       "Index(['Unnamed: 0', 'user_id', 'pratilipi_id', 'read_percent', 'updated_at'], dtype='object')"
      ]
     },
     "execution_count": 29,
     "metadata": {},
     "output_type": "execute_result"
    }
   ],
   "source": [
    "userdata.columns"
   ]
  },
  {
   "cell_type": "code",
   "execution_count": 30,
   "metadata": {},
   "outputs": [
    {
     "data": {
      "text/plain": [
       "('2022-03-23 00:08:26.227', '2022-03-22 14:35:22.683')"
      ]
     },
     "execution_count": 30,
     "metadata": {},
     "output_type": "execute_result"
    }
   ],
   "source": [
    "#min and max\n",
    "userdata['updated_at'].max(),  userdata['updated_at'].min()"
   ]
  },
  {
   "cell_type": "code",
   "execution_count": 31,
   "metadata": {},
   "outputs": [
    {
     "data": {
      "text/plain": [
       "dtype('O')"
      ]
     },
     "execution_count": 31,
     "metadata": {},
     "output_type": "execute_result"
    }
   ],
   "source": [
    "userdata['updated_at'].dtype"
   ]
  },
  {
   "cell_type": "code",
   "execution_count": 32,
   "metadata": {},
   "outputs": [],
   "source": [
    "userdata['updated_at'] = userdata['updated_at'].astype(\"datetime64\")"
   ]
  },
  {
   "cell_type": "code",
   "execution_count": 33,
   "metadata": {},
   "outputs": [
    {
     "data": {
      "text/plain": [
       "dtype('<M8[ns]')"
      ]
     },
     "execution_count": 33,
     "metadata": {},
     "output_type": "execute_result"
    }
   ],
   "source": [
    "userdata['updated_at'].dtype"
   ]
  },
  {
   "cell_type": "code",
   "execution_count": 34,
   "metadata": {},
   "outputs": [
    {
     "data": {
      "text/plain": [
       "<AxesSubplot:xlabel='updated_at'>"
      ]
     },
     "execution_count": 34,
     "metadata": {},
     "output_type": "execute_result"
    },
    {
     "data": {
      "image/png": "[encoded data removed]",
      "text/plain": [
       "<Figure size 1440x1440 with 1 Axes>"
      ]
     },
     "metadata": {
      "needs_background": "light"
     },
     "output_type": "display_data"
    }
   ],
   "source": [
    "userdata[\"updated_at\"].groupby(userdata[\"updated_at\"].dt.hour).count().plot(kind=\"bar\")"
   ]
  },
  {
   "cell_type": "markdown",
   "metadata": {},
   "source": [
    "The peak time for the pratilipi users is around 4pm to 6pm everyday."
   ]
  },
  {
   "cell_type": "code",
   "execution_count": 35,
   "metadata": {},
   "outputs": [
    {
     "data": {
      "text/html": [
       "<div>\n",
       "<style scoped>\n",
       "    .dataframe tbody tr th:only-of-type {\n",
       "        vertical-align: middle;\n",
       "    }\n",
       "\n",
       "    .dataframe tbody tr th {\n",
       "        vertical-align: top;\n",
       "    }\n",
       "\n",
       "    .dataframe thead th {\n",
       "        text-align: right;\n",
       "    }\n",
       "</style>\n",
       "<table border=\"1\" class=\"dataframe\">\n",
       "  <thead>\n",
       "    <tr style=\"text-align: right;\">\n",
       "      <th></th>\n",
       "      <th>author_id</th>\n",
       "      <th>pratilipi_id</th>\n",
       "      <th>category_name</th>\n",
       "      <th>reading_time</th>\n",
       "      <th>updated_at</th>\n",
       "      <th>published_at</th>\n",
       "    </tr>\n",
       "  </thead>\n",
       "  <tbody>\n",
       "    <tr>\n",
       "      <th>0</th>\n",
       "      <td>-3418949279741297</td>\n",
       "      <td>1025741862639304</td>\n",
       "      <td>translation</td>\n",
       "      <td>0</td>\n",
       "      <td>2020-08-19 15:26:13</td>\n",
       "      <td>2016-09-30 10:37:04</td>\n",
       "    </tr>\n",
       "    <tr>\n",
       "      <th>1</th>\n",
       "      <td>-2270332351871840</td>\n",
       "      <td>1377786215601277</td>\n",
       "      <td>translation</td>\n",
       "      <td>171</td>\n",
       "      <td>2021-01-21 16:27:07</td>\n",
       "      <td>2018-06-11 13:17:48</td>\n",
       "    </tr>\n",
       "    <tr>\n",
       "      <th>2</th>\n",
       "      <td>-2270332352037261</td>\n",
       "      <td>1377786215601962</td>\n",
       "      <td>translation</td>\n",
       "      <td>92</td>\n",
       "      <td>2020-09-29 12:33:57</td>\n",
       "      <td>2018-06-12 04:19:12</td>\n",
       "    </tr>\n",
       "    <tr>\n",
       "      <th>3</th>\n",
       "      <td>-2270332352521845</td>\n",
       "      <td>1377786215640994</td>\n",
       "      <td>translation</td>\n",
       "      <td>0</td>\n",
       "      <td>2019-10-17 09:03:37</td>\n",
       "      <td>2019-09-26 14:58:53</td>\n",
       "    </tr>\n",
       "    <tr>\n",
       "      <th>4</th>\n",
       "      <td>-2270332349665658</td>\n",
       "      <td>1377786215931338</td>\n",
       "      <td>translation</td>\n",
       "      <td>47</td>\n",
       "      <td>2020-05-05 11:33:41</td>\n",
       "      <td>2018-11-25 12:28:23</td>\n",
       "    </tr>\n",
       "  </tbody>\n",
       "</table>\n",
       "</div>"
      ],
      "text/plain": [
       "          author_id      pratilipi_id category_name  reading_time  \\\n",
       "0 -3418949279741297  1025741862639304   translation             0   \n",
       "1 -2270332351871840  1377786215601277   translation           171   \n",
       "2 -2270332352037261  1377786215601962   translation            92   \n",
       "3 -2270332352521845  1377786215640994   translation             0   \n",
       "4 -2270332349665658  1377786215931338   translation            47   \n",
       "\n",
       "            updated_at         published_at  \n",
       "0  2020-08-19 15:26:13  2016-09-30 10:37:04  \n",
       "1  2021-01-21 16:27:07  2018-06-11 13:17:48  \n",
       "2  2020-09-29 12:33:57  2018-06-12 04:19:12  \n",
       "3  2019-10-17 09:03:37  2019-09-26 14:58:53  \n",
       "4  2020-05-05 11:33:41  2018-11-25 12:28:23  "
      ]
     },
     "execution_count": 35,
     "metadata": {},
     "output_type": "execute_result"
    }
   ],
   "source": [
    "metadata.head()"
   ]
  },
  {
   "cell_type": "code",
   "execution_count": 36,
   "metadata": {},
   "outputs": [],
   "source": [
    "metadata[\"published_at\"] = metadata[\"published_at\"].astype(\"datetime64\")"
   ]
  },
  {
   "cell_type": "code",
   "execution_count": 37,
   "metadata": {},
   "outputs": [
    {
     "data": {
      "text/plain": [
       "<AxesSubplot:xlabel='published_at'>"
      ]
     },
     "execution_count": 37,
     "metadata": {},
     "output_type": "execute_result"
    },
    {
     "data": {
      "image/png": "[encoded data removed]",
      "text/plain": [
       "<Figure size 1440x1440 with 1 Axes>"
      ]
     },
     "metadata": {
      "needs_background": "light"
     },
     "output_type": "display_data"
    }
   ],
   "source": [
    "metadata[\"published_at\"].groupby(metadata[\"published_at\"].dt.month).count().plot(kind=\"bar\")"
   ]
  },
  {
   "cell_type": "markdown",
   "metadata": {},
   "source": [
    "### Publishing all around the year suggesting continuous author engagement."
   ]
  },
  {
   "cell_type": "code",
   "execution_count": 38,
   "metadata": {},
   "outputs": [
    {
     "data": {
      "text/plain": [
       "<AxesSubplot:xlabel='published_at'>"
      ]
     },
     "execution_count": 38,
     "metadata": {},
     "output_type": "execute_result"
    },
    {
     "data": {
      "image/png": "[encoded data removed]",
      "text/plain": [
       "<Figure size 1440x1440 with 1 Axes>"
      ]
     },
     "metadata": {
      "needs_background": "light"
     },
     "output_type": "display_data"
    }
   ],
   "source": [
    "metadata[\"published_at\"].groupby(metadata[\"published_at\"].dt.year).count().plot(kind=\"bar\")"
   ]
  },
  {
   "cell_type": "markdown",
   "metadata": {},
   "source": [
    "Engagment is increasing over the years"
   ]
  },
  {
   "cell_type": "code",
   "execution_count": 39,
   "metadata": {},
   "outputs": [
    {
     "data": {
      "text/plain": [
       "<AxesSubplot:xlabel='published_at'>"
      ]
     },
     "execution_count": 39,
     "metadata": {},
     "output_type": "execute_result"
    },
    {
     "data": {
      "image/png": "[encoded data removed]",
      "text/plain": [
       "<Figure size 1440x1440 with 1 Axes>"
      ]
     },
     "metadata": {
      "needs_background": "light"
     },
     "output_type": "display_data"
    }
   ],
   "source": [
    "metadata[\"published_at\"].groupby(metadata[\"published_at\"].dt.day).count().plot(kind=\"bar\")"
   ]
  },
  {
   "cell_type": "markdown",
   "metadata": {},
   "source": [
    "### EDA summary"
   ]
  },
  {
   "cell_type": "code",
   "execution_count": 40,
   "metadata": {},
   "outputs": [
    {
     "data": {
      "text/html": [
       "<div>\n",
       "<style scoped>\n",
       "    .dataframe tbody tr th:only-of-type {\n",
       "        vertical-align: middle;\n",
       "    }\n",
       "\n",
       "    .dataframe tbody tr th {\n",
       "        vertical-align: top;\n",
       "    }\n",
       "\n",
       "    .dataframe thead th {\n",
       "        text-align: right;\n",
       "    }\n",
       "</style>\n",
       "<table border=\"1\" class=\"dataframe\">\n",
       "  <thead>\n",
       "    <tr style=\"text-align: right;\">\n",
       "      <th></th>\n",
       "      <th>author_id</th>\n",
       "      <th>pratilipi_id</th>\n",
       "      <th>category_name</th>\n",
       "      <th>reading_time</th>\n",
       "      <th>updated_at</th>\n",
       "      <th>published_at</th>\n",
       "    </tr>\n",
       "  </thead>\n",
       "  <tbody>\n",
       "    <tr>\n",
       "      <th>0</th>\n",
       "      <td>-3418949279741297</td>\n",
       "      <td>1025741862639304</td>\n",
       "      <td>translation</td>\n",
       "      <td>0</td>\n",
       "      <td>2020-08-19 15:26:13</td>\n",
       "      <td>2016-09-30 10:37:04</td>\n",
       "    </tr>\n",
       "    <tr>\n",
       "      <th>1</th>\n",
       "      <td>-2270332351871840</td>\n",
       "      <td>1377786215601277</td>\n",
       "      <td>translation</td>\n",
       "      <td>171</td>\n",
       "      <td>2021-01-21 16:27:07</td>\n",
       "      <td>2018-06-11 13:17:48</td>\n",
       "    </tr>\n",
       "    <tr>\n",
       "      <th>2</th>\n",
       "      <td>-2270332352037261</td>\n",
       "      <td>1377786215601962</td>\n",
       "      <td>translation</td>\n",
       "      <td>92</td>\n",
       "      <td>2020-09-29 12:33:57</td>\n",
       "      <td>2018-06-12 04:19:12</td>\n",
       "    </tr>\n",
       "    <tr>\n",
       "      <th>3</th>\n",
       "      <td>-2270332352521845</td>\n",
       "      <td>1377786215640994</td>\n",
       "      <td>translation</td>\n",
       "      <td>0</td>\n",
       "      <td>2019-10-17 09:03:37</td>\n",
       "      <td>2019-09-26 14:58:53</td>\n",
       "    </tr>\n",
       "    <tr>\n",
       "      <th>4</th>\n",
       "      <td>-2270332349665658</td>\n",
       "      <td>1377786215931338</td>\n",
       "      <td>translation</td>\n",
       "      <td>47</td>\n",
       "      <td>2020-05-05 11:33:41</td>\n",
       "      <td>2018-11-25 12:28:23</td>\n",
       "    </tr>\n",
       "  </tbody>\n",
       "</table>\n",
       "</div>"
      ],
      "text/plain": [
       "          author_id      pratilipi_id category_name  reading_time  \\\n",
       "0 -3418949279741297  1025741862639304   translation             0   \n",
       "1 -2270332351871840  1377786215601277   translation           171   \n",
       "2 -2270332352037261  1377786215601962   translation            92   \n",
       "3 -2270332352521845  1377786215640994   translation             0   \n",
       "4 -2270332349665658  1377786215931338   translation            47   \n",
       "\n",
       "            updated_at        published_at  \n",
       "0  2020-08-19 15:26:13 2016-09-30 10:37:04  \n",
       "1  2021-01-21 16:27:07 2018-06-11 13:17:48  \n",
       "2  2020-09-29 12:33:57 2018-06-12 04:19:12  \n",
       "3  2019-10-17 09:03:37 2019-09-26 14:58:53  \n",
       "4  2020-05-05 11:33:41 2018-11-25 12:28:23  "
      ]
     },
     "execution_count": 40,
     "metadata": {},
     "output_type": "execute_result"
    }
   ],
   "source": [
    "metadata.head()"
   ]
  },
  {
   "cell_type": "code",
   "execution_count": 41,
   "metadata": {},
   "outputs": [
    {
     "data": {
      "text/html": [
       "<div>\n",
       "<style scoped>\n",
       "    .dataframe tbody tr th:only-of-type {\n",
       "        vertical-align: middle;\n",
       "    }\n",
       "\n",
       "    .dataframe tbody tr th {\n",
       "        vertical-align: top;\n",
       "    }\n",
       "\n",
       "    .dataframe thead th {\n",
       "        text-align: right;\n",
       "    }\n",
       "</style>\n",
       "<table border=\"1\" class=\"dataframe\">\n",
       "  <thead>\n",
       "    <tr style=\"text-align: right;\">\n",
       "      <th></th>\n",
       "      <th>Unnamed: 0</th>\n",
       "      <th>user_id</th>\n",
       "      <th>pratilipi_id</th>\n",
       "      <th>read_percent</th>\n",
       "      <th>updated_at</th>\n",
       "    </tr>\n",
       "  </thead>\n",
       "  <tbody>\n",
       "    <tr>\n",
       "      <th>0</th>\n",
       "      <td>0</td>\n",
       "      <td>5506791963854965</td>\n",
       "      <td>1377786220672965</td>\n",
       "      <td>100.0</td>\n",
       "      <td>2022-03-23 00:08:26.227</td>\n",
       "    </tr>\n",
       "    <tr>\n",
       "      <th>1</th>\n",
       "      <td>1</td>\n",
       "      <td>5506791979071996</td>\n",
       "      <td>1377786219742624</td>\n",
       "      <td>29.0</td>\n",
       "      <td>2022-03-23 00:08:26.220</td>\n",
       "    </tr>\n",
       "    <tr>\n",
       "      <th>2</th>\n",
       "      <td>2</td>\n",
       "      <td>5506791980256358</td>\n",
       "      <td>1377786217096334</td>\n",
       "      <td>22.0</td>\n",
       "      <td>2022-03-23 00:08:26.020</td>\n",
       "    </tr>\n",
       "    <tr>\n",
       "      <th>3</th>\n",
       "      <td>3</td>\n",
       "      <td>5506791988747277</td>\n",
       "      <td>1377786224767880</td>\n",
       "      <td>100.0</td>\n",
       "      <td>2022-03-23 00:08:25.306</td>\n",
       "    </tr>\n",
       "    <tr>\n",
       "      <th>4</th>\n",
       "      <td>4</td>\n",
       "      <td>5506791992372558</td>\n",
       "      <td>1377786218111595</td>\n",
       "      <td>100.0</td>\n",
       "      <td>2022-03-23 00:08:25.250</td>\n",
       "    </tr>\n",
       "  </tbody>\n",
       "</table>\n",
       "</div>"
      ],
      "text/plain": [
       "   Unnamed: 0           user_id      pratilipi_id  read_percent  \\\n",
       "0           0  5506791963854965  1377786220672965         100.0   \n",
       "1           1  5506791979071996  1377786219742624          29.0   \n",
       "2           2  5506791980256358  1377786217096334          22.0   \n",
       "3           3  5506791988747277  1377786224767880         100.0   \n",
       "4           4  5506791992372558  1377786218111595         100.0   \n",
       "\n",
       "               updated_at  \n",
       "0 2022-03-23 00:08:26.227  \n",
       "1 2022-03-23 00:08:26.220  \n",
       "2 2022-03-23 00:08:26.020  \n",
       "3 2022-03-23 00:08:25.306  \n",
       "4 2022-03-23 00:08:25.250  "
      ]
     },
     "execution_count": 41,
     "metadata": {},
     "output_type": "execute_result"
    }
   ],
   "source": [
    "userdata.head()"
   ]
  },
  {
   "cell_type": "markdown",
   "metadata": {},
   "source": [
    "So far we have discovered few point to deep dive in the dataset and clean the dataset\n",
    "1. In metadata we have several instance of 0 second reading time which is quite wierd and caused maybe\n",
    "   be due to some glich in collecting dataset or in somecases empty stories possibly(guess).\n",
    "2. Also in metadata we can also find instances of pratilipi with more than 10000 second(more than 2.5 hours ) \n",
    "   reading time suggesting very large stories.\n",
    "3. One partilipi can have multiple category but always a single author.\n",
    "4. In interaction data we found few instances of greater than 100 read_percent which is quite possibly some \n",
    "   technical glitch cause it has only 139 such instances. ( if there were much more such instances have been \n",
    "   possiblity of re-reading multiple time.)\n",
    "5. In interaction data we also found multiple 0 percent reading time which might be either user stopping the session \n",
    "   before it start or some app related bug.\n",
    "6. Engagement around the month is similar and continously increasing across the year"
   ]
  },
  {
   "cell_type": "markdown",
   "metadata": {},
   "source": [
    "### Cleaning Dataset and Treating Outliers and Feature engineering\n",
    "1. I won't be removing outlier anywhere except for reading percent in the assigment due to lack of knowledge of the actual reason\n",
    "2. Since there can be multiple topics for single pratilipi I will group them up in single list rather than using them individually"
   ]
  },
  {
   "cell_type": "code",
   "execution_count": 42,
   "metadata": {},
   "outputs": [],
   "source": [
    "# converting innstance > 100 read_percent to =100 percent\n",
    "## Any entry having greater than 100 percent read is converted back to 100 percent\n",
    "userdata['read_percent'] = userdata['read_percent'].apply(lambda x: x if x<=100 else 100)"
   ]
  },
  {
   "cell_type": "code",
   "execution_count": 43,
   "metadata": {},
   "outputs": [
    {
     "data": {
      "text/plain": [
       "0"
      ]
     },
     "execution_count": 43,
     "metadata": {},
     "output_type": "execute_result"
    }
   ],
   "source": [
    "len(userdata[userdata[\"read_percent\"]>100])\n",
    "# no value with more than 100 percent"
   ]
  },
  {
   "cell_type": "markdown",
   "metadata": {},
   "source": [
    "### We will also remove interaction of those users having less than 20 interaction."
   ]
  },
  {
   "cell_type": "markdown",
   "metadata": {},
   "source": [
    "1. Intution is as per assigment we want about 5 prediction per user with 75-25 train test split so data is kept at 20.\n",
    "   Also this problem is known as cold start problem in recommendation system in which it is hard do provide\n",
    "   personalized recommendations for users with none or a very few number of consumed items, due to the lack of information to      model their preferences.\n",
    "2. For this reason, we are keeping in the dataset only users with at least 20 interactions."
   ]
  },
  {
   "cell_type": "code",
   "execution_count": 44,
   "metadata": {},
   "outputs": [],
   "source": [
    "countdf = userdata.groupby('user_id').count()"
   ]
  },
  {
   "cell_type": "code",
   "execution_count": 45,
   "metadata": {},
   "outputs": [
    {
     "data": {
      "text/html": [
       "<div>\n",
       "<style scoped>\n",
       "    .dataframe tbody tr th:only-of-type {\n",
       "        vertical-align: middle;\n",
       "    }\n",
       "\n",
       "    .dataframe tbody tr th {\n",
       "        vertical-align: top;\n",
       "    }\n",
       "\n",
       "    .dataframe thead th {\n",
       "        text-align: right;\n",
       "    }\n",
       "</style>\n",
       "<table border=\"1\" class=\"dataframe\">\n",
       "  <thead>\n",
       "    <tr style=\"text-align: right;\">\n",
       "      <th></th>\n",
       "      <th>Unnamed: 0</th>\n",
       "      <th>pratilipi_id</th>\n",
       "      <th>read_percent</th>\n",
       "      <th>updated_at</th>\n",
       "    </tr>\n",
       "    <tr>\n",
       "      <th>user_id</th>\n",
       "      <th></th>\n",
       "      <th></th>\n",
       "      <th></th>\n",
       "      <th></th>\n",
       "    </tr>\n",
       "  </thead>\n",
       "  <tbody>\n",
       "    <tr>\n",
       "      <th>3259192702313124</th>\n",
       "      <td>2</td>\n",
       "      <td>2</td>\n",
       "      <td>2</td>\n",
       "      <td>2</td>\n",
       "    </tr>\n",
       "    <tr>\n",
       "      <th>3260275089121956</th>\n",
       "      <td>49</td>\n",
       "      <td>49</td>\n",
       "      <td>49</td>\n",
       "      <td>49</td>\n",
       "    </tr>\n",
       "    <tr>\n",
       "      <th>3263710062617252</th>\n",
       "      <td>6</td>\n",
       "      <td>6</td>\n",
       "      <td>6</td>\n",
       "      <td>6</td>\n",
       "    </tr>\n",
       "    <tr>\n",
       "      <th>3263998672675492</th>\n",
       "      <td>59</td>\n",
       "      <td>59</td>\n",
       "      <td>59</td>\n",
       "      <td>59</td>\n",
       "    </tr>\n",
       "    <tr>\n",
       "      <th>3264239159386788</th>\n",
       "      <td>2</td>\n",
       "      <td>2</td>\n",
       "      <td>2</td>\n",
       "      <td>2</td>\n",
       "    </tr>\n",
       "  </tbody>\n",
       "</table>\n",
       "</div>"
      ],
      "text/plain": [
       "                  Unnamed: 0  pratilipi_id  read_percent  updated_at\n",
       "user_id                                                             \n",
       "3259192702313124           2             2             2           2\n",
       "3260275089121956          49            49            49          49\n",
       "3263710062617252           6             6             6           6\n",
       "3263998672675492          59            59            59          59\n",
       "3264239159386788           2             2             2           2"
      ]
     },
     "execution_count": 45,
     "metadata": {},
     "output_type": "execute_result"
    }
   ],
   "source": [
    "countdf.head()"
   ]
  },
  {
   "cell_type": "code",
   "execution_count": 46,
   "metadata": {},
   "outputs": [],
   "source": [
    "userdata = userdata.loc[userdata['user_id'].isin(countdf[countdf['pratilipi_id'] > 20].index)].reset_index(drop = True)"
   ]
  },
  {
   "cell_type": "code",
   "execution_count": 47,
   "metadata": {},
   "outputs": [
    {
     "data": {
      "text/plain": [
       "(471051, 5)"
      ]
     },
     "execution_count": 47,
     "metadata": {},
     "output_type": "execute_result"
    }
   ],
   "source": [
    "# many user_id with less than 20 interaction dropped out\n",
    "userdata.shape"
   ]
  },
  {
   "cell_type": "code",
   "execution_count": 48,
   "metadata": {},
   "outputs": [
    {
     "data": {
      "text/html": [
       "<div>\n",
       "<style scoped>\n",
       "    .dataframe tbody tr th:only-of-type {\n",
       "        vertical-align: middle;\n",
       "    }\n",
       "\n",
       "    .dataframe tbody tr th {\n",
       "        vertical-align: top;\n",
       "    }\n",
       "\n",
       "    .dataframe thead th {\n",
       "        text-align: right;\n",
       "    }\n",
       "</style>\n",
       "<table border=\"1\" class=\"dataframe\">\n",
       "  <thead>\n",
       "    <tr style=\"text-align: right;\">\n",
       "      <th></th>\n",
       "      <th>author_id</th>\n",
       "      <th>pratilipi_id</th>\n",
       "      <th>category_name</th>\n",
       "      <th>reading_time</th>\n",
       "      <th>updated_at</th>\n",
       "      <th>published_at</th>\n",
       "    </tr>\n",
       "  </thead>\n",
       "  <tbody>\n",
       "    <tr>\n",
       "      <th>0</th>\n",
       "      <td>-3418949279741297</td>\n",
       "      <td>1025741862639304</td>\n",
       "      <td>translation</td>\n",
       "      <td>0</td>\n",
       "      <td>2020-08-19 15:26:13</td>\n",
       "      <td>2016-09-30 10:37:04</td>\n",
       "    </tr>\n",
       "    <tr>\n",
       "      <th>1</th>\n",
       "      <td>-2270332351871840</td>\n",
       "      <td>1377786215601277</td>\n",
       "      <td>translation</td>\n",
       "      <td>171</td>\n",
       "      <td>2021-01-21 16:27:07</td>\n",
       "      <td>2018-06-11 13:17:48</td>\n",
       "    </tr>\n",
       "    <tr>\n",
       "      <th>2</th>\n",
       "      <td>-2270332352037261</td>\n",
       "      <td>1377786215601962</td>\n",
       "      <td>translation</td>\n",
       "      <td>92</td>\n",
       "      <td>2020-09-29 12:33:57</td>\n",
       "      <td>2018-06-12 04:19:12</td>\n",
       "    </tr>\n",
       "    <tr>\n",
       "      <th>3</th>\n",
       "      <td>-2270332352521845</td>\n",
       "      <td>1377786215640994</td>\n",
       "      <td>translation</td>\n",
       "      <td>0</td>\n",
       "      <td>2019-10-17 09:03:37</td>\n",
       "      <td>2019-09-26 14:58:53</td>\n",
       "    </tr>\n",
       "    <tr>\n",
       "      <th>4</th>\n",
       "      <td>-2270332349665658</td>\n",
       "      <td>1377786215931338</td>\n",
       "      <td>translation</td>\n",
       "      <td>47</td>\n",
       "      <td>2020-05-05 11:33:41</td>\n",
       "      <td>2018-11-25 12:28:23</td>\n",
       "    </tr>\n",
       "  </tbody>\n",
       "</table>\n",
       "</div>"
      ],
      "text/plain": [
       "          author_id      pratilipi_id category_name  reading_time  \\\n",
       "0 -3418949279741297  1025741862639304   translation             0   \n",
       "1 -2270332351871840  1377786215601277   translation           171   \n",
       "2 -2270332352037261  1377786215601962   translation            92   \n",
       "3 -2270332352521845  1377786215640994   translation             0   \n",
       "4 -2270332349665658  1377786215931338   translation            47   \n",
       "\n",
       "            updated_at        published_at  \n",
       "0  2020-08-19 15:26:13 2016-09-30 10:37:04  \n",
       "1  2021-01-21 16:27:07 2018-06-11 13:17:48  \n",
       "2  2020-09-29 12:33:57 2018-06-12 04:19:12  \n",
       "3  2019-10-17 09:03:37 2019-09-26 14:58:53  \n",
       "4  2020-05-05 11:33:41 2018-11-25 12:28:23  "
      ]
     },
     "execution_count": 48,
     "metadata": {},
     "output_type": "execute_result"
    }
   ],
   "source": [
    "metadata.head()"
   ]
  },
  {
   "cell_type": "code",
   "execution_count": 49,
   "metadata": {},
   "outputs": [
    {
     "data": {
      "text/plain": [
       "Index(['author_id', 'pratilipi_id', 'category_name', 'reading_time',\n",
       "       'updated_at', 'published_at'],\n",
       "      dtype='object')"
      ]
     },
     "execution_count": 49,
     "metadata": {},
     "output_type": "execute_result"
    }
   ],
   "source": [
    "metadata.columns"
   ]
  },
  {
   "cell_type": "code",
   "execution_count": 50,
   "metadata": {},
   "outputs": [
    {
     "data": {
      "text/plain": [
       "486693"
      ]
     },
     "execution_count": 50,
     "metadata": {},
     "output_type": "execute_result"
    }
   ],
   "source": [
    "# Number of duplicates left after droping in pratilipi are 486693\n",
    "len(metadata.drop_duplicates(subset = [\"pratilipi_id\"]))"
   ]
  },
  {
   "cell_type": "code",
   "execution_count": 51,
   "metadata": {},
   "outputs": [],
   "source": [
    "g = {'category_name':lambda x: list(x), \n",
    "     'updated_at':'max',\n",
    "     'published_at' : 'min',\n",
    "     \"reading_time\" : \"mean\"\n",
    "    }\n",
    "\n",
    "meta = metadata.groupby(['author_id', 'pratilipi_id']).agg(g).reset_index()"
   ]
  },
  {
   "cell_type": "code",
   "execution_count": 52,
   "metadata": {},
   "outputs": [
    {
     "data": {
      "text/html": [
       "<div>\n",
       "<style scoped>\n",
       "    .dataframe tbody tr th:only-of-type {\n",
       "        vertical-align: middle;\n",
       "    }\n",
       "\n",
       "    .dataframe tbody tr th {\n",
       "        vertical-align: top;\n",
       "    }\n",
       "\n",
       "    .dataframe thead th {\n",
       "        text-align: right;\n",
       "    }\n",
       "</style>\n",
       "<table border=\"1\" class=\"dataframe\">\n",
       "  <thead>\n",
       "    <tr style=\"text-align: right;\">\n",
       "      <th></th>\n",
       "      <th>author_id</th>\n",
       "      <th>pratilipi_id</th>\n",
       "      <th>category_name</th>\n",
       "      <th>updated_at</th>\n",
       "      <th>published_at</th>\n",
       "      <th>reading_time</th>\n",
       "    </tr>\n",
       "  </thead>\n",
       "  <tbody>\n",
       "    <tr>\n",
       "      <th>0</th>\n",
       "      <td>-9070332352853360</td>\n",
       "      <td>312572401325768</td>\n",
       "      <td>[novels, politics, social]</td>\n",
       "      <td>2018-12-03 01:57:32</td>\n",
       "      <td>2017-12-04 18:08:16</td>\n",
       "      <td>0</td>\n",
       "    </tr>\n",
       "    <tr>\n",
       "      <th>1</th>\n",
       "      <td>-9070332352853358</td>\n",
       "      <td>-96530313603384</td>\n",
       "      <td>[horror]</td>\n",
       "      <td>2018-08-17 10:28:18</td>\n",
       "      <td>2017-12-04 19:11:01</td>\n",
       "      <td>0</td>\n",
       "    </tr>\n",
       "    <tr>\n",
       "      <th>2</th>\n",
       "      <td>-4566636240762225</td>\n",
       "      <td>1377786218853788</td>\n",
       "      <td>[novels, romance, suspense]</td>\n",
       "      <td>2022-01-17 18:04:49</td>\n",
       "      <td>2020-04-27 09:31:23</td>\n",
       "      <td>81</td>\n",
       "    </tr>\n",
       "    <tr>\n",
       "      <th>3</th>\n",
       "      <td>-4566636240762225</td>\n",
       "      <td>1377786218889274</td>\n",
       "      <td>[novels, romance, suspense]</td>\n",
       "      <td>2020-05-05 18:02:26</td>\n",
       "      <td>2020-05-05 18:02:26</td>\n",
       "      <td>112</td>\n",
       "    </tr>\n",
       "    <tr>\n",
       "      <th>4</th>\n",
       "      <td>-4566636240762225</td>\n",
       "      <td>1377786224904125</td>\n",
       "      <td>[detective, romance, murder mystery]</td>\n",
       "      <td>2021-07-28 15:23:45</td>\n",
       "      <td>2021-07-28 14:14:45</td>\n",
       "      <td>262</td>\n",
       "    </tr>\n",
       "  </tbody>\n",
       "</table>\n",
       "</div>"
      ],
      "text/plain": [
       "          author_id      pratilipi_id                         category_name  \\\n",
       "0 -9070332352853360   312572401325768            [novels, politics, social]   \n",
       "1 -9070332352853358   -96530313603384                              [horror]   \n",
       "2 -4566636240762225  1377786218853788           [novels, romance, suspense]   \n",
       "3 -4566636240762225  1377786218889274           [novels, romance, suspense]   \n",
       "4 -4566636240762225  1377786224904125  [detective, romance, murder mystery]   \n",
       "\n",
       "            updated_at        published_at  reading_time  \n",
       "0  2018-12-03 01:57:32 2017-12-04 18:08:16             0  \n",
       "1  2018-08-17 10:28:18 2017-12-04 19:11:01             0  \n",
       "2  2022-01-17 18:04:49 2020-04-27 09:31:23            81  \n",
       "3  2020-05-05 18:02:26 2020-05-05 18:02:26           112  \n",
       "4  2021-07-28 15:23:45 2021-07-28 14:14:45           262  "
      ]
     },
     "execution_count": 52,
     "metadata": {},
     "output_type": "execute_result"
    }
   ],
   "source": [
    "meta.head()"
   ]
  },
  {
   "cell_type": "code",
   "execution_count": 53,
   "metadata": {},
   "outputs": [
    {
     "data": {
      "text/plain": [
       "(486693, 6)"
      ]
     },
     "execution_count": 53,
     "metadata": {},
     "output_type": "execute_result"
    }
   ],
   "source": [
    "meta.shape"
   ]
  },
  {
   "cell_type": "code",
   "execution_count": 54,
   "metadata": {},
   "outputs": [],
   "source": [
    "# Changed ids to positive ( As i don't find any positive conterpart so it won't lead to duplicate issue)\n",
    "meta[\"pratilipi_id\"] = meta.apply(lambda x : abs(x[\"pratilipi_id\"]),axis = 1)"
   ]
  },
  {
   "cell_type": "code",
   "execution_count": 55,
   "metadata": {},
   "outputs": [],
   "source": [
    "meta[\"author_id\"] = meta.apply(lambda x : abs(x[\"author_id\"]),axis = 1)"
   ]
  },
  {
   "cell_type": "code",
   "execution_count": 56,
   "metadata": {},
   "outputs": [
    {
     "data": {
      "text/plain": [
       "486693"
      ]
     },
     "execution_count": 56,
     "metadata": {},
     "output_type": "execute_result"
    }
   ],
   "source": [
    "# Converting ids have no effect on dataset\n",
    "len(meta.drop_duplicates(subset=[\"author_id\",\"pratilipi_id\"]))"
   ]
  },
  {
   "cell_type": "code",
   "execution_count": 57,
   "metadata": {},
   "outputs": [
    {
     "data": {
      "text/html": [
       "<div>\n",
       "<style scoped>\n",
       "    .dataframe tbody tr th:only-of-type {\n",
       "        vertical-align: middle;\n",
       "    }\n",
       "\n",
       "    .dataframe tbody tr th {\n",
       "        vertical-align: top;\n",
       "    }\n",
       "\n",
       "    .dataframe thead th {\n",
       "        text-align: right;\n",
       "    }\n",
       "</style>\n",
       "<table border=\"1\" class=\"dataframe\">\n",
       "  <thead>\n",
       "    <tr style=\"text-align: right;\">\n",
       "      <th></th>\n",
       "      <th>author_id</th>\n",
       "      <th>pratilipi_id</th>\n",
       "      <th>category_name</th>\n",
       "      <th>updated_at</th>\n",
       "      <th>published_at</th>\n",
       "      <th>reading_time</th>\n",
       "    </tr>\n",
       "  </thead>\n",
       "  <tbody>\n",
       "    <tr>\n",
       "      <th>0</th>\n",
       "      <td>9070332352853360</td>\n",
       "      <td>312572401325768</td>\n",
       "      <td>[novels, politics, social]</td>\n",
       "      <td>2018-12-03 01:57:32</td>\n",
       "      <td>2017-12-04 18:08:16</td>\n",
       "      <td>0</td>\n",
       "    </tr>\n",
       "    <tr>\n",
       "      <th>1</th>\n",
       "      <td>9070332352853358</td>\n",
       "      <td>96530313603384</td>\n",
       "      <td>[horror]</td>\n",
       "      <td>2018-08-17 10:28:18</td>\n",
       "      <td>2017-12-04 19:11:01</td>\n",
       "      <td>0</td>\n",
       "    </tr>\n",
       "    <tr>\n",
       "      <th>2</th>\n",
       "      <td>4566636240762225</td>\n",
       "      <td>1377786218853788</td>\n",
       "      <td>[novels, romance, suspense]</td>\n",
       "      <td>2022-01-17 18:04:49</td>\n",
       "      <td>2020-04-27 09:31:23</td>\n",
       "      <td>81</td>\n",
       "    </tr>\n",
       "    <tr>\n",
       "      <th>3</th>\n",
       "      <td>4566636240762225</td>\n",
       "      <td>1377786218889274</td>\n",
       "      <td>[novels, romance, suspense]</td>\n",
       "      <td>2020-05-05 18:02:26</td>\n",
       "      <td>2020-05-05 18:02:26</td>\n",
       "      <td>112</td>\n",
       "    </tr>\n",
       "    <tr>\n",
       "      <th>4</th>\n",
       "      <td>4566636240762225</td>\n",
       "      <td>1377786224904125</td>\n",
       "      <td>[detective, romance, murder mystery]</td>\n",
       "      <td>2021-07-28 15:23:45</td>\n",
       "      <td>2021-07-28 14:14:45</td>\n",
       "      <td>262</td>\n",
       "    </tr>\n",
       "  </tbody>\n",
       "</table>\n",
       "</div>"
      ],
      "text/plain": [
       "          author_id      pratilipi_id                         category_name  \\\n",
       "0  9070332352853360   312572401325768            [novels, politics, social]   \n",
       "1  9070332352853358    96530313603384                              [horror]   \n",
       "2  4566636240762225  1377786218853788           [novels, romance, suspense]   \n",
       "3  4566636240762225  1377786218889274           [novels, romance, suspense]   \n",
       "4  4566636240762225  1377786224904125  [detective, romance, murder mystery]   \n",
       "\n",
       "            updated_at        published_at  reading_time  \n",
       "0  2018-12-03 01:57:32 2017-12-04 18:08:16             0  \n",
       "1  2018-08-17 10:28:18 2017-12-04 19:11:01             0  \n",
       "2  2022-01-17 18:04:49 2020-04-27 09:31:23            81  \n",
       "3  2020-05-05 18:02:26 2020-05-05 18:02:26           112  \n",
       "4  2021-07-28 15:23:45 2021-07-28 14:14:45           262  "
      ]
     },
     "execution_count": 57,
     "metadata": {},
     "output_type": "execute_result"
    }
   ],
   "source": [
    "meta.head()"
   ]
  },
  {
   "cell_type": "code",
   "execution_count": 58,
   "metadata": {},
   "outputs": [],
   "source": [
    "meta[\"month\"] = meta[\"published_at\"].dt.month"
   ]
  },
  {
   "cell_type": "code",
   "execution_count": 59,
   "metadata": {},
   "outputs": [],
   "source": [
    "meta[\"year\"] = meta[\"published_at\"].dt.year"
   ]
  },
  {
   "cell_type": "code",
   "execution_count": 60,
   "metadata": {},
   "outputs": [
    {
     "data": {
      "text/html": [
       "<div>\n",
       "<style scoped>\n",
       "    .dataframe tbody tr th:only-of-type {\n",
       "        vertical-align: middle;\n",
       "    }\n",
       "\n",
       "    .dataframe tbody tr th {\n",
       "        vertical-align: top;\n",
       "    }\n",
       "\n",
       "    .dataframe thead th {\n",
       "        text-align: right;\n",
       "    }\n",
       "</style>\n",
       "<table border=\"1\" class=\"dataframe\">\n",
       "  <thead>\n",
       "    <tr style=\"text-align: right;\">\n",
       "      <th></th>\n",
       "      <th>author_id</th>\n",
       "      <th>pratilipi_id</th>\n",
       "      <th>category_name</th>\n",
       "      <th>updated_at</th>\n",
       "      <th>published_at</th>\n",
       "      <th>reading_time</th>\n",
       "      <th>month</th>\n",
       "      <th>year</th>\n",
       "    </tr>\n",
       "  </thead>\n",
       "  <tbody>\n",
       "    <tr>\n",
       "      <th>0</th>\n",
       "      <td>9070332352853360</td>\n",
       "      <td>312572401325768</td>\n",
       "      <td>[novels, politics, social]</td>\n",
       "      <td>2018-12-03 01:57:32</td>\n",
       "      <td>2017-12-04 18:08:16</td>\n",
       "      <td>0</td>\n",
       "      <td>12.0</td>\n",
       "      <td>2017.0</td>\n",
       "    </tr>\n",
       "    <tr>\n",
       "      <th>1</th>\n",
       "      <td>9070332352853358</td>\n",
       "      <td>96530313603384</td>\n",
       "      <td>[horror]</td>\n",
       "      <td>2018-08-17 10:28:18</td>\n",
       "      <td>2017-12-04 19:11:01</td>\n",
       "      <td>0</td>\n",
       "      <td>12.0</td>\n",
       "      <td>2017.0</td>\n",
       "    </tr>\n",
       "    <tr>\n",
       "      <th>2</th>\n",
       "      <td>4566636240762225</td>\n",
       "      <td>1377786218853788</td>\n",
       "      <td>[novels, romance, suspense]</td>\n",
       "      <td>2022-01-17 18:04:49</td>\n",
       "      <td>2020-04-27 09:31:23</td>\n",
       "      <td>81</td>\n",
       "      <td>4.0</td>\n",
       "      <td>2020.0</td>\n",
       "    </tr>\n",
       "    <tr>\n",
       "      <th>3</th>\n",
       "      <td>4566636240762225</td>\n",
       "      <td>1377786218889274</td>\n",
       "      <td>[novels, romance, suspense]</td>\n",
       "      <td>2020-05-05 18:02:26</td>\n",
       "      <td>2020-05-05 18:02:26</td>\n",
       "      <td>112</td>\n",
       "      <td>5.0</td>\n",
       "      <td>2020.0</td>\n",
       "    </tr>\n",
       "    <tr>\n",
       "      <th>4</th>\n",
       "      <td>4566636240762225</td>\n",
       "      <td>1377786224904125</td>\n",
       "      <td>[detective, romance, murder mystery]</td>\n",
       "      <td>2021-07-28 15:23:45</td>\n",
       "      <td>2021-07-28 14:14:45</td>\n",
       "      <td>262</td>\n",
       "      <td>7.0</td>\n",
       "      <td>2021.0</td>\n",
       "    </tr>\n",
       "  </tbody>\n",
       "</table>\n",
       "</div>"
      ],
      "text/plain": [
       "          author_id      pratilipi_id                         category_name  \\\n",
       "0  9070332352853360   312572401325768            [novels, politics, social]   \n",
       "1  9070332352853358    96530313603384                              [horror]   \n",
       "2  4566636240762225  1377786218853788           [novels, romance, suspense]   \n",
       "3  4566636240762225  1377786218889274           [novels, romance, suspense]   \n",
       "4  4566636240762225  1377786224904125  [detective, romance, murder mystery]   \n",
       "\n",
       "            updated_at        published_at  reading_time  month    year  \n",
       "0  2018-12-03 01:57:32 2017-12-04 18:08:16             0   12.0  2017.0  \n",
       "1  2018-08-17 10:28:18 2017-12-04 19:11:01             0   12.0  2017.0  \n",
       "2  2022-01-17 18:04:49 2020-04-27 09:31:23            81    4.0  2020.0  \n",
       "3  2020-05-05 18:02:26 2020-05-05 18:02:26           112    5.0  2020.0  \n",
       "4  2021-07-28 15:23:45 2021-07-28 14:14:45           262    7.0  2021.0  "
      ]
     },
     "execution_count": 60,
     "metadata": {},
     "output_type": "execute_result"
    }
   ],
   "source": [
    "meta.head()"
   ]
  },
  {
   "cell_type": "code",
   "execution_count": 61,
   "metadata": {},
   "outputs": [],
   "source": [
    "#helps decrease the speard and make data bit more uniform\n",
    "meta['reading_time_min'] = meta['reading_time'].apply(lambda x: int(x/60))"
   ]
  },
  {
   "cell_type": "code",
   "execution_count": 62,
   "metadata": {},
   "outputs": [
    {
     "data": {
      "text/html": [
       "<div>\n",
       "<style scoped>\n",
       "    .dataframe tbody tr th:only-of-type {\n",
       "        vertical-align: middle;\n",
       "    }\n",
       "\n",
       "    .dataframe tbody tr th {\n",
       "        vertical-align: top;\n",
       "    }\n",
       "\n",
       "    .dataframe thead th {\n",
       "        text-align: right;\n",
       "    }\n",
       "</style>\n",
       "<table border=\"1\" class=\"dataframe\">\n",
       "  <thead>\n",
       "    <tr style=\"text-align: right;\">\n",
       "      <th></th>\n",
       "      <th>author_id</th>\n",
       "      <th>pratilipi_id</th>\n",
       "      <th>category_name</th>\n",
       "      <th>updated_at</th>\n",
       "      <th>published_at</th>\n",
       "      <th>reading_time</th>\n",
       "      <th>month</th>\n",
       "      <th>year</th>\n",
       "      <th>reading_time_min</th>\n",
       "    </tr>\n",
       "  </thead>\n",
       "  <tbody>\n",
       "    <tr>\n",
       "      <th>0</th>\n",
       "      <td>9070332352853360</td>\n",
       "      <td>312572401325768</td>\n",
       "      <td>[novels, politics, social]</td>\n",
       "      <td>2018-12-03 01:57:32</td>\n",
       "      <td>2017-12-04 18:08:16</td>\n",
       "      <td>0</td>\n",
       "      <td>12.0</td>\n",
       "      <td>2017.0</td>\n",
       "      <td>0</td>\n",
       "    </tr>\n",
       "    <tr>\n",
       "      <th>1</th>\n",
       "      <td>9070332352853358</td>\n",
       "      <td>96530313603384</td>\n",
       "      <td>[horror]</td>\n",
       "      <td>2018-08-17 10:28:18</td>\n",
       "      <td>2017-12-04 19:11:01</td>\n",
       "      <td>0</td>\n",
       "      <td>12.0</td>\n",
       "      <td>2017.0</td>\n",
       "      <td>0</td>\n",
       "    </tr>\n",
       "    <tr>\n",
       "      <th>2</th>\n",
       "      <td>4566636240762225</td>\n",
       "      <td>1377786218853788</td>\n",
       "      <td>[novels, romance, suspense]</td>\n",
       "      <td>2022-01-17 18:04:49</td>\n",
       "      <td>2020-04-27 09:31:23</td>\n",
       "      <td>81</td>\n",
       "      <td>4.0</td>\n",
       "      <td>2020.0</td>\n",
       "      <td>1</td>\n",
       "    </tr>\n",
       "    <tr>\n",
       "      <th>3</th>\n",
       "      <td>4566636240762225</td>\n",
       "      <td>1377786218889274</td>\n",
       "      <td>[novels, romance, suspense]</td>\n",
       "      <td>2020-05-05 18:02:26</td>\n",
       "      <td>2020-05-05 18:02:26</td>\n",
       "      <td>112</td>\n",
       "      <td>5.0</td>\n",
       "      <td>2020.0</td>\n",
       "      <td>1</td>\n",
       "    </tr>\n",
       "    <tr>\n",
       "      <th>4</th>\n",
       "      <td>4566636240762225</td>\n",
       "      <td>1377786224904125</td>\n",
       "      <td>[detective, romance, murder mystery]</td>\n",
       "      <td>2021-07-28 15:23:45</td>\n",
       "      <td>2021-07-28 14:14:45</td>\n",
       "      <td>262</td>\n",
       "      <td>7.0</td>\n",
       "      <td>2021.0</td>\n",
       "      <td>4</td>\n",
       "    </tr>\n",
       "  </tbody>\n",
       "</table>\n",
       "</div>"
      ],
      "text/plain": [
       "          author_id      pratilipi_id                         category_name  \\\n",
       "0  9070332352853360   312572401325768            [novels, politics, social]   \n",
       "1  9070332352853358    96530313603384                              [horror]   \n",
       "2  4566636240762225  1377786218853788           [novels, romance, suspense]   \n",
       "3  4566636240762225  1377786218889274           [novels, romance, suspense]   \n",
       "4  4566636240762225  1377786224904125  [detective, romance, murder mystery]   \n",
       "\n",
       "            updated_at        published_at  reading_time  month    year  \\\n",
       "0  2018-12-03 01:57:32 2017-12-04 18:08:16             0   12.0  2017.0   \n",
       "1  2018-08-17 10:28:18 2017-12-04 19:11:01             0   12.0  2017.0   \n",
       "2  2022-01-17 18:04:49 2020-04-27 09:31:23            81    4.0  2020.0   \n",
       "3  2020-05-05 18:02:26 2020-05-05 18:02:26           112    5.0  2020.0   \n",
       "4  2021-07-28 15:23:45 2021-07-28 14:14:45           262    7.0  2021.0   \n",
       "\n",
       "   reading_time_min  \n",
       "0                 0  \n",
       "1                 0  \n",
       "2                 1  \n",
       "3                 1  \n",
       "4                 4  "
      ]
     },
     "execution_count": 62,
     "metadata": {},
     "output_type": "execute_result"
    }
   ],
   "source": [
    "meta.head()"
   ]
  },
  {
   "cell_type": "code",
   "execution_count": 63,
   "metadata": {},
   "outputs": [
    {
     "data": {
      "text/html": [
       "<div>\n",
       "<style scoped>\n",
       "    .dataframe tbody tr th:only-of-type {\n",
       "        vertical-align: middle;\n",
       "    }\n",
       "\n",
       "    .dataframe tbody tr th {\n",
       "        vertical-align: top;\n",
       "    }\n",
       "\n",
       "    .dataframe thead th {\n",
       "        text-align: right;\n",
       "    }\n",
       "</style>\n",
       "<table border=\"1\" class=\"dataframe\">\n",
       "  <thead>\n",
       "    <tr style=\"text-align: right;\">\n",
       "      <th></th>\n",
       "      <th>Unnamed: 0</th>\n",
       "      <th>user_id</th>\n",
       "      <th>pratilipi_id</th>\n",
       "      <th>read_percent</th>\n",
       "      <th>updated_at</th>\n",
       "    </tr>\n",
       "  </thead>\n",
       "  <tbody>\n",
       "    <tr>\n",
       "      <th>0</th>\n",
       "      <td>4</td>\n",
       "      <td>5506791992372558</td>\n",
       "      <td>1377786218111595</td>\n",
       "      <td>100.0</td>\n",
       "      <td>2022-03-23 00:08:25.250</td>\n",
       "    </tr>\n",
       "    <tr>\n",
       "      <th>1</th>\n",
       "      <td>7</td>\n",
       "      <td>5506791948826385</td>\n",
       "      <td>1377786225616273</td>\n",
       "      <td>100.0</td>\n",
       "      <td>2022-03-23 00:08:23.302</td>\n",
       "    </tr>\n",
       "    <tr>\n",
       "      <th>2</th>\n",
       "      <td>8</td>\n",
       "      <td>5506791996685034</td>\n",
       "      <td>1377786220761266</td>\n",
       "      <td>100.0</td>\n",
       "      <td>2022-03-23 00:08:22.974</td>\n",
       "    </tr>\n",
       "    <tr>\n",
       "      <th>3</th>\n",
       "      <td>19</td>\n",
       "      <td>5506791959279525</td>\n",
       "      <td>1377786225901639</td>\n",
       "      <td>100.0</td>\n",
       "      <td>2022-03-23 00:08:16.603</td>\n",
       "    </tr>\n",
       "    <tr>\n",
       "      <th>4</th>\n",
       "      <td>22</td>\n",
       "      <td>5506791982720411</td>\n",
       "      <td>1377786218206736</td>\n",
       "      <td>2.0</td>\n",
       "      <td>2022-03-23 00:08:15.385</td>\n",
       "    </tr>\n",
       "  </tbody>\n",
       "</table>\n",
       "</div>"
      ],
      "text/plain": [
       "   Unnamed: 0           user_id      pratilipi_id  read_percent  \\\n",
       "0           4  5506791992372558  1377786218111595         100.0   \n",
       "1           7  5506791948826385  1377786225616273         100.0   \n",
       "2           8  5506791996685034  1377786220761266         100.0   \n",
       "3          19  5506791959279525  1377786225901639         100.0   \n",
       "4          22  5506791982720411  1377786218206736           2.0   \n",
       "\n",
       "               updated_at  \n",
       "0 2022-03-23 00:08:25.250  \n",
       "1 2022-03-23 00:08:23.302  \n",
       "2 2022-03-23 00:08:22.974  \n",
       "3 2022-03-23 00:08:16.603  \n",
       "4 2022-03-23 00:08:15.385  "
      ]
     },
     "execution_count": 63,
     "metadata": {},
     "output_type": "execute_result"
    }
   ],
   "source": [
    "userdata.head()"
   ]
  },
  {
   "cell_type": "code",
   "execution_count": 64,
   "metadata": {},
   "outputs": [],
   "source": [
    "userdata.drop('Unnamed: 0', axis = 1, inplace=True)"
   ]
  },
  {
   "cell_type": "code",
   "execution_count": 65,
   "metadata": {},
   "outputs": [
    {
     "data": {
      "text/html": [
       "<div>\n",
       "<style scoped>\n",
       "    .dataframe tbody tr th:only-of-type {\n",
       "        vertical-align: middle;\n",
       "    }\n",
       "\n",
       "    .dataframe tbody tr th {\n",
       "        vertical-align: top;\n",
       "    }\n",
       "\n",
       "    .dataframe thead th {\n",
       "        text-align: right;\n",
       "    }\n",
       "</style>\n",
       "<table border=\"1\" class=\"dataframe\">\n",
       "  <thead>\n",
       "    <tr style=\"text-align: right;\">\n",
       "      <th></th>\n",
       "      <th>user_id</th>\n",
       "      <th>pratilipi_id</th>\n",
       "      <th>read_percent</th>\n",
       "      <th>updated_at</th>\n",
       "    </tr>\n",
       "  </thead>\n",
       "  <tbody>\n",
       "    <tr>\n",
       "      <th>0</th>\n",
       "      <td>5506791992372558</td>\n",
       "      <td>1377786218111595</td>\n",
       "      <td>100.0</td>\n",
       "      <td>2022-03-23 00:08:25.250</td>\n",
       "    </tr>\n",
       "    <tr>\n",
       "      <th>1</th>\n",
       "      <td>5506791948826385</td>\n",
       "      <td>1377786225616273</td>\n",
       "      <td>100.0</td>\n",
       "      <td>2022-03-23 00:08:23.302</td>\n",
       "    </tr>\n",
       "    <tr>\n",
       "      <th>2</th>\n",
       "      <td>5506791996685034</td>\n",
       "      <td>1377786220761266</td>\n",
       "      <td>100.0</td>\n",
       "      <td>2022-03-23 00:08:22.974</td>\n",
       "    </tr>\n",
       "    <tr>\n",
       "      <th>3</th>\n",
       "      <td>5506791959279525</td>\n",
       "      <td>1377786225901639</td>\n",
       "      <td>100.0</td>\n",
       "      <td>2022-03-23 00:08:16.603</td>\n",
       "    </tr>\n",
       "    <tr>\n",
       "      <th>4</th>\n",
       "      <td>5506791982720411</td>\n",
       "      <td>1377786218206736</td>\n",
       "      <td>2.0</td>\n",
       "      <td>2022-03-23 00:08:15.385</td>\n",
       "    </tr>\n",
       "  </tbody>\n",
       "</table>\n",
       "</div>"
      ],
      "text/plain": [
       "            user_id      pratilipi_id  read_percent              updated_at\n",
       "0  5506791992372558  1377786218111595         100.0 2022-03-23 00:08:25.250\n",
       "1  5506791948826385  1377786225616273         100.0 2022-03-23 00:08:23.302\n",
       "2  5506791996685034  1377786220761266         100.0 2022-03-23 00:08:22.974\n",
       "3  5506791959279525  1377786225901639         100.0 2022-03-23 00:08:16.603\n",
       "4  5506791982720411  1377786218206736           2.0 2022-03-23 00:08:15.385"
      ]
     },
     "execution_count": 65,
     "metadata": {},
     "output_type": "execute_result"
    }
   ],
   "source": [
    "userdata.head()"
   ]
  },
  {
   "cell_type": "code",
   "execution_count": 66,
   "metadata": {},
   "outputs": [
    {
     "data": {
      "text/plain": [
       "Timestamp('2022-03-22 14:35:22.685000')"
      ]
     },
     "execution_count": 66,
     "metadata": {},
     "output_type": "execute_result"
    }
   ],
   "source": [
    "# Remove all stories published after the minimum intereaction datetime so that recommendation is evaluated fairly\n",
    "userdata[\"updated_at\"].min()"
   ]
  },
  {
   "cell_type": "code",
   "execution_count": 67,
   "metadata": {},
   "outputs": [
    {
     "data": {
      "text/plain": [
       "(486693, 9)"
      ]
     },
     "execution_count": 67,
     "metadata": {},
     "output_type": "execute_result"
    }
   ],
   "source": [
    "meta.shape"
   ]
  },
  {
   "cell_type": "code",
   "execution_count": 68,
   "metadata": {},
   "outputs": [],
   "source": [
    "meta = meta[meta[\"published_at\"]<userdata[\"updated_at\"].min()].reset_index(drop = True)"
   ]
  },
  {
   "cell_type": "code",
   "execution_count": 69,
   "metadata": {},
   "outputs": [
    {
     "data": {
      "text/plain": [
       "(485531, 9)"
      ]
     },
     "execution_count": 69,
     "metadata": {},
     "output_type": "execute_result"
    }
   ],
   "source": [
    "meta.shape"
   ]
  },
  {
   "cell_type": "code",
   "execution_count": 70,
   "metadata": {},
   "outputs": [
    {
     "data": {
      "text/plain": [
       "(471051, 4)"
      ]
     },
     "execution_count": 70,
     "metadata": {},
     "output_type": "execute_result"
    }
   ],
   "source": [
    "userdata.shape"
   ]
  },
  {
   "cell_type": "code",
   "execution_count": 71,
   "metadata": {},
   "outputs": [],
   "source": [
    "userdata = userdata[userdata[\"pratilipi_id\"].isin(meta[\"pratilipi_id\"].unique())].reset_index(drop = True)"
   ]
  },
  {
   "cell_type": "code",
   "execution_count": 72,
   "metadata": {},
   "outputs": [
    {
     "data": {
      "text/plain": [
       "(273990, 4)"
      ]
     },
     "execution_count": 72,
     "metadata": {},
     "output_type": "execute_result"
    }
   ],
   "source": [
    "# Remove interactions with record of their metadata \n",
    "userdata.shape"
   ]
  },
  {
   "cell_type": "code",
   "execution_count": 73,
   "metadata": {},
   "outputs": [
    {
     "data": {
      "text/html": [
       "<div>\n",
       "<style scoped>\n",
       "    .dataframe tbody tr th:only-of-type {\n",
       "        vertical-align: middle;\n",
       "    }\n",
       "\n",
       "    .dataframe tbody tr th {\n",
       "        vertical-align: top;\n",
       "    }\n",
       "\n",
       "    .dataframe thead th {\n",
       "        text-align: right;\n",
       "    }\n",
       "</style>\n",
       "<table border=\"1\" class=\"dataframe\">\n",
       "  <thead>\n",
       "    <tr style=\"text-align: right;\">\n",
       "      <th></th>\n",
       "      <th>author_id</th>\n",
       "      <th>pratilipi_id</th>\n",
       "      <th>category_name</th>\n",
       "      <th>updated_at</th>\n",
       "      <th>published_at</th>\n",
       "      <th>reading_time</th>\n",
       "      <th>month</th>\n",
       "      <th>year</th>\n",
       "      <th>reading_time_min</th>\n",
       "    </tr>\n",
       "  </thead>\n",
       "  <tbody>\n",
       "    <tr>\n",
       "      <th>0</th>\n",
       "      <td>9070332352853360</td>\n",
       "      <td>312572401325768</td>\n",
       "      <td>[novels, politics, social]</td>\n",
       "      <td>2018-12-03 01:57:32</td>\n",
       "      <td>2017-12-04 18:08:16</td>\n",
       "      <td>0</td>\n",
       "      <td>12.0</td>\n",
       "      <td>2017.0</td>\n",
       "      <td>0</td>\n",
       "    </tr>\n",
       "    <tr>\n",
       "      <th>1</th>\n",
       "      <td>9070332352853358</td>\n",
       "      <td>96530313603384</td>\n",
       "      <td>[horror]</td>\n",
       "      <td>2018-08-17 10:28:18</td>\n",
       "      <td>2017-12-04 19:11:01</td>\n",
       "      <td>0</td>\n",
       "      <td>12.0</td>\n",
       "      <td>2017.0</td>\n",
       "      <td>0</td>\n",
       "    </tr>\n",
       "    <tr>\n",
       "      <th>2</th>\n",
       "      <td>4566636240762225</td>\n",
       "      <td>1377786218853788</td>\n",
       "      <td>[novels, romance, suspense]</td>\n",
       "      <td>2022-01-17 18:04:49</td>\n",
       "      <td>2020-04-27 09:31:23</td>\n",
       "      <td>81</td>\n",
       "      <td>4.0</td>\n",
       "      <td>2020.0</td>\n",
       "      <td>1</td>\n",
       "    </tr>\n",
       "    <tr>\n",
       "      <th>3</th>\n",
       "      <td>4566636240762225</td>\n",
       "      <td>1377786218889274</td>\n",
       "      <td>[novels, romance, suspense]</td>\n",
       "      <td>2020-05-05 18:02:26</td>\n",
       "      <td>2020-05-05 18:02:26</td>\n",
       "      <td>112</td>\n",
       "      <td>5.0</td>\n",
       "      <td>2020.0</td>\n",
       "      <td>1</td>\n",
       "    </tr>\n",
       "    <tr>\n",
       "      <th>4</th>\n",
       "      <td>4566636240762225</td>\n",
       "      <td>1377786224904125</td>\n",
       "      <td>[detective, romance, murder mystery]</td>\n",
       "      <td>2021-07-28 15:23:45</td>\n",
       "      <td>2021-07-28 14:14:45</td>\n",
       "      <td>262</td>\n",
       "      <td>7.0</td>\n",
       "      <td>2021.0</td>\n",
       "      <td>4</td>\n",
       "    </tr>\n",
       "  </tbody>\n",
       "</table>\n",
       "</div>"
      ],
      "text/plain": [
       "          author_id      pratilipi_id                         category_name  \\\n",
       "0  9070332352853360   312572401325768            [novels, politics, social]   \n",
       "1  9070332352853358    96530313603384                              [horror]   \n",
       "2  4566636240762225  1377786218853788           [novels, romance, suspense]   \n",
       "3  4566636240762225  1377786218889274           [novels, romance, suspense]   \n",
       "4  4566636240762225  1377786224904125  [detective, romance, murder mystery]   \n",
       "\n",
       "            updated_at        published_at  reading_time  month    year  \\\n",
       "0  2018-12-03 01:57:32 2017-12-04 18:08:16             0   12.0  2017.0   \n",
       "1  2018-08-17 10:28:18 2017-12-04 19:11:01             0   12.0  2017.0   \n",
       "2  2022-01-17 18:04:49 2020-04-27 09:31:23            81    4.0  2020.0   \n",
       "3  2020-05-05 18:02:26 2020-05-05 18:02:26           112    5.0  2020.0   \n",
       "4  2021-07-28 15:23:45 2021-07-28 14:14:45           262    7.0  2021.0   \n",
       "\n",
       "   reading_time_min  \n",
       "0                 0  \n",
       "1                 0  \n",
       "2                 1  \n",
       "3                 1  \n",
       "4                 4  "
      ]
     },
     "execution_count": 73,
     "metadata": {},
     "output_type": "execute_result"
    }
   ],
   "source": [
    "meta.head()"
   ]
  },
  {
   "cell_type": "code",
   "execution_count": 74,
   "metadata": {},
   "outputs": [],
   "source": [
    "# we will remove updated_at and published_at(features already captured)\n",
    "meta.drop([\"updated_at\",\"published_at\",\"author_id\",\"reading_time\"],axis = 1,inplace = True)"
   ]
  },
  {
   "cell_type": "code",
   "execution_count": 75,
   "metadata": {},
   "outputs": [
    {
     "data": {
      "text/html": [
       "<div>\n",
       "<style scoped>\n",
       "    .dataframe tbody tr th:only-of-type {\n",
       "        vertical-align: middle;\n",
       "    }\n",
       "\n",
       "    .dataframe tbody tr th {\n",
       "        vertical-align: top;\n",
       "    }\n",
       "\n",
       "    .dataframe thead th {\n",
       "        text-align: right;\n",
       "    }\n",
       "</style>\n",
       "<table border=\"1\" class=\"dataframe\">\n",
       "  <thead>\n",
       "    <tr style=\"text-align: right;\">\n",
       "      <th></th>\n",
       "      <th>pratilipi_id</th>\n",
       "      <th>category_name</th>\n",
       "      <th>month</th>\n",
       "      <th>year</th>\n",
       "      <th>reading_time_min</th>\n",
       "    </tr>\n",
       "  </thead>\n",
       "  <tbody>\n",
       "    <tr>\n",
       "      <th>0</th>\n",
       "      <td>312572401325768</td>\n",
       "      <td>[novels, politics, social]</td>\n",
       "      <td>12.0</td>\n",
       "      <td>2017.0</td>\n",
       "      <td>0</td>\n",
       "    </tr>\n",
       "    <tr>\n",
       "      <th>1</th>\n",
       "      <td>96530313603384</td>\n",
       "      <td>[horror]</td>\n",
       "      <td>12.0</td>\n",
       "      <td>2017.0</td>\n",
       "      <td>0</td>\n",
       "    </tr>\n",
       "    <tr>\n",
       "      <th>2</th>\n",
       "      <td>1377786218853788</td>\n",
       "      <td>[novels, romance, suspense]</td>\n",
       "      <td>4.0</td>\n",
       "      <td>2020.0</td>\n",
       "      <td>1</td>\n",
       "    </tr>\n",
       "    <tr>\n",
       "      <th>3</th>\n",
       "      <td>1377786218889274</td>\n",
       "      <td>[novels, romance, suspense]</td>\n",
       "      <td>5.0</td>\n",
       "      <td>2020.0</td>\n",
       "      <td>1</td>\n",
       "    </tr>\n",
       "    <tr>\n",
       "      <th>4</th>\n",
       "      <td>1377786224904125</td>\n",
       "      <td>[detective, romance, murder mystery]</td>\n",
       "      <td>7.0</td>\n",
       "      <td>2021.0</td>\n",
       "      <td>4</td>\n",
       "    </tr>\n",
       "  </tbody>\n",
       "</table>\n",
       "</div>"
      ],
      "text/plain": [
       "       pratilipi_id                         category_name  month    year  \\\n",
       "0   312572401325768            [novels, politics, social]   12.0  2017.0   \n",
       "1    96530313603384                              [horror]   12.0  2017.0   \n",
       "2  1377786218853788           [novels, romance, suspense]    4.0  2020.0   \n",
       "3  1377786218889274           [novels, romance, suspense]    5.0  2020.0   \n",
       "4  1377786224904125  [detective, romance, murder mystery]    7.0  2021.0   \n",
       "\n",
       "   reading_time_min  \n",
       "0                 0  \n",
       "1                 0  \n",
       "2                 1  \n",
       "3                 1  \n",
       "4                 4  "
      ]
     },
     "execution_count": 75,
     "metadata": {},
     "output_type": "execute_result"
    }
   ],
   "source": [
    "meta.head()"
   ]
  },
  {
   "cell_type": "code",
   "execution_count": 76,
   "metadata": {},
   "outputs": [
    {
     "data": {
      "text/plain": [
       "Index(['pratilipi_id', 'category_name', 'month', 'year', 'reading_time_min'], dtype='object')"
      ]
     },
     "execution_count": 76,
     "metadata": {},
     "output_type": "execute_result"
    }
   ],
   "source": [
    "meta.columns"
   ]
  },
  {
   "cell_type": "code",
   "execution_count": 77,
   "metadata": {},
   "outputs": [
    {
     "data": {
      "text/html": [
       "<div>\n",
       "<style scoped>\n",
       "    .dataframe tbody tr th:only-of-type {\n",
       "        vertical-align: middle;\n",
       "    }\n",
       "\n",
       "    .dataframe tbody tr th {\n",
       "        vertical-align: top;\n",
       "    }\n",
       "\n",
       "    .dataframe thead th {\n",
       "        text-align: right;\n",
       "    }\n",
       "</style>\n",
       "<table border=\"1\" class=\"dataframe\">\n",
       "  <thead>\n",
       "    <tr style=\"text-align: right;\">\n",
       "      <th></th>\n",
       "      <th>user_id</th>\n",
       "      <th>pratilipi_id</th>\n",
       "      <th>read_percent</th>\n",
       "      <th>updated_at</th>\n",
       "    </tr>\n",
       "  </thead>\n",
       "  <tbody>\n",
       "    <tr>\n",
       "      <th>0</th>\n",
       "      <td>5506791992372558</td>\n",
       "      <td>1377786218111595</td>\n",
       "      <td>100.0</td>\n",
       "      <td>2022-03-23 00:08:25.250</td>\n",
       "    </tr>\n",
       "    <tr>\n",
       "      <th>1</th>\n",
       "      <td>5506791959279525</td>\n",
       "      <td>1377786225901639</td>\n",
       "      <td>100.0</td>\n",
       "      <td>2022-03-23 00:08:16.603</td>\n",
       "    </tr>\n",
       "    <tr>\n",
       "      <th>2</th>\n",
       "      <td>5506791973513254</td>\n",
       "      <td>1377786227564949</td>\n",
       "      <td>90.0</td>\n",
       "      <td>2022-03-23 00:08:14.542</td>\n",
       "    </tr>\n",
       "    <tr>\n",
       "      <th>3</th>\n",
       "      <td>5506791954805098</td>\n",
       "      <td>1377786220151688</td>\n",
       "      <td>100.0</td>\n",
       "      <td>2022-03-23 00:08:10.493</td>\n",
       "    </tr>\n",
       "    <tr>\n",
       "      <th>4</th>\n",
       "      <td>5506791976871041</td>\n",
       "      <td>1377786225173250</td>\n",
       "      <td>15.0</td>\n",
       "      <td>2022-03-23 00:08:04.897</td>\n",
       "    </tr>\n",
       "  </tbody>\n",
       "</table>\n",
       "</div>"
      ],
      "text/plain": [
       "            user_id      pratilipi_id  read_percent              updated_at\n",
       "0  5506791992372558  1377786218111595         100.0 2022-03-23 00:08:25.250\n",
       "1  5506791959279525  1377786225901639         100.0 2022-03-23 00:08:16.603\n",
       "2  5506791973513254  1377786227564949          90.0 2022-03-23 00:08:14.542\n",
       "3  5506791954805098  1377786220151688         100.0 2022-03-23 00:08:10.493\n",
       "4  5506791976871041  1377786225173250          15.0 2022-03-23 00:08:04.897"
      ]
     },
     "execution_count": 77,
     "metadata": {},
     "output_type": "execute_result"
    }
   ],
   "source": [
    "userdata.head()"
   ]
  },
  {
   "cell_type": "code",
   "execution_count": 78,
   "metadata": {},
   "outputs": [
    {
     "data": {
      "text/html": [
       "<div>\n",
       "<style scoped>\n",
       "    .dataframe tbody tr th:only-of-type {\n",
       "        vertical-align: middle;\n",
       "    }\n",
       "\n",
       "    .dataframe tbody tr th {\n",
       "        vertical-align: top;\n",
       "    }\n",
       "\n",
       "    .dataframe thead th {\n",
       "        text-align: right;\n",
       "    }\n",
       "</style>\n",
       "<table border=\"1\" class=\"dataframe\">\n",
       "  <thead>\n",
       "    <tr style=\"text-align: right;\">\n",
       "      <th></th>\n",
       "      <th>user_id</th>\n",
       "      <th>pratilipi_id</th>\n",
       "      <th>read_percent</th>\n",
       "      <th>updated_at</th>\n",
       "      <th>category_name</th>\n",
       "      <th>month</th>\n",
       "      <th>year</th>\n",
       "      <th>reading_time_min</th>\n",
       "    </tr>\n",
       "  </thead>\n",
       "  <tbody>\n",
       "    <tr>\n",
       "      <th>0</th>\n",
       "      <td>5506791992372558</td>\n",
       "      <td>1377786218111595</td>\n",
       "      <td>100.0</td>\n",
       "      <td>2022-03-23 00:08:25.250</td>\n",
       "      <td>[novels, romance, suspense]</td>\n",
       "      <td>2.0</td>\n",
       "      <td>2020.0</td>\n",
       "      <td>29</td>\n",
       "    </tr>\n",
       "    <tr>\n",
       "      <th>1</th>\n",
       "      <td>5506791959279525</td>\n",
       "      <td>1377786225901639</td>\n",
       "      <td>100.0</td>\n",
       "      <td>2022-03-23 00:08:16.603</td>\n",
       "      <td>[romance, suspense, horror]</td>\n",
       "      <td>10.0</td>\n",
       "      <td>2021.0</td>\n",
       "      <td>10</td>\n",
       "    </tr>\n",
       "    <tr>\n",
       "      <th>2</th>\n",
       "      <td>5506791973513254</td>\n",
       "      <td>1377786227564949</td>\n",
       "      <td>90.0</td>\n",
       "      <td>2022-03-23 00:08:14.542</td>\n",
       "      <td>[action and adventure, romance]</td>\n",
       "      <td>2.0</td>\n",
       "      <td>2022.0</td>\n",
       "      <td>8</td>\n",
       "    </tr>\n",
       "    <tr>\n",
       "      <th>3</th>\n",
       "      <td>5506791954805098</td>\n",
       "      <td>1377786220151688</td>\n",
       "      <td>100.0</td>\n",
       "      <td>2022-03-23 00:08:10.493</td>\n",
       "      <td>[family, romance, entertainment]</td>\n",
       "      <td>7.0</td>\n",
       "      <td>2020.0</td>\n",
       "      <td>5</td>\n",
       "    </tr>\n",
       "    <tr>\n",
       "      <th>4</th>\n",
       "      <td>5506791976871041</td>\n",
       "      <td>1377786225173250</td>\n",
       "      <td>15.0</td>\n",
       "      <td>2022-03-23 00:08:04.897</td>\n",
       "      <td>[novels, family, romance]</td>\n",
       "      <td>8.0</td>\n",
       "      <td>2021.0</td>\n",
       "      <td>12</td>\n",
       "    </tr>\n",
       "  </tbody>\n",
       "</table>\n",
       "</div>"
      ],
      "text/plain": [
       "            user_id      pratilipi_id  read_percent              updated_at  \\\n",
       "0  5506791992372558  1377786218111595         100.0 2022-03-23 00:08:25.250   \n",
       "1  5506791959279525  1377786225901639         100.0 2022-03-23 00:08:16.603   \n",
       "2  5506791973513254  1377786227564949          90.0 2022-03-23 00:08:14.542   \n",
       "3  5506791954805098  1377786220151688         100.0 2022-03-23 00:08:10.493   \n",
       "4  5506791976871041  1377786225173250          15.0 2022-03-23 00:08:04.897   \n",
       "\n",
       "                      category_name  month    year  reading_time_min  \n",
       "0       [novels, romance, suspense]    2.0  2020.0                29  \n",
       "1       [romance, suspense, horror]   10.0  2021.0                10  \n",
       "2   [action and adventure, romance]    2.0  2022.0                 8  \n",
       "3  [family, romance, entertainment]    7.0  2020.0                 5  \n",
       "4         [novels, family, romance]    8.0  2021.0                12  "
      ]
     },
     "execution_count": 78,
     "metadata": {},
     "output_type": "execute_result"
    }
   ],
   "source": [
    "df = userdata.merge(meta, on = 'pratilipi_id',how = 'left')\n",
    "df.head()"
   ]
  },
  {
   "cell_type": "code",
   "execution_count": 79,
   "metadata": {},
   "outputs": [],
   "source": [
    "#function to build entire feature set and merging both dataset\n",
    "from sklearn.feature_extraction.text import TfidfVectorizer\n",
    "def create_feature_set(meta,indata):\n",
    "    \"\"\" \n",
    "    Process df to create a final set of features that will be used to generate recommendations\n",
    "\n",
    "    Parameters: \n",
    "        df (pandas dataframe): Dataframe\n",
    "        float_cols (list(str)): List of float columns that will be scaled \n",
    "        \n",
    "    Returns: \n",
    "        final: final set of features \n",
    "    \"\"\"\n",
    "    df = indata.merge(meta, on = 'pratilipi_id',how = 'left')\n",
    "    tfidf = TfidfVectorizer()\n",
    "    tfidf_matrix =  tfidf.fit_transform(df['category_name'].apply(lambda x: \",\".join(x)))\n",
    "    genre_df = pd.DataFrame(tfidf_matrix.toarray())\n",
    "    genre_df.columns = ['genre' + \"|\" + i for i in tfidf.get_feature_names()]\n",
    "    genre_df.reset_index(drop = True, inplace=True)\n",
    "    #concanenate all features\n",
    "    final = pd.concat([df,genre_df], axis = 1)\n",
    "    final.drop([\"category_name\"],axis =1,inplace = True)\n",
    "    print(genre_df.columns)\n",
    "    return final"
   ]
  },
  {
   "cell_type": "code",
   "execution_count": 80,
   "metadata": {},
   "outputs": [
    {
     "name": "stdout",
     "output_type": "stream",
     "text": [
      "Index(['genre|action', 'genre|adventure', 'genre|and', 'genre|awards',\n",
      "       'genre|challenge', 'genre|chat', 'genre|children', 'genre|comedy',\n",
      "       'genre|crime', 'genre|cyber', 'genre|detective', 'genre|drama',\n",
      "       'genre|entertainment', 'genre|erotica', 'genre|experiences',\n",
      "       'genre|family', 'genre|fantasy', 'genre|fiction', 'genre|health',\n",
      "       'genre|hindi', 'genre|horror', 'genre|indiawale', 'genre|inspiring',\n",
      "       'genre|jeevan', 'genre|kalamkar', 'genre|kids', 'genre|krishi',\n",
      "       'genre|lekhan', 'genre|life', 'genre|marathon', 'genre|memories',\n",
      "       'genre|moral', 'genre|murder', 'genre|mystery', 'genre|mythology',\n",
      "       'genre|novels', 'genre|parytan', 'genre|politics', 'genre|pratilipi',\n",
      "       'genre|pravasi', 'genre|premkamahina', 'genre|radio', 'genre|rashtriya',\n",
      "       'genre|relegion', 'genre|romance', 'genre|sahitya', 'genre|samman',\n",
      "       'genre|science', 'genre|serieswriting', 'genre|short',\n",
      "       'genre|shortstories', 'genre|social', 'genre|spiritual', 'genre|story',\n",
      "       'genre|suspense', 'genre|swahindi2', 'genre|the', 'genre|translation',\n",
      "       'genre|webseries', 'genre|wellness', 'genre|women'],\n",
      "      dtype='object')\n"
     ]
    }
   ],
   "source": [
    "final = create_feature_set(meta,userdata)"
   ]
  },
  {
   "cell_type": "code",
   "execution_count": 81,
   "metadata": {},
   "outputs": [
    {
     "data": {
      "text/html": [
       "<div>\n",
       "<style scoped>\n",
       "    .dataframe tbody tr th:only-of-type {\n",
       "        vertical-align: middle;\n",
       "    }\n",
       "\n",
       "    .dataframe tbody tr th {\n",
       "        vertical-align: top;\n",
       "    }\n",
       "\n",
       "    .dataframe thead th {\n",
       "        text-align: right;\n",
       "    }\n",
       "</style>\n",
       "<table border=\"1\" class=\"dataframe\">\n",
       "  <thead>\n",
       "    <tr style=\"text-align: right;\">\n",
       "      <th></th>\n",
       "      <th>user_id</th>\n",
       "      <th>pratilipi_id</th>\n",
       "      <th>read_percent</th>\n",
       "      <th>updated_at</th>\n",
       "      <th>month</th>\n",
       "      <th>year</th>\n",
       "      <th>reading_time_min</th>\n",
       "      <th>genre|action</th>\n",
       "      <th>genre|adventure</th>\n",
       "      <th>genre|and</th>\n",
       "      <th>...</th>\n",
       "      <th>genre|social</th>\n",
       "      <th>genre|spiritual</th>\n",
       "      <th>genre|story</th>\n",
       "      <th>genre|suspense</th>\n",
       "      <th>genre|swahindi2</th>\n",
       "      <th>genre|the</th>\n",
       "      <th>genre|translation</th>\n",
       "      <th>genre|webseries</th>\n",
       "      <th>genre|wellness</th>\n",
       "      <th>genre|women</th>\n",
       "    </tr>\n",
       "  </thead>\n",
       "  <tbody>\n",
       "    <tr>\n",
       "      <th>0</th>\n",
       "      <td>5506791992372558</td>\n",
       "      <td>1377786218111595</td>\n",
       "      <td>100.0</td>\n",
       "      <td>2022-03-23 00:08:25.250</td>\n",
       "      <td>2.0</td>\n",
       "      <td>2020.0</td>\n",
       "      <td>29</td>\n",
       "      <td>0.000000</td>\n",
       "      <td>0.000000</td>\n",
       "      <td>0.000000</td>\n",
       "      <td>...</td>\n",
       "      <td>0.0</td>\n",
       "      <td>0.0</td>\n",
       "      <td>0.0</td>\n",
       "      <td>0.681687</td>\n",
       "      <td>0.0</td>\n",
       "      <td>0.0</td>\n",
       "      <td>0.0</td>\n",
       "      <td>0.0</td>\n",
       "      <td>0.0</td>\n",
       "      <td>0.0</td>\n",
       "    </tr>\n",
       "    <tr>\n",
       "      <th>1</th>\n",
       "      <td>5506791959279525</td>\n",
       "      <td>1377786225901639</td>\n",
       "      <td>100.0</td>\n",
       "      <td>2022-03-23 00:08:16.603</td>\n",
       "      <td>10.0</td>\n",
       "      <td>2021.0</td>\n",
       "      <td>10</td>\n",
       "      <td>0.000000</td>\n",
       "      <td>0.000000</td>\n",
       "      <td>0.000000</td>\n",
       "      <td>...</td>\n",
       "      <td>0.0</td>\n",
       "      <td>0.0</td>\n",
       "      <td>0.0</td>\n",
       "      <td>0.478954</td>\n",
       "      <td>0.0</td>\n",
       "      <td>0.0</td>\n",
       "      <td>0.0</td>\n",
       "      <td>0.0</td>\n",
       "      <td>0.0</td>\n",
       "      <td>0.0</td>\n",
       "    </tr>\n",
       "    <tr>\n",
       "      <th>2</th>\n",
       "      <td>5506791973513254</td>\n",
       "      <td>1377786227564949</td>\n",
       "      <td>90.0</td>\n",
       "      <td>2022-03-23 00:08:14.542</td>\n",
       "      <td>2.0</td>\n",
       "      <td>2022.0</td>\n",
       "      <td>8</td>\n",
       "      <td>0.565112</td>\n",
       "      <td>0.565112</td>\n",
       "      <td>0.552805</td>\n",
       "      <td>...</td>\n",
       "      <td>0.0</td>\n",
       "      <td>0.0</td>\n",
       "      <td>0.0</td>\n",
       "      <td>0.000000</td>\n",
       "      <td>0.0</td>\n",
       "      <td>0.0</td>\n",
       "      <td>0.0</td>\n",
       "      <td>0.0</td>\n",
       "      <td>0.0</td>\n",
       "      <td>0.0</td>\n",
       "    </tr>\n",
       "    <tr>\n",
       "      <th>3</th>\n",
       "      <td>5506791954805098</td>\n",
       "      <td>1377786220151688</td>\n",
       "      <td>100.0</td>\n",
       "      <td>2022-03-23 00:08:10.493</td>\n",
       "      <td>7.0</td>\n",
       "      <td>2020.0</td>\n",
       "      <td>5</td>\n",
       "      <td>0.000000</td>\n",
       "      <td>0.000000</td>\n",
       "      <td>0.000000</td>\n",
       "      <td>...</td>\n",
       "      <td>0.0</td>\n",
       "      <td>0.0</td>\n",
       "      <td>0.0</td>\n",
       "      <td>0.000000</td>\n",
       "      <td>0.0</td>\n",
       "      <td>0.0</td>\n",
       "      <td>0.0</td>\n",
       "      <td>0.0</td>\n",
       "      <td>0.0</td>\n",
       "      <td>0.0</td>\n",
       "    </tr>\n",
       "    <tr>\n",
       "      <th>4</th>\n",
       "      <td>5506791976871041</td>\n",
       "      <td>1377786225173250</td>\n",
       "      <td>15.0</td>\n",
       "      <td>2022-03-23 00:08:04.897</td>\n",
       "      <td>8.0</td>\n",
       "      <td>2021.0</td>\n",
       "      <td>12</td>\n",
       "      <td>0.000000</td>\n",
       "      <td>0.000000</td>\n",
       "      <td>0.000000</td>\n",
       "      <td>...</td>\n",
       "      <td>0.0</td>\n",
       "      <td>0.0</td>\n",
       "      <td>0.0</td>\n",
       "      <td>0.000000</td>\n",
       "      <td>0.0</td>\n",
       "      <td>0.0</td>\n",
       "      <td>0.0</td>\n",
       "      <td>0.0</td>\n",
       "      <td>0.0</td>\n",
       "      <td>0.0</td>\n",
       "    </tr>\n",
       "  </tbody>\n",
       "</table>\n",
       "<p>5 rows × 68 columns</p>\n",
       "</div>"
      ],
      "text/plain": [
       "            user_id      pratilipi_id  read_percent              updated_at  \\\n",
       "0  5506791992372558  1377786218111595         100.0 2022-03-23 00:08:25.250   \n",
       "1  5506791959279525  1377786225901639         100.0 2022-03-23 00:08:16.603   \n",
       "2  5506791973513254  1377786227564949          90.0 2022-03-23 00:08:14.542   \n",
       "3  5506791954805098  1377786220151688         100.0 2022-03-23 00:08:10.493   \n",
       "4  5506791976871041  1377786225173250          15.0 2022-03-23 00:08:04.897   \n",
       "\n",
       "   month    year  reading_time_min  genre|action  genre|adventure  genre|and  \\\n",
       "0    2.0  2020.0                29      0.000000         0.000000   0.000000   \n",
       "1   10.0  2021.0                10      0.000000         0.000000   0.000000   \n",
       "2    2.0  2022.0                 8      0.565112         0.565112   0.552805   \n",
       "3    7.0  2020.0                 5      0.000000         0.000000   0.000000   \n",
       "4    8.0  2021.0                12      0.000000         0.000000   0.000000   \n",
       "\n",
       "   ...  genre|social  genre|spiritual  genre|story  genre|suspense  \\\n",
       "0  ...           0.0              0.0          0.0        0.681687   \n",
       "1  ...           0.0              0.0          0.0        0.478954   \n",
       "2  ...           0.0              0.0          0.0        0.000000   \n",
       "3  ...           0.0              0.0          0.0        0.000000   \n",
       "4  ...           0.0              0.0          0.0        0.000000   \n",
       "\n",
       "   genre|swahindi2  genre|the  genre|translation  genre|webseries  \\\n",
       "0              0.0        0.0                0.0              0.0   \n",
       "1              0.0        0.0                0.0              0.0   \n",
       "2              0.0        0.0                0.0              0.0   \n",
       "3              0.0        0.0                0.0              0.0   \n",
       "4              0.0        0.0                0.0              0.0   \n",
       "\n",
       "   genre|wellness  genre|women  \n",
       "0             0.0          0.0  \n",
       "1             0.0          0.0  \n",
       "2             0.0          0.0  \n",
       "3             0.0          0.0  \n",
       "4             0.0          0.0  \n",
       "\n",
       "[5 rows x 68 columns]"
      ]
     },
     "execution_count": 81,
     "metadata": {},
     "output_type": "execute_result"
    }
   ],
   "source": [
    "final.head()"
   ]
  },
  {
   "cell_type": "code",
   "execution_count": 82,
   "metadata": {},
   "outputs": [
    {
     "data": {
      "text/plain": [
       "(273990, 68)"
      ]
     },
     "execution_count": 82,
     "metadata": {},
     "output_type": "execute_result"
    }
   ],
   "source": [
    "final.shape"
   ]
  },
  {
   "cell_type": "markdown",
   "metadata": {},
   "source": [
    "### Splitting the whole dataset per user into 75-25 for train test split according to timestamp so that prediction are not done using future data"
   ]
  },
  {
   "cell_type": "code",
   "execution_count": 83,
   "metadata": {},
   "outputs": [],
   "source": [
    "ranks = final.groupby('user_id')['updated_at'].rank(method='first')"
   ]
  },
  {
   "cell_type": "code",
   "execution_count": 84,
   "metadata": {},
   "outputs": [
    {
     "data": {
      "text/plain": [
       "0         27.0\n",
       "1         30.0\n",
       "2         67.0\n",
       "3         17.0\n",
       "4         25.0\n",
       "          ... \n",
       "273985     2.0\n",
       "273986     1.0\n",
       "273987     1.0\n",
       "273988     1.0\n",
       "273989     1.0\n",
       "Name: updated_at, Length: 273990, dtype: float64"
      ]
     },
     "execution_count": 84,
     "metadata": {},
     "output_type": "execute_result"
    }
   ],
   "source": [
    "ranks"
   ]
  },
  {
   "cell_type": "code",
   "execution_count": 85,
   "metadata": {},
   "outputs": [],
   "source": [
    "counts = final['user_id'].map(df.groupby('user_id')['updated_at'].apply(len))"
   ]
  },
  {
   "cell_type": "code",
   "execution_count": 86,
   "metadata": {},
   "outputs": [],
   "source": [
    "final[\"train\"]=(ranks / counts) <= 0.75"
   ]
  },
  {
   "cell_type": "code",
   "execution_count": 87,
   "metadata": {},
   "outputs": [
    {
     "data": {
      "text/plain": [
       "True     200799\n",
       "False     73191\n",
       "Name: train, dtype: int64"
      ]
     },
     "execution_count": 87,
     "metadata": {},
     "output_type": "execute_result"
    }
   ],
   "source": [
    "final[\"train\"].value_counts()"
   ]
  },
  {
   "cell_type": "code",
   "execution_count": 88,
   "metadata": {},
   "outputs": [],
   "source": [
    "train,test = final[final[\"train\"]==True].reset_index(drop = True),final[final[\"train\"]==False].reset_index(drop = True)"
   ]
  },
  {
   "cell_type": "code",
   "execution_count": 89,
   "metadata": {},
   "outputs": [
    {
     "data": {
      "text/plain": [
       "(12085, 12263)"
      ]
     },
     "execution_count": 89,
     "metadata": {},
     "output_type": "execute_result"
    }
   ],
   "source": [
    "len(train[\"user_id\"].unique()),len(test[\"user_id\"].unique())"
   ]
  },
  {
   "cell_type": "code",
   "execution_count": 90,
   "metadata": {},
   "outputs": [
    {
     "data": {
      "text/plain": [
       "((200799, 69), (73191, 69))"
      ]
     },
     "execution_count": 90,
     "metadata": {},
     "output_type": "execute_result"
    }
   ],
   "source": [
    "train.shape,   test.shape"
   ]
  },
  {
   "cell_type": "code",
   "execution_count": 91,
   "metadata": {},
   "outputs": [
    {
     "data": {
      "text/html": [
       "<div>\n",
       "<style scoped>\n",
       "    .dataframe tbody tr th:only-of-type {\n",
       "        vertical-align: middle;\n",
       "    }\n",
       "\n",
       "    .dataframe tbody tr th {\n",
       "        vertical-align: top;\n",
       "    }\n",
       "\n",
       "    .dataframe thead th {\n",
       "        text-align: right;\n",
       "    }\n",
       "</style>\n",
       "<table border=\"1\" class=\"dataframe\">\n",
       "  <thead>\n",
       "    <tr style=\"text-align: right;\">\n",
       "      <th></th>\n",
       "      <th>user_id</th>\n",
       "      <th>pratilipi_id</th>\n",
       "      <th>read_percent</th>\n",
       "      <th>updated_at</th>\n",
       "      <th>month</th>\n",
       "      <th>year</th>\n",
       "      <th>reading_time_min</th>\n",
       "      <th>genre|action</th>\n",
       "      <th>genre|adventure</th>\n",
       "      <th>genre|and</th>\n",
       "      <th>...</th>\n",
       "      <th>genre|spiritual</th>\n",
       "      <th>genre|story</th>\n",
       "      <th>genre|suspense</th>\n",
       "      <th>genre|swahindi2</th>\n",
       "      <th>genre|the</th>\n",
       "      <th>genre|translation</th>\n",
       "      <th>genre|webseries</th>\n",
       "      <th>genre|wellness</th>\n",
       "      <th>genre|women</th>\n",
       "      <th>train</th>\n",
       "    </tr>\n",
       "  </thead>\n",
       "  <tbody>\n",
       "    <tr>\n",
       "      <th>0</th>\n",
       "      <td>5506791992372558</td>\n",
       "      <td>1377786218111595</td>\n",
       "      <td>100.0</td>\n",
       "      <td>2022-03-23 00:08:25.250</td>\n",
       "      <td>2.0</td>\n",
       "      <td>2020.0</td>\n",
       "      <td>29</td>\n",
       "      <td>0.000000</td>\n",
       "      <td>0.000000</td>\n",
       "      <td>0.000000</td>\n",
       "      <td>...</td>\n",
       "      <td>0.0</td>\n",
       "      <td>0.0</td>\n",
       "      <td>0.681687</td>\n",
       "      <td>0.0</td>\n",
       "      <td>0.0</td>\n",
       "      <td>0.0</td>\n",
       "      <td>0.0</td>\n",
       "      <td>0.0</td>\n",
       "      <td>0.0</td>\n",
       "      <td>False</td>\n",
       "    </tr>\n",
       "    <tr>\n",
       "      <th>1</th>\n",
       "      <td>5506791959279525</td>\n",
       "      <td>1377786225901639</td>\n",
       "      <td>100.0</td>\n",
       "      <td>2022-03-23 00:08:16.603</td>\n",
       "      <td>10.0</td>\n",
       "      <td>2021.0</td>\n",
       "      <td>10</td>\n",
       "      <td>0.000000</td>\n",
       "      <td>0.000000</td>\n",
       "      <td>0.000000</td>\n",
       "      <td>...</td>\n",
       "      <td>0.0</td>\n",
       "      <td>0.0</td>\n",
       "      <td>0.478954</td>\n",
       "      <td>0.0</td>\n",
       "      <td>0.0</td>\n",
       "      <td>0.0</td>\n",
       "      <td>0.0</td>\n",
       "      <td>0.0</td>\n",
       "      <td>0.0</td>\n",
       "      <td>False</td>\n",
       "    </tr>\n",
       "    <tr>\n",
       "      <th>2</th>\n",
       "      <td>5506791973513254</td>\n",
       "      <td>1377786227564949</td>\n",
       "      <td>90.0</td>\n",
       "      <td>2022-03-23 00:08:14.542</td>\n",
       "      <td>2.0</td>\n",
       "      <td>2022.0</td>\n",
       "      <td>8</td>\n",
       "      <td>0.565112</td>\n",
       "      <td>0.565112</td>\n",
       "      <td>0.552805</td>\n",
       "      <td>...</td>\n",
       "      <td>0.0</td>\n",
       "      <td>0.0</td>\n",
       "      <td>0.000000</td>\n",
       "      <td>0.0</td>\n",
       "      <td>0.0</td>\n",
       "      <td>0.0</td>\n",
       "      <td>0.0</td>\n",
       "      <td>0.0</td>\n",
       "      <td>0.0</td>\n",
       "      <td>False</td>\n",
       "    </tr>\n",
       "    <tr>\n",
       "      <th>3</th>\n",
       "      <td>5506791954805098</td>\n",
       "      <td>1377786220151688</td>\n",
       "      <td>100.0</td>\n",
       "      <td>2022-03-23 00:08:10.493</td>\n",
       "      <td>7.0</td>\n",
       "      <td>2020.0</td>\n",
       "      <td>5</td>\n",
       "      <td>0.000000</td>\n",
       "      <td>0.000000</td>\n",
       "      <td>0.000000</td>\n",
       "      <td>...</td>\n",
       "      <td>0.0</td>\n",
       "      <td>0.0</td>\n",
       "      <td>0.000000</td>\n",
       "      <td>0.0</td>\n",
       "      <td>0.0</td>\n",
       "      <td>0.0</td>\n",
       "      <td>0.0</td>\n",
       "      <td>0.0</td>\n",
       "      <td>0.0</td>\n",
       "      <td>False</td>\n",
       "    </tr>\n",
       "    <tr>\n",
       "      <th>4</th>\n",
       "      <td>5506791976871041</td>\n",
       "      <td>1377786225173250</td>\n",
       "      <td>15.0</td>\n",
       "      <td>2022-03-23 00:08:04.897</td>\n",
       "      <td>8.0</td>\n",
       "      <td>2021.0</td>\n",
       "      <td>12</td>\n",
       "      <td>0.000000</td>\n",
       "      <td>0.000000</td>\n",
       "      <td>0.000000</td>\n",
       "      <td>...</td>\n",
       "      <td>0.0</td>\n",
       "      <td>0.0</td>\n",
       "      <td>0.000000</td>\n",
       "      <td>0.0</td>\n",
       "      <td>0.0</td>\n",
       "      <td>0.0</td>\n",
       "      <td>0.0</td>\n",
       "      <td>0.0</td>\n",
       "      <td>0.0</td>\n",
       "      <td>False</td>\n",
       "    </tr>\n",
       "  </tbody>\n",
       "</table>\n",
       "<p>5 rows × 69 columns</p>\n",
       "</div>"
      ],
      "text/plain": [
       "            user_id      pratilipi_id  read_percent              updated_at  \\\n",
       "0  5506791992372558  1377786218111595         100.0 2022-03-23 00:08:25.250   \n",
       "1  5506791959279525  1377786225901639         100.0 2022-03-23 00:08:16.603   \n",
       "2  5506791973513254  1377786227564949          90.0 2022-03-23 00:08:14.542   \n",
       "3  5506791954805098  1377786220151688         100.0 2022-03-23 00:08:10.493   \n",
       "4  5506791976871041  1377786225173250          15.0 2022-03-23 00:08:04.897   \n",
       "\n",
       "   month    year  reading_time_min  genre|action  genre|adventure  genre|and  \\\n",
       "0    2.0  2020.0                29      0.000000         0.000000   0.000000   \n",
       "1   10.0  2021.0                10      0.000000         0.000000   0.000000   \n",
       "2    2.0  2022.0                 8      0.565112         0.565112   0.552805   \n",
       "3    7.0  2020.0                 5      0.000000         0.000000   0.000000   \n",
       "4    8.0  2021.0                12      0.000000         0.000000   0.000000   \n",
       "\n",
       "   ...  genre|spiritual  genre|story  genre|suspense  genre|swahindi2  \\\n",
       "0  ...              0.0          0.0        0.681687              0.0   \n",
       "1  ...              0.0          0.0        0.478954              0.0   \n",
       "2  ...              0.0          0.0        0.000000              0.0   \n",
       "3  ...              0.0          0.0        0.000000              0.0   \n",
       "4  ...              0.0          0.0        0.000000              0.0   \n",
       "\n",
       "   genre|the  genre|translation  genre|webseries  genre|wellness  genre|women  \\\n",
       "0        0.0                0.0              0.0             0.0          0.0   \n",
       "1        0.0                0.0              0.0             0.0          0.0   \n",
       "2        0.0                0.0              0.0             0.0          0.0   \n",
       "3        0.0                0.0              0.0             0.0          0.0   \n",
       "4        0.0                0.0              0.0             0.0          0.0   \n",
       "\n",
       "   train  \n",
       "0  False  \n",
       "1  False  \n",
       "2  False  \n",
       "3  False  \n",
       "4  False  \n",
       "\n",
       "[5 rows x 69 columns]"
      ]
     },
     "execution_count": 91,
     "metadata": {},
     "output_type": "execute_result"
    }
   ],
   "source": [
    "test.head()"
   ]
  },
  {
   "cell_type": "code",
   "execution_count": 92,
   "metadata": {},
   "outputs": [],
   "source": [
    "test = test[test[\"user_id\"].isin(train[\"user_id\"].unique())]\n",
    "test = test[test[\"pratilipi_id\"].isin(train[\"pratilipi_id\"].unique())]"
   ]
  },
  {
   "cell_type": "code",
   "execution_count": 93,
   "metadata": {},
   "outputs": [
    {
     "data": {
      "text/plain": [
       "(61435, 69)"
      ]
     },
     "execution_count": 93,
     "metadata": {},
     "output_type": "execute_result"
    }
   ],
   "source": [
    "test.shape"
   ]
  },
  {
   "cell_type": "code",
   "execution_count": 94,
   "metadata": {},
   "outputs": [],
   "source": [
    "train.to_csv(\"train.csv\",index = False)\n",
    "test.to_csv(\"test.csv\",index = False)"
   ]
  },
  {
   "cell_type": "code",
   "execution_count": null,
   "metadata": {},
   "outputs": [],
   "source": []
  }
 ],
 "metadata": {
  "kernelspec": {
   "display_name": "Python 3 (ipykernel)",
   "language": "python",
   "name": "python3"
  },
  "language_info": {
   "codemirror_mode": {
    "name": "ipython",
    "version": 3
   },
   "file_extension": ".py",
   "mimetype": "text/x-python",
   "name": "python",
   "nbconvert_exporter": "python",
   "pygments_lexer": "ipython3",
   "version": "3.8.5"
  }
 },
 "nbformat": 4,
 "nbformat_minor": 4
}
