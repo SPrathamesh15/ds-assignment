{
 "cells": [
  {
   "cell_type": "markdown",
   "metadata": {},
   "source": [
    "<div align=\"center\"><h1 style=\"color:red\">DS-Assignment Model Building</h1></div>\n",
    "\n",
    "---"
   ]
  },
  {
   "cell_type": "code",
   "execution_count": 1,
   "metadata": {},
   "outputs": [
    {
     "name": "stderr",
     "output_type": "stream",
     "text": [
      "C:\\ProgramData\\Anaconda3\\lib\\site-packages\\lightfm\\_lightfm_fast.py:9: UserWarning: LightFM was compiled without OpenMP support. Only a single thread will be used.\n",
      "  warnings.warn(\n"
     ]
    }
   ],
   "source": [
    "#!pip install lightfm\n",
    "import lightfm\n",
    "import numpy as np\n",
    "import pandas as pd\n",
    "from matplotlib import pyplot as plt\n",
    "from lightfm.data import Dataset\n",
    "from lightfm import LightFM\n",
    "from lightfm.evaluation import precision_at_k, auc_score,recall_at_k,reciprocal_rank\n",
    "from copy import deepcopy\n",
    "import os"
   ]
  },
  {
   "cell_type": "code",
   "execution_count": 2,
   "metadata": {},
   "outputs": [],
   "source": [
    "final_train = pd.read_csv('train.csv')\n",
    "final_test = pd.read_csv('test.csv')"
   ]
  },
  {
   "cell_type": "code",
   "execution_count": 3,
   "metadata": {},
   "outputs": [
    {
     "data": {
      "text/html": [
       "<div>\n",
       "<style scoped>\n",
       "    .dataframe tbody tr th:only-of-type {\n",
       "        vertical-align: middle;\n",
       "    }\n",
       "\n",
       "    .dataframe tbody tr th {\n",
       "        vertical-align: top;\n",
       "    }\n",
       "\n",
       "    .dataframe thead th {\n",
       "        text-align: right;\n",
       "    }\n",
       "</style>\n",
       "<table border=\"1\" class=\"dataframe\">\n",
       "  <thead>\n",
       "    <tr style=\"text-align: right;\">\n",
       "      <th></th>\n",
       "      <th>user_id</th>\n",
       "      <th>pratilipi_id</th>\n",
       "      <th>read_percent</th>\n",
       "      <th>updated_at</th>\n",
       "      <th>month</th>\n",
       "      <th>year</th>\n",
       "      <th>reading_time_min</th>\n",
       "      <th>genre|action</th>\n",
       "      <th>genre|adventure</th>\n",
       "      <th>genre|and</th>\n",
       "      <th>...</th>\n",
       "      <th>genre|spiritual</th>\n",
       "      <th>genre|story</th>\n",
       "      <th>genre|suspense</th>\n",
       "      <th>genre|swahindi2</th>\n",
       "      <th>genre|the</th>\n",
       "      <th>genre|translation</th>\n",
       "      <th>genre|webseries</th>\n",
       "      <th>genre|wellness</th>\n",
       "      <th>genre|women</th>\n",
       "      <th>train</th>\n",
       "    </tr>\n",
       "  </thead>\n",
       "  <tbody>\n",
       "    <tr>\n",
       "      <th>0</th>\n",
       "      <td>5506791949051549</td>\n",
       "      <td>1377786227473306</td>\n",
       "      <td>100.0</td>\n",
       "      <td>2022-03-23 00:06:07.280</td>\n",
       "      <td>1.0</td>\n",
       "      <td>2022.0</td>\n",
       "      <td>4</td>\n",
       "      <td>0.000000</td>\n",
       "      <td>0.000000</td>\n",
       "      <td>0.000000</td>\n",
       "      <td>...</td>\n",
       "      <td>0.0</td>\n",
       "      <td>0.0</td>\n",
       "      <td>0.000000</td>\n",
       "      <td>0.0</td>\n",
       "      <td>0.0</td>\n",
       "      <td>0.0</td>\n",
       "      <td>0.0</td>\n",
       "      <td>0.0</td>\n",
       "      <td>0.0</td>\n",
       "      <td>True</td>\n",
       "    </tr>\n",
       "    <tr>\n",
       "      <th>1</th>\n",
       "      <td>5506791949051549</td>\n",
       "      <td>1377786227547613</td>\n",
       "      <td>100.0</td>\n",
       "      <td>2022-03-23 00:06:05.988</td>\n",
       "      <td>2.0</td>\n",
       "      <td>2022.0</td>\n",
       "      <td>5</td>\n",
       "      <td>0.000000</td>\n",
       "      <td>0.000000</td>\n",
       "      <td>0.000000</td>\n",
       "      <td>...</td>\n",
       "      <td>0.0</td>\n",
       "      <td>0.0</td>\n",
       "      <td>0.000000</td>\n",
       "      <td>0.0</td>\n",
       "      <td>0.0</td>\n",
       "      <td>0.0</td>\n",
       "      <td>0.0</td>\n",
       "      <td>0.0</td>\n",
       "      <td>0.0</td>\n",
       "      <td>True</td>\n",
       "    </tr>\n",
       "    <tr>\n",
       "      <th>2</th>\n",
       "      <td>5506791963035645</td>\n",
       "      <td>1377786228336911</td>\n",
       "      <td>100.0</td>\n",
       "      <td>2022-03-23 00:06:01.889</td>\n",
       "      <td>3.0</td>\n",
       "      <td>2022.0</td>\n",
       "      <td>11</td>\n",
       "      <td>0.000000</td>\n",
       "      <td>0.000000</td>\n",
       "      <td>0.000000</td>\n",
       "      <td>...</td>\n",
       "      <td>0.0</td>\n",
       "      <td>0.0</td>\n",
       "      <td>0.000000</td>\n",
       "      <td>0.0</td>\n",
       "      <td>0.0</td>\n",
       "      <td>0.0</td>\n",
       "      <td>0.0</td>\n",
       "      <td>0.0</td>\n",
       "      <td>0.0</td>\n",
       "      <td>True</td>\n",
       "    </tr>\n",
       "    <tr>\n",
       "      <th>3</th>\n",
       "      <td>5506791981255160</td>\n",
       "      <td>1377786222836248</td>\n",
       "      <td>100.0</td>\n",
       "      <td>2022-03-23 00:03:56.342</td>\n",
       "      <td>2.0</td>\n",
       "      <td>2021.0</td>\n",
       "      <td>3</td>\n",
       "      <td>0.000000</td>\n",
       "      <td>0.000000</td>\n",
       "      <td>0.000000</td>\n",
       "      <td>...</td>\n",
       "      <td>0.0</td>\n",
       "      <td>0.0</td>\n",
       "      <td>0.000000</td>\n",
       "      <td>0.0</td>\n",
       "      <td>0.0</td>\n",
       "      <td>0.0</td>\n",
       "      <td>0.0</td>\n",
       "      <td>0.0</td>\n",
       "      <td>0.0</td>\n",
       "      <td>True</td>\n",
       "    </tr>\n",
       "    <tr>\n",
       "      <th>4</th>\n",
       "      <td>5506791981255160</td>\n",
       "      <td>1377786218892660</td>\n",
       "      <td>100.0</td>\n",
       "      <td>2022-03-23 00:03:56.059</td>\n",
       "      <td>4.0</td>\n",
       "      <td>2020.0</td>\n",
       "      <td>4</td>\n",
       "      <td>0.432808</td>\n",
       "      <td>0.432808</td>\n",
       "      <td>0.423382</td>\n",
       "      <td>...</td>\n",
       "      <td>0.0</td>\n",
       "      <td>0.0</td>\n",
       "      <td>0.331406</td>\n",
       "      <td>0.0</td>\n",
       "      <td>0.0</td>\n",
       "      <td>0.0</td>\n",
       "      <td>0.0</td>\n",
       "      <td>0.0</td>\n",
       "      <td>0.0</td>\n",
       "      <td>True</td>\n",
       "    </tr>\n",
       "  </tbody>\n",
       "</table>\n",
       "<p>5 rows × 69 columns</p>\n",
       "</div>"
      ],
      "text/plain": [
       "            user_id      pratilipi_id  read_percent               updated_at  \\\n",
       "0  5506791949051549  1377786227473306         100.0  2022-03-23 00:06:07.280   \n",
       "1  5506791949051549  1377786227547613         100.0  2022-03-23 00:06:05.988   \n",
       "2  5506791963035645  1377786228336911         100.0  2022-03-23 00:06:01.889   \n",
       "3  5506791981255160  1377786222836248         100.0  2022-03-23 00:03:56.342   \n",
       "4  5506791981255160  1377786218892660         100.0  2022-03-23 00:03:56.059   \n",
       "\n",
       "   month    year  reading_time_min  genre|action  genre|adventure  genre|and  \\\n",
       "0    1.0  2022.0                 4      0.000000         0.000000   0.000000   \n",
       "1    2.0  2022.0                 5      0.000000         0.000000   0.000000   \n",
       "2    3.0  2022.0                11      0.000000         0.000000   0.000000   \n",
       "3    2.0  2021.0                 3      0.000000         0.000000   0.000000   \n",
       "4    4.0  2020.0                 4      0.432808         0.432808   0.423382   \n",
       "\n",
       "   ...  genre|spiritual  genre|story  genre|suspense  genre|swahindi2  \\\n",
       "0  ...              0.0          0.0        0.000000              0.0   \n",
       "1  ...              0.0          0.0        0.000000              0.0   \n",
       "2  ...              0.0          0.0        0.000000              0.0   \n",
       "3  ...              0.0          0.0        0.000000              0.0   \n",
       "4  ...              0.0          0.0        0.331406              0.0   \n",
       "\n",
       "   genre|the  genre|translation  genre|webseries  genre|wellness  genre|women  \\\n",
       "0        0.0                0.0              0.0             0.0          0.0   \n",
       "1        0.0                0.0              0.0             0.0          0.0   \n",
       "2        0.0                0.0              0.0             0.0          0.0   \n",
       "3        0.0                0.0              0.0             0.0          0.0   \n",
       "4        0.0                0.0              0.0             0.0          0.0   \n",
       "\n",
       "   train  \n",
       "0   True  \n",
       "1   True  \n",
       "2   True  \n",
       "3   True  \n",
       "4   True  \n",
       "\n",
       "[5 rows x 69 columns]"
      ]
     },
     "execution_count": 3,
     "metadata": {},
     "output_type": "execute_result"
    }
   ],
   "source": [
    "final_train.head()"
   ]
  },
  {
   "cell_type": "code",
   "execution_count": 4,
   "metadata": {},
   "outputs": [
    {
     "data": {
      "text/html": [
       "<div>\n",
       "<style scoped>\n",
       "    .dataframe tbody tr th:only-of-type {\n",
       "        vertical-align: middle;\n",
       "    }\n",
       "\n",
       "    .dataframe tbody tr th {\n",
       "        vertical-align: top;\n",
       "    }\n",
       "\n",
       "    .dataframe thead th {\n",
       "        text-align: right;\n",
       "    }\n",
       "</style>\n",
       "<table border=\"1\" class=\"dataframe\">\n",
       "  <thead>\n",
       "    <tr style=\"text-align: right;\">\n",
       "      <th></th>\n",
       "      <th>user_id</th>\n",
       "      <th>pratilipi_id</th>\n",
       "      <th>read_percent</th>\n",
       "      <th>updated_at</th>\n",
       "      <th>month</th>\n",
       "      <th>year</th>\n",
       "      <th>reading_time_min</th>\n",
       "      <th>genre|action</th>\n",
       "      <th>genre|adventure</th>\n",
       "      <th>genre|and</th>\n",
       "      <th>...</th>\n",
       "      <th>genre|spiritual</th>\n",
       "      <th>genre|story</th>\n",
       "      <th>genre|suspense</th>\n",
       "      <th>genre|swahindi2</th>\n",
       "      <th>genre|the</th>\n",
       "      <th>genre|translation</th>\n",
       "      <th>genre|webseries</th>\n",
       "      <th>genre|wellness</th>\n",
       "      <th>genre|women</th>\n",
       "      <th>train</th>\n",
       "    </tr>\n",
       "  </thead>\n",
       "  <tbody>\n",
       "    <tr>\n",
       "      <th>0</th>\n",
       "      <td>5506791992372558</td>\n",
       "      <td>1377786218111595</td>\n",
       "      <td>100.0</td>\n",
       "      <td>2022-03-23 00:08:25.250</td>\n",
       "      <td>2.0</td>\n",
       "      <td>2020.0</td>\n",
       "      <td>29</td>\n",
       "      <td>0.000000</td>\n",
       "      <td>0.000000</td>\n",
       "      <td>0.000000</td>\n",
       "      <td>...</td>\n",
       "      <td>0.0</td>\n",
       "      <td>0.0</td>\n",
       "      <td>0.681687</td>\n",
       "      <td>0.0</td>\n",
       "      <td>0.0</td>\n",
       "      <td>0.0</td>\n",
       "      <td>0.0</td>\n",
       "      <td>0.0</td>\n",
       "      <td>0.0</td>\n",
       "      <td>False</td>\n",
       "    </tr>\n",
       "    <tr>\n",
       "      <th>1</th>\n",
       "      <td>5506791959279525</td>\n",
       "      <td>1377786225901639</td>\n",
       "      <td>100.0</td>\n",
       "      <td>2022-03-23 00:08:16.603</td>\n",
       "      <td>10.0</td>\n",
       "      <td>2021.0</td>\n",
       "      <td>10</td>\n",
       "      <td>0.000000</td>\n",
       "      <td>0.000000</td>\n",
       "      <td>0.000000</td>\n",
       "      <td>...</td>\n",
       "      <td>0.0</td>\n",
       "      <td>0.0</td>\n",
       "      <td>0.478954</td>\n",
       "      <td>0.0</td>\n",
       "      <td>0.0</td>\n",
       "      <td>0.0</td>\n",
       "      <td>0.0</td>\n",
       "      <td>0.0</td>\n",
       "      <td>0.0</td>\n",
       "      <td>False</td>\n",
       "    </tr>\n",
       "    <tr>\n",
       "      <th>2</th>\n",
       "      <td>5506791973513254</td>\n",
       "      <td>1377786227564949</td>\n",
       "      <td>90.0</td>\n",
       "      <td>2022-03-23 00:08:14.542</td>\n",
       "      <td>2.0</td>\n",
       "      <td>2022.0</td>\n",
       "      <td>8</td>\n",
       "      <td>0.565112</td>\n",
       "      <td>0.565112</td>\n",
       "      <td>0.552805</td>\n",
       "      <td>...</td>\n",
       "      <td>0.0</td>\n",
       "      <td>0.0</td>\n",
       "      <td>0.000000</td>\n",
       "      <td>0.0</td>\n",
       "      <td>0.0</td>\n",
       "      <td>0.0</td>\n",
       "      <td>0.0</td>\n",
       "      <td>0.0</td>\n",
       "      <td>0.0</td>\n",
       "      <td>False</td>\n",
       "    </tr>\n",
       "    <tr>\n",
       "      <th>3</th>\n",
       "      <td>5506791954805098</td>\n",
       "      <td>1377786220151688</td>\n",
       "      <td>100.0</td>\n",
       "      <td>2022-03-23 00:08:10.493</td>\n",
       "      <td>7.0</td>\n",
       "      <td>2020.0</td>\n",
       "      <td>5</td>\n",
       "      <td>0.000000</td>\n",
       "      <td>0.000000</td>\n",
       "      <td>0.000000</td>\n",
       "      <td>...</td>\n",
       "      <td>0.0</td>\n",
       "      <td>0.0</td>\n",
       "      <td>0.000000</td>\n",
       "      <td>0.0</td>\n",
       "      <td>0.0</td>\n",
       "      <td>0.0</td>\n",
       "      <td>0.0</td>\n",
       "      <td>0.0</td>\n",
       "      <td>0.0</td>\n",
       "      <td>False</td>\n",
       "    </tr>\n",
       "    <tr>\n",
       "      <th>4</th>\n",
       "      <td>5506791976871041</td>\n",
       "      <td>1377786225173250</td>\n",
       "      <td>15.0</td>\n",
       "      <td>2022-03-23 00:08:04.897</td>\n",
       "      <td>8.0</td>\n",
       "      <td>2021.0</td>\n",
       "      <td>12</td>\n",
       "      <td>0.000000</td>\n",
       "      <td>0.000000</td>\n",
       "      <td>0.000000</td>\n",
       "      <td>...</td>\n",
       "      <td>0.0</td>\n",
       "      <td>0.0</td>\n",
       "      <td>0.000000</td>\n",
       "      <td>0.0</td>\n",
       "      <td>0.0</td>\n",
       "      <td>0.0</td>\n",
       "      <td>0.0</td>\n",
       "      <td>0.0</td>\n",
       "      <td>0.0</td>\n",
       "      <td>False</td>\n",
       "    </tr>\n",
       "  </tbody>\n",
       "</table>\n",
       "<p>5 rows × 69 columns</p>\n",
       "</div>"
      ],
      "text/plain": [
       "            user_id      pratilipi_id  read_percent               updated_at  \\\n",
       "0  5506791992372558  1377786218111595         100.0  2022-03-23 00:08:25.250   \n",
       "1  5506791959279525  1377786225901639         100.0  2022-03-23 00:08:16.603   \n",
       "2  5506791973513254  1377786227564949          90.0  2022-03-23 00:08:14.542   \n",
       "3  5506791954805098  1377786220151688         100.0  2022-03-23 00:08:10.493   \n",
       "4  5506791976871041  1377786225173250          15.0  2022-03-23 00:08:04.897   \n",
       "\n",
       "   month    year  reading_time_min  genre|action  genre|adventure  genre|and  \\\n",
       "0    2.0  2020.0                29      0.000000         0.000000   0.000000   \n",
       "1   10.0  2021.0                10      0.000000         0.000000   0.000000   \n",
       "2    2.0  2022.0                 8      0.565112         0.565112   0.552805   \n",
       "3    7.0  2020.0                 5      0.000000         0.000000   0.000000   \n",
       "4    8.0  2021.0                12      0.000000         0.000000   0.000000   \n",
       "\n",
       "   ...  genre|spiritual  genre|story  genre|suspense  genre|swahindi2  \\\n",
       "0  ...              0.0          0.0        0.681687              0.0   \n",
       "1  ...              0.0          0.0        0.478954              0.0   \n",
       "2  ...              0.0          0.0        0.000000              0.0   \n",
       "3  ...              0.0          0.0        0.000000              0.0   \n",
       "4  ...              0.0          0.0        0.000000              0.0   \n",
       "\n",
       "   genre|the  genre|translation  genre|webseries  genre|wellness  genre|women  \\\n",
       "0        0.0                0.0              0.0             0.0          0.0   \n",
       "1        0.0                0.0              0.0             0.0          0.0   \n",
       "2        0.0                0.0              0.0             0.0          0.0   \n",
       "3        0.0                0.0              0.0             0.0          0.0   \n",
       "4        0.0                0.0              0.0             0.0          0.0   \n",
       "\n",
       "   train  \n",
       "0  False  \n",
       "1  False  \n",
       "2  False  \n",
       "3  False  \n",
       "4  False  \n",
       "\n",
       "[5 rows x 69 columns]"
      ]
     },
     "execution_count": 4,
     "metadata": {},
     "output_type": "execute_result"
    }
   ],
   "source": [
    "final_test.head()"
   ]
  },
  {
   "cell_type": "code",
   "execution_count": 5,
   "metadata": {},
   "outputs": [
    {
     "data": {
      "text/plain": [
       "Index(['user_id', 'pratilipi_id', 'read_percent', 'updated_at', 'month',\n",
       "       'year', 'reading_time_min', 'genre|action', 'genre|adventure',\n",
       "       'genre|and', 'genre|awards', 'genre|challenge', 'genre|chat',\n",
       "       'genre|children', 'genre|comedy', 'genre|crime', 'genre|cyber',\n",
       "       'genre|detective', 'genre|drama', 'genre|entertainment',\n",
       "       'genre|erotica', 'genre|experiences', 'genre|family', 'genre|fantasy',\n",
       "       'genre|fiction', 'genre|health', 'genre|hindi', 'genre|horror',\n",
       "       'genre|indiawale', 'genre|inspiring', 'genre|jeevan', 'genre|kalamkar',\n",
       "       'genre|kids', 'genre|krishi', 'genre|lekhan', 'genre|life',\n",
       "       'genre|marathon', 'genre|memories', 'genre|moral', 'genre|murder',\n",
       "       'genre|mystery', 'genre|mythology', 'genre|novels', 'genre|parytan',\n",
       "       'genre|politics', 'genre|pratilipi', 'genre|pravasi',\n",
       "       'genre|premkamahina', 'genre|radio', 'genre|rashtriya',\n",
       "       'genre|relegion', 'genre|romance', 'genre|sahitya', 'genre|samman',\n",
       "       'genre|science', 'genre|serieswriting', 'genre|short',\n",
       "       'genre|shortstories', 'genre|social', 'genre|spiritual', 'genre|story',\n",
       "       'genre|suspense', 'genre|swahindi2', 'genre|the', 'genre|translation',\n",
       "       'genre|webseries', 'genre|wellness', 'genre|women', 'train'],\n",
       "      dtype='object')"
      ]
     },
     "execution_count": 5,
     "metadata": {},
     "output_type": "execute_result"
    }
   ],
   "source": [
    "final_train.columns"
   ]
  },
  {
   "cell_type": "code",
   "execution_count": 6,
   "metadata": {},
   "outputs": [],
   "source": [
    "# Interaction data from complete data \n",
    "interactions_current = final_train[['user_id', 'pratilipi_id', 'read_percent',\"updated_at\"]]\n",
    "interactions_new = final_test[['user_id', 'pratilipi_id', 'read_percent',\"updated_at\"]]\n",
    "interactions = pd.concat([interactions_current,interactions_new])"
   ]
  },
  {
   "cell_type": "code",
   "execution_count": 7,
   "metadata": {},
   "outputs": [
    {
     "data": {
      "text/plain": [
       "((61435, 4), (200799, 4))"
      ]
     },
     "execution_count": 7,
     "metadata": {},
     "output_type": "execute_result"
    }
   ],
   "source": [
    "interactions_new.shape,interactions_current.shape"
   ]
  },
  {
   "cell_type": "code",
   "execution_count": 8,
   "metadata": {},
   "outputs": [
    {
     "name": "stdout",
     "output_type": "stream",
     "text": [
      "Number of new users in new set: 0\n",
      "Number of current users in new set: 11309\n"
     ]
    }
   ],
   "source": [
    "# Since new users were removed at the time of creating data we don't have new user in test dataset\n",
    "new_users = np.setdiff1d(interactions_new[\"user_id\"], interactions_current[\"user_id\"])\n",
    "old_users = np.intersect1d(interactions_new[\"user_id\"], interactions_current[\"user_id\"])\n",
    "\n",
    "print(\"Number of new users in new set: {}\".format(len(new_users)))\n",
    "print(\"Number of current users in new set: {}\".format(len(old_users)))"
   ]
  },
  {
   "cell_type": "code",
   "execution_count": 9,
   "metadata": {},
   "outputs": [
    {
     "name": "stdout",
     "output_type": "stream",
     "text": [
      "Number of new items in new set: 0\n",
      "Number of current items in new set: 24522\n"
     ]
    }
   ],
   "source": [
    "# Since new items(pratilipi) were removed at the time of creating data we don't have new user is test dataset\n",
    "\n",
    "new_items = np.setdiff1d(interactions_new['pratilipi_id'], interactions_current['pratilipi_id'])\n",
    "old_items = np.intersect1d(interactions_new['pratilipi_id'], interactions_current['pratilipi_id'])\n",
    "\n",
    "print(\"Number of new items in new set: {}\".format(len(new_items)))\n",
    "print(\"Number of current items in new set: {}\".format(len(old_items)))"
   ]
  },
  {
   "cell_type": "code",
   "execution_count": 10,
   "metadata": {},
   "outputs": [],
   "source": [
    "final_train.drop([\"train\"],inplace = True,axis = 1)\n",
    "final_test.drop([\"train\"],inplace = True,axis = 1)"
   ]
  },
  {
   "cell_type": "code",
   "execution_count": 11,
   "metadata": {},
   "outputs": [
    {
     "data": {
      "text/plain": [
       "Index(['user_id', 'pratilipi_id', 'read_percent', 'updated_at', 'month',\n",
       "       'year', 'reading_time_min', 'genre|action', 'genre|adventure',\n",
       "       'genre|and', 'genre|awards', 'genre|challenge', 'genre|chat',\n",
       "       'genre|children', 'genre|comedy', 'genre|crime', 'genre|cyber',\n",
       "       'genre|detective', 'genre|drama', 'genre|entertainment',\n",
       "       'genre|erotica', 'genre|experiences', 'genre|family', 'genre|fantasy',\n",
       "       'genre|fiction', 'genre|health', 'genre|hindi', 'genre|horror',\n",
       "       'genre|indiawale', 'genre|inspiring', 'genre|jeevan', 'genre|kalamkar',\n",
       "       'genre|kids', 'genre|krishi', 'genre|lekhan', 'genre|life',\n",
       "       'genre|marathon', 'genre|memories', 'genre|moral', 'genre|murder',\n",
       "       'genre|mystery', 'genre|mythology', 'genre|novels', 'genre|parytan',\n",
       "       'genre|politics', 'genre|pratilipi', 'genre|pravasi',\n",
       "       'genre|premkamahina', 'genre|radio', 'genre|rashtriya',\n",
       "       'genre|relegion', 'genre|romance', 'genre|sahitya', 'genre|samman',\n",
       "       'genre|science', 'genre|serieswriting', 'genre|short',\n",
       "       'genre|shortstories', 'genre|social', 'genre|spiritual', 'genre|story',\n",
       "       'genre|suspense', 'genre|swahindi2', 'genre|the', 'genre|translation',\n",
       "       'genre|webseries', 'genre|wellness', 'genre|women'],\n",
       "      dtype='object')"
      ]
     },
     "execution_count": 11,
     "metadata": {},
     "output_type": "execute_result"
    }
   ],
   "source": [
    "final_train.columns"
   ]
  },
  {
   "cell_type": "code",
   "execution_count": 12,
   "metadata": {},
   "outputs": [],
   "source": [
    "# List of item features we have for a single pratilipi\n",
    "item_cols = ['user_id', 'pratilipi_id', 'read_percent', 'updated_at', 'month',\n",
    "       'year', 'reading_time_min', 'genre|action', 'genre|adventure',\n",
    "       'genre|and', 'genre|awards', 'genre|challenge', 'genre|chat',\n",
    "       'genre|children', 'genre|comedy', 'genre|crime', 'genre|cyber',\n",
    "       'genre|detective', 'genre|drama', 'genre|entertainment',\n",
    "       'genre|erotica', 'genre|experiences', 'genre|family', 'genre|fantasy',\n",
    "       'genre|fiction', 'genre|health', 'genre|hindi', 'genre|horror',\n",
    "       'genre|indiawale', 'genre|inspiring', 'genre|jeevan', 'genre|kalamkar',\n",
    "       'genre|kids', 'genre|krishi', 'genre|lekhan', 'genre|life',\n",
    "       'genre|marathon', 'genre|memories', 'genre|moral', 'genre|murder',\n",
    "       'genre|mystery', 'genre|mythology', 'genre|novels', 'genre|parytan',\n",
    "       'genre|politics', 'genre|pratilipi', 'genre|pravasi',\n",
    "       'genre|premkamahina', 'genre|radio', 'genre|rashtriya',\n",
    "       'genre|relegion', 'genre|romance', 'genre|sahitya', 'genre|samman',\n",
    "       'genre|science', 'genre|serieswriting', 'genre|short',\n",
    "       'genre|shortstories', 'genre|social', 'genre|spiritual', 'genre|story',\n",
    "       'genre|suspense', 'genre|swahindi2', 'genre|the', 'genre|translation',\n",
    "       'genre|webseries', 'genre|wellness', 'genre|women']"
   ]
  },
  {
   "cell_type": "code",
   "execution_count": 13,
   "metadata": {},
   "outputs": [],
   "source": [
    "item_features_current = final_train[item_cols].drop_duplicates(subset = ['pratilipi_id']).reset_index(drop = True)\n",
    "item_features_new = final_test[item_cols].drop_duplicates(subset = ['pratilipi_id']).reset_index(drop = True)"
   ]
  },
  {
   "cell_type": "code",
   "execution_count": 14,
   "metadata": {},
   "outputs": [
    {
     "name": "stdout",
     "output_type": "stream",
     "text": [
      "Number of current items: 59407\n",
      "Number of new items: 24522\n"
     ]
    }
   ],
   "source": [
    "item_features_current = item_features_current[item_features_current[\"pratilipi_id\"].isin(interactions_current[\"pratilipi_id\"])]\n",
    "item_features_new = item_features_new[item_features_new[\"pratilipi_id\"].isin(interactions_new[\"pratilipi_id\"])]\n",
    "\n",
    "print(\"Number of current items: {}\".format(len(item_features_current)))\n",
    "print(\"Number of new items: {}\".format(len(item_features_new)))"
   ]
  },
  {
   "cell_type": "code",
   "execution_count": 15,
   "metadata": {},
   "outputs": [],
   "source": [
    "item_features = pd.concat([item_features_current])"
   ]
  },
  {
   "cell_type": "markdown",
   "metadata": {},
   "source": [
    "### Transform to LightFM format"
   ]
  },
  {
   "cell_type": "markdown",
   "metadata": {},
   "source": [
    "#### Dataset\n",
    "To train the LightFM model the dataset must be converted in a specific format."
   ]
  },
  {
   "cell_type": "code",
   "execution_count": 16,
   "metadata": {},
   "outputs": [
    {
     "name": "stdout",
     "output_type": "stream",
     "text": [
      "Max user id: 5506791996684691\n",
      "Max pratilipi id: 1377786228364236\n"
     ]
    }
   ],
   "source": [
    "print(\"Max user id: {}\".format(interactions_current['user_id'].max()))\n",
    "print(\"Max pratilipi id: {}\".format(interactions_current['pratilipi_id'].max()))"
   ]
  },
  {
   "cell_type": "code",
   "execution_count": 17,
   "metadata": {},
   "outputs": [],
   "source": [
    "user_ids_buffered = (x for x in interactions_current['user_id'].unique())\n",
    "item_ids_buffered = (x for x in interactions_current['pratilipi_id'].unique())\n",
    "\n",
    "item_feature_names = item_features.columns.tolist()\n",
    "item_feature_names.remove(\"pratilipi_id\")"
   ]
  },
  {
   "cell_type": "code",
   "execution_count": 18,
   "metadata": {},
   "outputs": [],
   "source": [
    "dataset = Dataset()"
   ]
  },
  {
   "cell_type": "code",
   "execution_count": 19,
   "metadata": {},
   "outputs": [],
   "source": [
    "dataset.fit(\n",
    "    users=user_ids_buffered,\n",
    "    items=item_ids_buffered,\n",
    "    item_features=item_feature_names\n",
    ")"
   ]
  },
  {
   "cell_type": "code",
   "execution_count": 20,
   "metadata": {},
   "outputs": [],
   "source": [
    "def transform_interactions(interactions):\n",
    "    \"\"\"\n",
    "    Transforms interactions data frame to the format build_interactions needs it.\n",
    "    \n",
    "    Returns iterable of tuples (\"user_id\", \"pratilipi_id\", 'read_percent').\n",
    "    \"\"\"\n",
    "    return interactions[[\"user_id\", \"pratilipi_id\", 'read_percent']].itertuples(index=False)"
   ]
  },
  {
   "cell_type": "code",
   "execution_count": 21,
   "metadata": {},
   "outputs": [],
   "source": [
    "interaction_matrix_current, _ = dataset.build_interactions(transform_interactions(interactions_current))"
   ]
  },
  {
   "cell_type": "code",
   "execution_count": 22,
   "metadata": {},
   "outputs": [
    {
     "data": {
      "text/plain": [
       "(200799, 4)"
      ]
     },
     "execution_count": 22,
     "metadata": {},
     "output_type": "execute_result"
    }
   ],
   "source": [
    "interactions_current.shape"
   ]
  },
  {
   "cell_type": "code",
   "execution_count": 23,
   "metadata": {},
   "outputs": [],
   "source": [
    "interaction_matrix_new, _ = dataset.build_interactions(transform_interactions(interactions_new))"
   ]
  },
  {
   "cell_type": "code",
   "execution_count": 24,
   "metadata": {},
   "outputs": [
    {
     "data": {
      "text/plain": [
       "(61435, 4)"
      ]
     },
     "execution_count": 24,
     "metadata": {},
     "output_type": "execute_result"
    }
   ],
   "source": [
    "interactions_new.shape"
   ]
  },
  {
   "cell_type": "code",
   "execution_count": 25,
   "metadata": {},
   "outputs": [],
   "source": [
    "def transform_features(features, id_name):\n",
    "    \"\"\"\n",
    "    Transforms features data frame to the format build_user_features / build_item_features needs it.\n",
    "    \n",
    "    Returns iterable of (id, [list of feature names that has value 1]).\n",
    "    \"\"\"\n",
    "    transformed_features = []\n",
    "    for row in features.to_dict(orient=\"records\"):\n",
    "        id_value = row[id_name]\n",
    "        del row[id_name]\n",
    "        feature_names = [key for key, value in row.items() if value == 1]\n",
    "        transformed_features.append(\n",
    "            (id_value, feature_names)\n",
    "        )\n",
    "    return transformed_features"
   ]
  },
  {
   "cell_type": "code",
   "execution_count": 26,
   "metadata": {},
   "outputs": [],
   "source": [
    "item_features_matrix_current = dataset.build_item_features(transform_features(item_features_current, \"pratilipi_id\"))"
   ]
  },
  {
   "cell_type": "code",
   "execution_count": 27,
   "metadata": {},
   "outputs": [],
   "source": [
    "item_features_matrix_new = dataset.build_item_features(transform_features(item_features_new, \"pratilipi_id\"))"
   ]
  },
  {
   "cell_type": "markdown",
   "metadata": {},
   "source": [
    "## Training Model"
   ]
  },
  {
   "cell_type": "code",
   "execution_count": 28,
   "metadata": {},
   "outputs": [],
   "source": [
    "model = LightFM(loss=\"warp\",no_components=150, learning_rate=0.05,random_state=2019)"
   ]
  },
  {
   "cell_type": "code",
   "execution_count": 29,
   "metadata": {},
   "outputs": [],
   "source": [
    "class Evaluator():\n",
    "    \"\"\"\n",
    "    Helper class for model evaluation\n",
    "    \n",
    "    Stores the number of epochs and corresponding performance metrics in a data frame.\n",
    "    Returns the number of epochs with the best validation ROC AUC.\n",
    "    Prepared to handle multiple runs of the same hyperparameters, and averages up the multiple runs.\n",
    "    \"\"\"\n",
    "    \n",
    "    def __init__(self):\n",
    "        self.df_evaluation = pd.DataFrame()\n",
    "    def evaluate(self, epochs, model, interaction_matrix_train,item_features_matrix):\n",
    "            features_current = {\n",
    "               \n",
    "                \"item_features\": item_features_matrix\n",
    "            }\n",
    "            evaluation_row = pd.DataFrame({\n",
    "                \"epochs\": epochs,\n",
    "                \"train_precision\": precision_at_k(model, interaction_matrix_train, k=10, **features_current).mean(),\n",
    "                \"train_auc\": auc_score(model, interaction_matrix_train, **features_current).mean(),\n",
    "                },\n",
    "                index=[0]\n",
    "            )\n",
    "            self.df_evaluation = self.df_evaluation.append(evaluation_row, ignore_index=True)\n",
    "    def get_best_epochs(self):\n",
    "        df_evaluation_agg = self.df_evaluation.groupby(\"epochs\").agg(\"mean\").reset_index()\n",
    "        best_epochs =  df_evaluation_agg[\n",
    "            df_evaluation_agg[\"train_auc\"] == df_evaluation_agg[\"train_auc\"].max()\n",
    "        ][\"epochs\"].iloc[0]\n",
    "        return best_epochs"
   ]
  },
  {
   "cell_type": "code",
   "execution_count": 30,
   "metadata": {},
   "outputs": [
    {
     "name": "stdout",
     "output_type": "stream",
     "text": [
      "Epochs: 200\n"
     ]
    }
   ],
   "source": [
    "evaluator = Evaluator()\n",
    "for epochs in [200]:\n",
    "    print(f\"Epochs: {epochs}\")\n",
    "    \n",
    "    model.fit(\n",
    "        interaction_matrix_current,\n",
    "        epochs=epochs,\n",
    "        item_features=item_features_matrix_current\n",
    "    )\n",
    "    \n",
    "    evaluator.evaluate(\n",
    "        epochs, model,\n",
    "        interaction_matrix_current,item_features_matrix_current)"
   ]
  },
  {
   "cell_type": "code",
   "execution_count": 31,
   "metadata": {},
   "outputs": [
    {
     "data": {
      "text/html": [
       "<div>\n",
       "<style scoped>\n",
       "    .dataframe tbody tr th:only-of-type {\n",
       "        vertical-align: middle;\n",
       "    }\n",
       "\n",
       "    .dataframe tbody tr th {\n",
       "        vertical-align: top;\n",
       "    }\n",
       "\n",
       "    .dataframe thead th {\n",
       "        text-align: right;\n",
       "    }\n",
       "</style>\n",
       "<table border=\"1\" class=\"dataframe\">\n",
       "  <thead>\n",
       "    <tr style=\"text-align: right;\">\n",
       "      <th></th>\n",
       "      <th>epochs</th>\n",
       "      <th>train_precision</th>\n",
       "      <th>train_auc</th>\n",
       "    </tr>\n",
       "  </thead>\n",
       "  <tbody>\n",
       "    <tr>\n",
       "      <th>0</th>\n",
       "      <td>200</td>\n",
       "      <td>0.856872</td>\n",
       "      <td>0.999988</td>\n",
       "    </tr>\n",
       "  </tbody>\n",
       "</table>\n",
       "</div>"
      ],
      "text/plain": [
       "   epochs  train_precision  train_auc\n",
       "0     200         0.856872   0.999988"
      ]
     },
     "execution_count": 31,
     "metadata": {},
     "output_type": "execute_result"
    }
   ],
   "source": [
    "# train evealuation\n",
    "evaluator.df_evaluation"
   ]
  },
  {
   "cell_type": "code",
   "execution_count": 32,
   "metadata": {},
   "outputs": [],
   "source": [
    "# test evaluation\n",
    "features_new = {\n",
    "               \n",
    "                \"item_features\": item_features_matrix_new\n",
    "            }"
   ]
  },
  {
   "cell_type": "code",
   "execution_count": 33,
   "metadata": {},
   "outputs": [
    {
     "name": "stdout",
     "output_type": "stream",
     "text": [
      "0.87815267\n"
     ]
    }
   ],
   "source": [
    "#AUC Score\n",
    "print(auc_score(model, interaction_matrix_new, **features_new).mean())"
   ]
  },
  {
   "cell_type": "code",
   "execution_count": 34,
   "metadata": {},
   "outputs": [
    {
     "name": "stdout",
     "output_type": "stream",
     "text": [
      "0.00864798\n"
     ]
    }
   ],
   "source": [
    "#Precision at K\n",
    "print(precision_at_k(model, interaction_matrix_new, k=10, **features_new).mean())"
   ]
  },
  {
   "cell_type": "code",
   "execution_count": 35,
   "metadata": {},
   "outputs": [
    {
     "name": "stdout",
     "output_type": "stream",
     "text": [
      "0.03432402\n"
     ]
    }
   ],
   "source": [
    "#Reciprocal Rank\n",
    "print(reciprocal_rank(model, interaction_matrix_new, **features_new).mean())"
   ]
  },
  {
   "cell_type": "code",
   "execution_count": 36,
   "metadata": {},
   "outputs": [
    {
     "name": "stdout",
     "output_type": "stream",
     "text": [
      "0.026863608127034446\n"
     ]
    }
   ],
   "source": [
    "#Recall at\n",
    "print(recall_at_k(model, interaction_matrix_new, k=10, **features_new).mean())"
   ]
  },
  {
   "cell_type": "markdown",
   "metadata": {},
   "source": [
    "### Get recommendation for test dataset"
   ]
  },
  {
   "cell_type": "code",
   "execution_count": 37,
   "metadata": {},
   "outputs": [],
   "source": [
    "def predict(model, dataset, user_item_pairs,item_features_matrix):\n",
    "    user_id_mapping, user_feature_mapping, item_id_mapping, item_feature_mapping = dataset.mapping()\n",
    "    predictions = model.predict(\n",
    "        user_ids=np.array([user_id_mapping[x] for x in user_item_pairs[\"user_id\"]]),\n",
    "        item_ids=np.array([item_id_mapping[x] for x in user_item_pairs[\"pratilipi_id\"]]),\n",
    "        item_features=item_features_matrix\n",
    "    )\n",
    "    \n",
    "    df_predictions = user_item_pairs.copy()\n",
    "    df_predictions[\"prediction\"] = predictions\n",
    "    \n",
    "    return df_predictions\n",
    "\n",
    "def merge_interactions(df_evaluation, interactions):\n",
    "    df_evaluation = df_evaluation.merge(interactions[[\"user_id\", \"pratilipi_id\", \"read_percent\"]], on=[\"user_id\", \"pratilipi_id\"], how=\"left\")\n",
    "    df_evaluation[\"has_interaction\"] = ~df_evaluation[\"read_percent\"].isna()\n",
    "#     df_evaluation = df_evaluation.drop(columns=\"read_percent\")\n",
    "    return df_evaluation"
   ]
  },
  {
   "cell_type": "code",
   "execution_count": 38,
   "metadata": {},
   "outputs": [],
   "source": [
    "metadata = pd.read_csv(\"metadata.csv\")"
   ]
  },
  {
   "cell_type": "code",
   "execution_count": 39,
   "metadata": {},
   "outputs": [],
   "source": [
    "complete_test = final_test.merge(metadata,on = \"pratilipi_id\")"
   ]
  },
  {
   "cell_type": "code",
   "execution_count": 40,
   "metadata": {},
   "outputs": [
    {
     "data": {
      "text/html": [
       "<div>\n",
       "<style scoped>\n",
       "    .dataframe tbody tr th:only-of-type {\n",
       "        vertical-align: middle;\n",
       "    }\n",
       "\n",
       "    .dataframe tbody tr th {\n",
       "        vertical-align: top;\n",
       "    }\n",
       "\n",
       "    .dataframe thead th {\n",
       "        text-align: right;\n",
       "    }\n",
       "</style>\n",
       "<table border=\"1\" class=\"dataframe\">\n",
       "  <thead>\n",
       "    <tr style=\"text-align: right;\">\n",
       "      <th></th>\n",
       "      <th>user_id</th>\n",
       "      <th>pratilipi_id</th>\n",
       "      <th>read_percent</th>\n",
       "      <th>updated_at_x</th>\n",
       "      <th>month</th>\n",
       "      <th>year</th>\n",
       "      <th>reading_time_min</th>\n",
       "      <th>genre|action</th>\n",
       "      <th>genre|adventure</th>\n",
       "      <th>genre|and</th>\n",
       "      <th>...</th>\n",
       "      <th>genre|the</th>\n",
       "      <th>genre|translation</th>\n",
       "      <th>genre|webseries</th>\n",
       "      <th>genre|wellness</th>\n",
       "      <th>genre|women</th>\n",
       "      <th>author_id</th>\n",
       "      <th>category_name</th>\n",
       "      <th>reading_time</th>\n",
       "      <th>updated_at_y</th>\n",
       "      <th>published_at</th>\n",
       "    </tr>\n",
       "  </thead>\n",
       "  <tbody>\n",
       "    <tr>\n",
       "      <th>0</th>\n",
       "      <td>5506791992372558</td>\n",
       "      <td>1377786218111595</td>\n",
       "      <td>100.0</td>\n",
       "      <td>2022-03-23 00:08:25.250</td>\n",
       "      <td>2.0</td>\n",
       "      <td>2020.0</td>\n",
       "      <td>29</td>\n",
       "      <td>0.0</td>\n",
       "      <td>0.0</td>\n",
       "      <td>0.0</td>\n",
       "      <td>...</td>\n",
       "      <td>0.0</td>\n",
       "      <td>0.0</td>\n",
       "      <td>0.0</td>\n",
       "      <td>0.0</td>\n",
       "      <td>0.0</td>\n",
       "      <td>-2270332350793996</td>\n",
       "      <td>novels</td>\n",
       "      <td>1772</td>\n",
       "      <td>2020-11-23 08:28:17</td>\n",
       "      <td>2020-02-27 10:51:31</td>\n",
       "    </tr>\n",
       "    <tr>\n",
       "      <th>1</th>\n",
       "      <td>5506791992372558</td>\n",
       "      <td>1377786218111595</td>\n",
       "      <td>100.0</td>\n",
       "      <td>2022-03-23 00:08:25.250</td>\n",
       "      <td>2.0</td>\n",
       "      <td>2020.0</td>\n",
       "      <td>29</td>\n",
       "      <td>0.0</td>\n",
       "      <td>0.0</td>\n",
       "      <td>0.0</td>\n",
       "      <td>...</td>\n",
       "      <td>0.0</td>\n",
       "      <td>0.0</td>\n",
       "      <td>0.0</td>\n",
       "      <td>0.0</td>\n",
       "      <td>0.0</td>\n",
       "      <td>-2270332350793996</td>\n",
       "      <td>romance</td>\n",
       "      <td>1772</td>\n",
       "      <td>2020-11-23 08:28:17</td>\n",
       "      <td>2020-02-27 10:51:31</td>\n",
       "    </tr>\n",
       "    <tr>\n",
       "      <th>2</th>\n",
       "      <td>5506791992372558</td>\n",
       "      <td>1377786218111595</td>\n",
       "      <td>100.0</td>\n",
       "      <td>2022-03-23 00:08:25.250</td>\n",
       "      <td>2.0</td>\n",
       "      <td>2020.0</td>\n",
       "      <td>29</td>\n",
       "      <td>0.0</td>\n",
       "      <td>0.0</td>\n",
       "      <td>0.0</td>\n",
       "      <td>...</td>\n",
       "      <td>0.0</td>\n",
       "      <td>0.0</td>\n",
       "      <td>0.0</td>\n",
       "      <td>0.0</td>\n",
       "      <td>0.0</td>\n",
       "      <td>-2270332350793996</td>\n",
       "      <td>suspense</td>\n",
       "      <td>1772</td>\n",
       "      <td>2020-11-23 08:28:17</td>\n",
       "      <td>2020-02-27 10:51:31</td>\n",
       "    </tr>\n",
       "    <tr>\n",
       "      <th>3</th>\n",
       "      <td>5506791982337812</td>\n",
       "      <td>1377786218111595</td>\n",
       "      <td>100.0</td>\n",
       "      <td>2022-03-22 21:07:09.496</td>\n",
       "      <td>2.0</td>\n",
       "      <td>2020.0</td>\n",
       "      <td>29</td>\n",
       "      <td>0.0</td>\n",
       "      <td>0.0</td>\n",
       "      <td>0.0</td>\n",
       "      <td>...</td>\n",
       "      <td>0.0</td>\n",
       "      <td>0.0</td>\n",
       "      <td>0.0</td>\n",
       "      <td>0.0</td>\n",
       "      <td>0.0</td>\n",
       "      <td>-2270332350793996</td>\n",
       "      <td>novels</td>\n",
       "      <td>1772</td>\n",
       "      <td>2020-11-23 08:28:17</td>\n",
       "      <td>2020-02-27 10:51:31</td>\n",
       "    </tr>\n",
       "    <tr>\n",
       "      <th>4</th>\n",
       "      <td>5506791982337812</td>\n",
       "      <td>1377786218111595</td>\n",
       "      <td>100.0</td>\n",
       "      <td>2022-03-22 21:07:09.496</td>\n",
       "      <td>2.0</td>\n",
       "      <td>2020.0</td>\n",
       "      <td>29</td>\n",
       "      <td>0.0</td>\n",
       "      <td>0.0</td>\n",
       "      <td>0.0</td>\n",
       "      <td>...</td>\n",
       "      <td>0.0</td>\n",
       "      <td>0.0</td>\n",
       "      <td>0.0</td>\n",
       "      <td>0.0</td>\n",
       "      <td>0.0</td>\n",
       "      <td>-2270332350793996</td>\n",
       "      <td>romance</td>\n",
       "      <td>1772</td>\n",
       "      <td>2020-11-23 08:28:17</td>\n",
       "      <td>2020-02-27 10:51:31</td>\n",
       "    </tr>\n",
       "  </tbody>\n",
       "</table>\n",
       "<p>5 rows × 73 columns</p>\n",
       "</div>"
      ],
      "text/plain": [
       "            user_id      pratilipi_id  read_percent             updated_at_x  \\\n",
       "0  5506791992372558  1377786218111595         100.0  2022-03-23 00:08:25.250   \n",
       "1  5506791992372558  1377786218111595         100.0  2022-03-23 00:08:25.250   \n",
       "2  5506791992372558  1377786218111595         100.0  2022-03-23 00:08:25.250   \n",
       "3  5506791982337812  1377786218111595         100.0  2022-03-22 21:07:09.496   \n",
       "4  5506791982337812  1377786218111595         100.0  2022-03-22 21:07:09.496   \n",
       "\n",
       "   month    year  reading_time_min  genre|action  genre|adventure  genre|and  \\\n",
       "0    2.0  2020.0                29           0.0              0.0        0.0   \n",
       "1    2.0  2020.0                29           0.0              0.0        0.0   \n",
       "2    2.0  2020.0                29           0.0              0.0        0.0   \n",
       "3    2.0  2020.0                29           0.0              0.0        0.0   \n",
       "4    2.0  2020.0                29           0.0              0.0        0.0   \n",
       "\n",
       "   ...  genre|the  genre|translation  genre|webseries  genre|wellness  \\\n",
       "0  ...        0.0                0.0              0.0             0.0   \n",
       "1  ...        0.0                0.0              0.0             0.0   \n",
       "2  ...        0.0                0.0              0.0             0.0   \n",
       "3  ...        0.0                0.0              0.0             0.0   \n",
       "4  ...        0.0                0.0              0.0             0.0   \n",
       "\n",
       "   genre|women         author_id  category_name  reading_time  \\\n",
       "0          0.0 -2270332350793996         novels          1772   \n",
       "1          0.0 -2270332350793996        romance          1772   \n",
       "2          0.0 -2270332350793996       suspense          1772   \n",
       "3          0.0 -2270332350793996         novels          1772   \n",
       "4          0.0 -2270332350793996        romance          1772   \n",
       "\n",
       "          updated_at_y         published_at  \n",
       "0  2020-11-23 08:28:17  2020-02-27 10:51:31  \n",
       "1  2020-11-23 08:28:17  2020-02-27 10:51:31  \n",
       "2  2020-11-23 08:28:17  2020-02-27 10:51:31  \n",
       "3  2020-11-23 08:28:17  2020-02-27 10:51:31  \n",
       "4  2020-11-23 08:28:17  2020-02-27 10:51:31  \n",
       "\n",
       "[5 rows x 73 columns]"
      ]
     },
     "execution_count": 40,
     "metadata": {},
     "output_type": "execute_result"
    }
   ],
   "source": [
    "complete_test.head()"
   ]
  },
  {
   "cell_type": "code",
   "execution_count": 41,
   "metadata": {},
   "outputs": [],
   "source": [
    "g = {'pratilipi_id':lambda x: list(x)[:100] if len(list(x))>100 else list(x),\n",
    "    \"category_name\":lambda x: list(x)}\n",
    "final_test = complete_test.sort_values(['updated_at_x']).groupby([\"user_id\"]).agg(g).reset_index()"
   ]
  },
  {
   "cell_type": "code",
   "execution_count": 42,
   "metadata": {},
   "outputs": [],
   "source": [
    "final_test[\"predicted_id\"] = None"
   ]
  },
  {
   "cell_type": "code",
   "execution_count": 43,
   "metadata": {},
   "outputs": [
    {
     "data": {
      "text/html": [
       "<div>\n",
       "<style scoped>\n",
       "    .dataframe tbody tr th:only-of-type {\n",
       "        vertical-align: middle;\n",
       "    }\n",
       "\n",
       "    .dataframe tbody tr th {\n",
       "        vertical-align: top;\n",
       "    }\n",
       "\n",
       "    .dataframe thead th {\n",
       "        text-align: right;\n",
       "    }\n",
       "</style>\n",
       "<table border=\"1\" class=\"dataframe\">\n",
       "  <thead>\n",
       "    <tr style=\"text-align: right;\">\n",
       "      <th></th>\n",
       "      <th>user_id</th>\n",
       "      <th>pratilipi_id</th>\n",
       "      <th>category_name</th>\n",
       "      <th>predicted_id</th>\n",
       "    </tr>\n",
       "  </thead>\n",
       "  <tbody>\n",
       "    <tr>\n",
       "      <th>0</th>\n",
       "      <td>3263998672675492</td>\n",
       "      <td>[1377786225588601, 1377786225687358, 137778622...</td>\n",
       "      <td>[shortstories, shortstories, shortstories, sus...</td>\n",
       "      <td>None</td>\n",
       "    </tr>\n",
       "    <tr>\n",
       "      <th>1</th>\n",
       "      <td>3264359729373860</td>\n",
       "      <td>[1377786217840312, 1377786217840312, 137778621...</td>\n",
       "      <td>[suspense, novels, romance, novels, romance, s...</td>\n",
       "      <td>None</td>\n",
       "    </tr>\n",
       "    <tr>\n",
       "      <th>2</th>\n",
       "      <td>3264802291360420</td>\n",
       "      <td>[1377786223781436, 1377786223781436, 137778622...</td>\n",
       "      <td>[horror, suspense, entertainment, entertainmen...</td>\n",
       "      <td>None</td>\n",
       "    </tr>\n",
       "    <tr>\n",
       "      <th>3</th>\n",
       "      <td>3308162227544740</td>\n",
       "      <td>[1377786227359359, 1377786227359359, 137778622...</td>\n",
       "      <td>[Serieswriting, romance, social]</td>\n",
       "      <td>None</td>\n",
       "    </tr>\n",
       "    <tr>\n",
       "      <th>4</th>\n",
       "      <td>3314890925580964</td>\n",
       "      <td>[1377786222333773, 1377786222333773, 137778622...</td>\n",
       "      <td>[family, romance, suspense, suspense, romance,...</td>\n",
       "      <td>None</td>\n",
       "    </tr>\n",
       "  </tbody>\n",
       "</table>\n",
       "</div>"
      ],
      "text/plain": [
       "            user_id                                       pratilipi_id  \\\n",
       "0  3263998672675492  [1377786225588601, 1377786225687358, 137778622...   \n",
       "1  3264359729373860  [1377786217840312, 1377786217840312, 137778621...   \n",
       "2  3264802291360420  [1377786223781436, 1377786223781436, 137778622...   \n",
       "3  3308162227544740  [1377786227359359, 1377786227359359, 137778622...   \n",
       "4  3314890925580964  [1377786222333773, 1377786222333773, 137778622...   \n",
       "\n",
       "                                       category_name predicted_id  \n",
       "0  [shortstories, shortstories, shortstories, sus...         None  \n",
       "1  [suspense, novels, romance, novels, romance, s...         None  \n",
       "2  [horror, suspense, entertainment, entertainmen...         None  \n",
       "3                   [Serieswriting, romance, social]         None  \n",
       "4  [family, romance, suspense, suspense, romance,...         None  "
      ]
     },
     "execution_count": 43,
     "metadata": {},
     "output_type": "execute_result"
    }
   ],
   "source": [
    "final_test.head()"
   ]
  },
  {
   "cell_type": "code",
   "execution_count": 44,
   "metadata": {},
   "outputs": [
    {
     "name": "stderr",
     "output_type": "stream",
     "text": [
      "C:\\Users\\sprat\\AppData\\Local\\Temp\\ipykernel_9792\\3053470904.py:12: SettingWithCopyWarning: \n",
      "A value is trying to be set on a copy of a slice from a DataFrame\n",
      "\n",
      "See the caveats in the documentation: https://pandas.pydata.org/pandas-docs/stable/user_guide/indexing.html#returning-a-view-versus-a-copy\n",
      "  final_test[\"predicted_id\"][i] = list(set(predictions_sample[\"pratilipi_id\"].tolist()[:100]))\n"
     ]
    }
   ],
   "source": [
    "all_item_ids = np.unique(interactions[\"pratilipi_id\"])\n",
    "\n",
    "for i in range(1000):\n",
    "#     try:\n",
    "    user_sample_item_pairs = pd.DataFrame({\n",
    "        \"user_id\": final_test[\"user_id\"][i],\n",
    "        \"pratilipi_id\": all_item_ids\n",
    "    })\n",
    "    predictions_sample = predict(model, dataset, user_sample_item_pairs,item_features_matrix_new )\n",
    "    predictions_sample = merge_interactions(predictions_sample, interactions)\n",
    "    predictions_sample = predictions_sample.sort_values(\"prediction\", ascending=False)\n",
    "    final_test[\"predicted_id\"][i] = list(set(predictions_sample[\"pratilipi_id\"].tolist()[:100]))"
   ]
  },
  {
   "cell_type": "code",
   "execution_count": 45,
   "metadata": {},
   "outputs": [],
   "source": [
    "final_test=final_test[:1000]"
   ]
  },
  {
   "cell_type": "code",
   "execution_count": 46,
   "metadata": {},
   "outputs": [],
   "source": [
    "### For better understanding of the recommendation we will also find category of predicted items\n",
    "g = {\"category_name\":lambda x: list(x)}\n",
    "metadict = metadata.groupby([\"pratilipi_id\"]).agg(g).reset_index()"
   ]
  },
  {
   "cell_type": "code",
   "execution_count": 47,
   "metadata": {},
   "outputs": [
    {
     "data": {
      "text/plain": [
       "(954501, 6)"
      ]
     },
     "execution_count": 47,
     "metadata": {},
     "output_type": "execute_result"
    }
   ],
   "source": [
    "metadata.shape"
   ]
  },
  {
   "cell_type": "code",
   "execution_count": 48,
   "metadata": {},
   "outputs": [],
   "source": [
    "metadict[\"pratilipi_id\"] = metadict.apply(lambda x: abs(x[\"pratilipi_id\"]),axis = 1)"
   ]
  },
  {
   "cell_type": "code",
   "execution_count": 49,
   "metadata": {},
   "outputs": [],
   "source": [
    "dic = {}\n",
    "for i in range(len(metadict)):\n",
    "    dic[metadict[\"pratilipi_id\"][i]] = metadict[\"category_name\"][i]"
   ]
  },
  {
   "cell_type": "code",
   "execution_count": 50,
   "metadata": {},
   "outputs": [],
   "source": [
    "final_test[\"predicted_cat\"] = None"
   ]
  },
  {
   "cell_type": "code",
   "execution_count": 51,
   "metadata": {},
   "outputs": [
    {
     "name": "stderr",
     "output_type": "stream",
     "text": [
      "C:\\Users\\sprat\\AppData\\Local\\Temp\\ipykernel_9792\\179527071.py:5: SettingWithCopyWarning: \n",
      "A value is trying to be set on a copy of a slice from a DataFrame\n",
      "\n",
      "See the caveats in the documentation: https://pandas.pydata.org/pandas-docs/stable/user_guide/indexing.html#returning-a-view-versus-a-copy\n",
      "  final_test[\"predicted_cat\"][i] = list(set(new_lis))\n"
     ]
    }
   ],
   "source": [
    "for i in range(len(final_test)):\n",
    "    new_lis = []\n",
    "    for j in range(len(final_test[\"predicted_id\"][i])):\n",
    "        new_lis = new_lis + dic[final_test[\"predicted_id\"][i][j]]\n",
    "    final_test[\"predicted_cat\"][i] = list(set(new_lis))"
   ]
  },
  {
   "cell_type": "code",
   "execution_count": 52,
   "metadata": {},
   "outputs": [],
   "source": [
    "def jaccard_similarity(list1, list2):\n",
    "    intersection = len(list(set(list1).intersection(list2)))\n",
    "    union = (len(set(list1)) + len(set(list2))) - intersection\n",
    "    return float(intersection) / union"
   ]
  },
  {
   "cell_type": "code",
   "execution_count": 53,
   "metadata": {},
   "outputs": [
    {
     "data": {
      "text/html": [
       "<div>\n",
       "<style scoped>\n",
       "    .dataframe tbody tr th:only-of-type {\n",
       "        vertical-align: middle;\n",
       "    }\n",
       "\n",
       "    .dataframe tbody tr th {\n",
       "        vertical-align: top;\n",
       "    }\n",
       "\n",
       "    .dataframe thead th {\n",
       "        text-align: right;\n",
       "    }\n",
       "</style>\n",
       "<table border=\"1\" class=\"dataframe\">\n",
       "  <thead>\n",
       "    <tr style=\"text-align: right;\">\n",
       "      <th></th>\n",
       "      <th>user_id</th>\n",
       "      <th>pratilipi_id</th>\n",
       "      <th>category_name</th>\n",
       "      <th>predicted_id</th>\n",
       "      <th>predicted_cat</th>\n",
       "    </tr>\n",
       "  </thead>\n",
       "  <tbody>\n",
       "    <tr>\n",
       "      <th>0</th>\n",
       "      <td>3263998672675492</td>\n",
       "      <td>[1377786225588601, 1377786225687358, 137778622...</td>\n",
       "      <td>[shortstories, shortstories, shortstories, sus...</td>\n",
       "      <td>[1377786226439685, 1377786226153480, 137778622...</td>\n",
       "      <td>[horror, moral-inspiring, romance, action-and-...</td>\n",
       "    </tr>\n",
       "    <tr>\n",
       "      <th>1</th>\n",
       "      <td>3264359729373860</td>\n",
       "      <td>[1377786217840312, 1377786217840312, 137778621...</td>\n",
       "      <td>[suspense, novels, romance, novels, romance, s...</td>\n",
       "      <td>[1377786219134467, 1377786216199683, 137778622...</td>\n",
       "      <td>[action-and-adventure, webseries, horror, soci...</td>\n",
       "    </tr>\n",
       "    <tr>\n",
       "      <th>2</th>\n",
       "      <td>3264802291360420</td>\n",
       "      <td>[1377786223781436, 1377786223781436, 137778622...</td>\n",
       "      <td>[horror, suspense, entertainment, entertainmen...</td>\n",
       "      <td>[1377786216201740, 1377786222195733, 137778621...</td>\n",
       "      <td>[action-and-adventure, life, science-fiction, ...</td>\n",
       "    </tr>\n",
       "    <tr>\n",
       "      <th>3</th>\n",
       "      <td>3308162227544740</td>\n",
       "      <td>[1377786227359359, 1377786227359359, 137778622...</td>\n",
       "      <td>[Serieswriting, romance, social]</td>\n",
       "      <td>[1377786226714126, 1377786220894223, 137778621...</td>\n",
       "      <td>[action-and-adventure, Pratilipi-kalamkar-samm...</td>\n",
       "    </tr>\n",
       "    <tr>\n",
       "      <th>4</th>\n",
       "      <td>3314890925580964</td>\n",
       "      <td>[1377786222333773, 1377786222333773, 137778622...</td>\n",
       "      <td>[family, romance, suspense, suspense, romance,...</td>\n",
       "      <td>[1377786221899267, 1377786228003332, 137778622...</td>\n",
       "      <td>[action-and-adventure, life, webseries, horror...</td>\n",
       "    </tr>\n",
       "  </tbody>\n",
       "</table>\n",
       "</div>"
      ],
      "text/plain": [
       "            user_id                                       pratilipi_id  \\\n",
       "0  3263998672675492  [1377786225588601, 1377786225687358, 137778622...   \n",
       "1  3264359729373860  [1377786217840312, 1377786217840312, 137778621...   \n",
       "2  3264802291360420  [1377786223781436, 1377786223781436, 137778622...   \n",
       "3  3308162227544740  [1377786227359359, 1377786227359359, 137778622...   \n",
       "4  3314890925580964  [1377786222333773, 1377786222333773, 137778622...   \n",
       "\n",
       "                                       category_name  \\\n",
       "0  [shortstories, shortstories, shortstories, sus...   \n",
       "1  [suspense, novels, romance, novels, romance, s...   \n",
       "2  [horror, suspense, entertainment, entertainmen...   \n",
       "3                   [Serieswriting, romance, social]   \n",
       "4  [family, romance, suspense, suspense, romance,...   \n",
       "\n",
       "                                        predicted_id  \\\n",
       "0  [1377786226439685, 1377786226153480, 137778622...   \n",
       "1  [1377786219134467, 1377786216199683, 137778622...   \n",
       "2  [1377786216201740, 1377786222195733, 137778621...   \n",
       "3  [1377786226714126, 1377786220894223, 137778621...   \n",
       "4  [1377786221899267, 1377786228003332, 137778622...   \n",
       "\n",
       "                                       predicted_cat  \n",
       "0  [horror, moral-inspiring, romance, action-and-...  \n",
       "1  [action-and-adventure, webseries, horror, soci...  \n",
       "2  [action-and-adventure, life, science-fiction, ...  \n",
       "3  [action-and-adventure, Pratilipi-kalamkar-samm...  \n",
       "4  [action-and-adventure, life, webseries, horror...  "
      ]
     },
     "execution_count": 53,
     "metadata": {},
     "output_type": "execute_result"
    }
   ],
   "source": [
    "final_test.head()"
   ]
  },
  {
   "cell_type": "code",
   "execution_count": 54,
   "metadata": {},
   "outputs": [],
   "source": [
    "final_test[\"jac_score\"] = final_test.apply(lambda x : jaccard_similarity(x[\"pratilipi_id\"],x[\"predicted_id\"]),axis = 1)"
   ]
  },
  {
   "cell_type": "code",
   "execution_count": 55,
   "metadata": {},
   "outputs": [
    {
     "data": {
      "text/plain": [
       "0.02066706369836303"
      ]
     },
     "execution_count": 55,
     "metadata": {},
     "output_type": "execute_result"
    }
   ],
   "source": [
    "final_test[\"jac_score\"].mean()"
   ]
  },
  {
   "cell_type": "code",
   "execution_count": 56,
   "metadata": {},
   "outputs": [],
   "source": [
    "final_test[\"cat_jac_score\"] = final_test.apply(lambda x : jaccard_similarity(x[\"category_name\"],x[\"predicted_cat\"]),axis = 1)"
   ]
  },
  {
   "cell_type": "code",
   "execution_count": 57,
   "metadata": {},
   "outputs": [
    {
     "data": {
      "text/plain": [
       "0.16669303166699856"
      ]
     },
     "execution_count": 57,
     "metadata": {},
     "output_type": "execute_result"
    }
   ],
   "source": [
    "final_test[\"cat_jac_score\"].mean()"
   ]
  },
  {
   "cell_type": "code",
   "execution_count": 58,
   "metadata": {},
   "outputs": [
    {
     "data": {
      "text/html": [
       "<div>\n",
       "<style scoped>\n",
       "    .dataframe tbody tr th:only-of-type {\n",
       "        vertical-align: middle;\n",
       "    }\n",
       "\n",
       "    .dataframe tbody tr th {\n",
       "        vertical-align: top;\n",
       "    }\n",
       "\n",
       "    .dataframe thead th {\n",
       "        text-align: right;\n",
       "    }\n",
       "</style>\n",
       "<table border=\"1\" class=\"dataframe\">\n",
       "  <thead>\n",
       "    <tr style=\"text-align: right;\">\n",
       "      <th></th>\n",
       "      <th>user_id</th>\n",
       "      <th>pratilipi_id</th>\n",
       "      <th>category_name</th>\n",
       "      <th>predicted_id</th>\n",
       "      <th>predicted_cat</th>\n",
       "      <th>jac_score</th>\n",
       "      <th>cat_jac_score</th>\n",
       "    </tr>\n",
       "  </thead>\n",
       "  <tbody>\n",
       "    <tr>\n",
       "      <th>0</th>\n",
       "      <td>3263998672675492</td>\n",
       "      <td>[1377786225588601, 1377786225687358, 137778622...</td>\n",
       "      <td>[shortstories, shortstories, shortstories, sus...</td>\n",
       "      <td>[1377786226439685, 1377786226153480, 137778622...</td>\n",
       "      <td>[horror, moral-inspiring, romance, action-and-...</td>\n",
       "      <td>0.018519</td>\n",
       "      <td>0.294118</td>\n",
       "    </tr>\n",
       "    <tr>\n",
       "      <th>1</th>\n",
       "      <td>3264359729373860</td>\n",
       "      <td>[1377786217840312, 1377786217840312, 137778621...</td>\n",
       "      <td>[suspense, novels, romance, novels, romance, s...</td>\n",
       "      <td>[1377786219134467, 1377786216199683, 137778622...</td>\n",
       "      <td>[action-and-adventure, webseries, horror, soci...</td>\n",
       "      <td>0.027273</td>\n",
       "      <td>0.150000</td>\n",
       "    </tr>\n",
       "    <tr>\n",
       "      <th>2</th>\n",
       "      <td>3264802291360420</td>\n",
       "      <td>[1377786223781436, 1377786223781436, 137778622...</td>\n",
       "      <td>[horror, suspense, entertainment, entertainmen...</td>\n",
       "      <td>[1377786216201740, 1377786222195733, 137778621...</td>\n",
       "      <td>[action-and-adventure, life, science-fiction, ...</td>\n",
       "      <td>0.000000</td>\n",
       "      <td>0.103448</td>\n",
       "    </tr>\n",
       "    <tr>\n",
       "      <th>3</th>\n",
       "      <td>3308162227544740</td>\n",
       "      <td>[1377786227359359, 1377786227359359, 137778622...</td>\n",
       "      <td>[Serieswriting, romance, social]</td>\n",
       "      <td>[1377786226714126, 1377786220894223, 137778621...</td>\n",
       "      <td>[action-and-adventure, Pratilipi-kalamkar-samm...</td>\n",
       "      <td>0.000000</td>\n",
       "      <td>0.064516</td>\n",
       "    </tr>\n",
       "    <tr>\n",
       "      <th>4</th>\n",
       "      <td>3314890925580964</td>\n",
       "      <td>[1377786222333773, 1377786222333773, 137778622...</td>\n",
       "      <td>[family, romance, suspense, suspense, romance,...</td>\n",
       "      <td>[1377786221899267, 1377786228003332, 137778622...</td>\n",
       "      <td>[action-and-adventure, life, webseries, horror...</td>\n",
       "      <td>0.000000</td>\n",
       "      <td>0.157895</td>\n",
       "    </tr>\n",
       "  </tbody>\n",
       "</table>\n",
       "</div>"
      ],
      "text/plain": [
       "            user_id                                       pratilipi_id  \\\n",
       "0  3263998672675492  [1377786225588601, 1377786225687358, 137778622...   \n",
       "1  3264359729373860  [1377786217840312, 1377786217840312, 137778621...   \n",
       "2  3264802291360420  [1377786223781436, 1377786223781436, 137778622...   \n",
       "3  3308162227544740  [1377786227359359, 1377786227359359, 137778622...   \n",
       "4  3314890925580964  [1377786222333773, 1377786222333773, 137778622...   \n",
       "\n",
       "                                       category_name  \\\n",
       "0  [shortstories, shortstories, shortstories, sus...   \n",
       "1  [suspense, novels, romance, novels, romance, s...   \n",
       "2  [horror, suspense, entertainment, entertainmen...   \n",
       "3                   [Serieswriting, romance, social]   \n",
       "4  [family, romance, suspense, suspense, romance,...   \n",
       "\n",
       "                                        predicted_id  \\\n",
       "0  [1377786226439685, 1377786226153480, 137778622...   \n",
       "1  [1377786219134467, 1377786216199683, 137778622...   \n",
       "2  [1377786216201740, 1377786222195733, 137778621...   \n",
       "3  [1377786226714126, 1377786220894223, 137778621...   \n",
       "4  [1377786221899267, 1377786228003332, 137778622...   \n",
       "\n",
       "                                       predicted_cat  jac_score  cat_jac_score  \n",
       "0  [horror, moral-inspiring, romance, action-and-...   0.018519       0.294118  \n",
       "1  [action-and-adventure, webseries, horror, soci...   0.027273       0.150000  \n",
       "2  [action-and-adventure, life, science-fiction, ...   0.000000       0.103448  \n",
       "3  [action-and-adventure, Pratilipi-kalamkar-samm...   0.000000       0.064516  \n",
       "4  [action-and-adventure, life, webseries, horror...   0.000000       0.157895  "
      ]
     },
     "execution_count": 58,
     "metadata": {},
     "output_type": "execute_result"
    }
   ],
   "source": [
    "final_test.head()"
   ]
  },
  {
   "cell_type": "code",
   "execution_count": 59,
   "metadata": {},
   "outputs": [],
   "source": [
    "final_test.to_csv(\"Recommendation.csv\",index = False)"
   ]
  },
  {
   "cell_type": "code",
   "execution_count": null,
   "metadata": {},
   "outputs": [],
   "source": []
  }
 ],
 "metadata": {
  "kernelspec": {
   "display_name": "Python 3 (ipykernel)",
   "language": "python",
   "name": "python3"
  },
  "language_info": {
   "codemirror_mode": {
    "name": "ipython",
    "version": 3
   },
   "file_extension": ".py",
   "mimetype": "text/x-python",
   "name": "python",
   "nbconvert_exporter": "python",
   "pygments_lexer": "ipython3",
   "version": "3.8.5"
  }
 },
 "nbformat": 4,
 "nbformat_minor": 4
}
